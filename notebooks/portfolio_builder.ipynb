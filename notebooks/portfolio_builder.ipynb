{
 "cells": [
  {
   "cell_type": "code",
   "execution_count": 7,
   "metadata": {
    "collapsed": true
   },
   "outputs": [],
   "source": [
    "from collections import defaultdict, OrderedDict\n",
    "from datetime import datetime\n",
    "\n",
    "import numpy as np\n",
    "import pymongo\n",
    "import pandas as pd\n",
    "from sklearn.ensemble import IsolationForest\n",
    "from sklearn.cluster import DBSCAN, KMeans, AgglomerativeClustering"
   ]
  },
  {
   "cell_type": "code",
   "execution_count": 8,
   "outputs": [],
   "source": [
    "\n",
    "\n",
    "class Settings:\n",
    "    MONGODB_SERVER = \"localhost\"\n",
    "    MONGODB_PORT = 27017\n",
    "    MONGODB_DB = \"beautiful_creature\"\n",
    "    MONGODB_INVESTOR_COLLECTION = \"investors\"\n",
    "    MONGODB_PORTFOLIO_COLLECTION = \"portfolios\"\n",
    "\n",
    "    def __getitem__(self, key):\n",
    "        return getattr(self, key)\n",
    "\n",
    "\n",
    "timestamp = datetime.now().strftime(\"%d-%m-%y\")\n",
    "settings = Settings()\n",
    "connection = pymongo.MongoClient(\n",
    "    settings['MONGODB_SERVER'],\n",
    "    settings['MONGODB_PORT']\n",
    ")\n",
    "investor_collection_name = f\"{settings['MONGODB_INVESTOR_COLLECTION']}_{timestamp}\"\n",
    "portfolio_collection_name = f\"{settings['MONGODB_PORTFOLIO_COLLECTION']}_{timestamp}\"\n",
    "db = connection[settings['MONGODB_DB']]\n",
    "investor_collection = db[investor_collection_name]\n",
    "portfolio_collection = db[portfolio_collection_name]\n",
    "investors = list(investor_collection.find({}))\n",
    "investors = {i[\"UserName\"]: i for i in investors}"
   ],
   "metadata": {
    "collapsed": false,
    "pycharm": {
     "name": "#%%\n"
    }
   }
  },
  {
   "cell_type": "code",
   "execution_count": 9,
   "outputs": [],
   "source": [
    "portfols = list(portfolio_collection.find({}))"
   ],
   "metadata": {
    "collapsed": false,
    "pycharm": {
     "name": "#%%\n"
    }
   }
  },
  {
   "cell_type": "code",
   "execution_count": 10,
   "outputs": [],
   "source": [
    "items = defaultdict(list)"
   ],
   "metadata": {
    "collapsed": false,
    "pycharm": {
     "name": "#%%\n"
    }
   }
  },
  {
   "cell_type": "code",
   "execution_count": 11,
   "outputs": [],
   "source": [
    "for p in portfols:\n",
    "    for i in p[\"items\"]:\n",
    "        if i[\"type\"] == \"Buying\":\n",
    "            try:\n",
    "                items[i[\"company_ticker\"]].append(round(float(i[\"invested\"].replace(\"%\", \"\")), 3))\n",
    "            except ValueError as e:\n",
    "                if \"<0.01\" in str(e):\n",
    "                    pass\n",
    "                else:\n",
    "                    raise(e)"
   ],
   "metadata": {
    "collapsed": false,
    "pycharm": {
     "name": "#%%\n"
    }
   }
  },
  {
   "cell_type": "code",
   "execution_count": 12,
   "outputs": [],
   "source": [
    "# basic portfolio settings\n",
    "TOP_N_BY_COUNTS = 100\n",
    "TOP_N_BY_RATIO = 30\n",
    "\n",
    "# weighted portfolio settings\n",
    "TOP_N_BY_VALUE = 30\n",
    "N_CLUSTERS = 10\n",
    "TOP_INVESTORS_WITHIN_CLUSTER = 2"
   ],
   "metadata": {
    "collapsed": false,
    "pycharm": {
     "name": "#%%\n"
    }
   }
  },
  {
   "cell_type": "code",
   "execution_count": 13,
   "outputs": [],
   "source": [
    "stats = []\n",
    "for item in items:\n",
    "    item_stat = {\"item_name\": item, \"count\":len(items[item]),\n",
    "                 \"mean\": np.mean(items[item]), \"std\": np.std(items[item])}\n",
    "    stats.append(item_stat)\n",
    "\n",
    "df = pd.DataFrame.from_records(stats)\n",
    "df[\"std/mean\"] = df[\"std\"] / df[\"mean\"]\n",
    "df = df.set_index(\"item_name\")\n",
    "df = df.sort_values(\"count\",ascending=False).head(TOP_N_BY_COUNTS)"
   ],
   "metadata": {
    "collapsed": false,
    "pycharm": {
     "name": "#%%\n"
    }
   }
  },
  {
   "cell_type": "code",
   "execution_count": 14,
   "outputs": [
    {
     "data": {
      "text/plain": "           count      mean       std  std/mean  portfol_val\nitem_name                                                  \nAMD           65  2.593231  1.662106  0.640940     4.956461\n1810.HK       37  2.464054  1.506671  0.611460     4.709565\nORSTED.CO     24  2.353333  1.532910  0.651378     4.497943\nPDD           25  2.286800  1.344847  0.588091     4.370778\nCSIQ          44  2.240682  1.284837  0.573413     4.282632\nDOYU          35  2.235143  1.463445  0.654743     4.272045\nNIO           50  2.131000  1.396377  0.655268     4.072996\nTSLA          47  2.097021  1.460657  0.696539     4.008052\nBYND          38  2.076579  1.326811  0.638941     3.968981\nDIS           49  2.061837  1.500129  0.727569     3.940804\nNVDA          53  2.044717  1.193286  0.583595     3.908083\nSPOT          22  2.014545  1.329144  0.659774     3.850415\nMELI          27  2.004074  1.294396  0.645882     3.830401\nARKK          29  1.993793  1.407831  0.706107     3.810751\nFXI           18  1.774444  0.947999  0.534251     3.391509\nNTES          17  1.711765  1.034182  0.604161     3.271708\nETSY          24  1.692917  1.084137  0.640396     3.235684\nSEDG          38  1.588158  0.889648  0.560176     3.035458\nENPH          23  1.525652  0.793472  0.520087     2.915990\nCRWD          17  1.464706  1.065320  0.727327     2.799503\nBLDP          18  1.374444  0.721489  0.524932     2.626986\nARKG          24  1.357500  0.817044  0.601874     2.594600\nADA           29  1.356897  0.973657  0.717562     2.593446\nFVRR          18  1.200000  0.862387  0.718656     2.293569\n00981.HK      19  1.198947  0.747099  0.623129     2.291557\nQCOM          31  1.190000  0.703370  0.591067     2.274456\nNEE           17  1.160000  0.648374  0.558943     2.217116\nJNJ           20  1.151500  0.838280  0.727989     2.200870\nMOMO          17  0.994706  0.600893  0.604091     1.901189\nAYX           17  0.981765  0.483605  0.492587     1.876454",
      "text/html": "<div>\n<style scoped>\n    .dataframe tbody tr th:only-of-type {\n        vertical-align: middle;\n    }\n\n    .dataframe tbody tr th {\n        vertical-align: top;\n    }\n\n    .dataframe thead th {\n        text-align: right;\n    }\n</style>\n<table border=\"1\" class=\"dataframe\">\n  <thead>\n    <tr style=\"text-align: right;\">\n      <th></th>\n      <th>count</th>\n      <th>mean</th>\n      <th>std</th>\n      <th>std/mean</th>\n      <th>portfol_val</th>\n    </tr>\n    <tr>\n      <th>item_name</th>\n      <th></th>\n      <th></th>\n      <th></th>\n      <th></th>\n      <th></th>\n    </tr>\n  </thead>\n  <tbody>\n    <tr>\n      <th>AMD</th>\n      <td>65</td>\n      <td>2.593231</td>\n      <td>1.662106</td>\n      <td>0.640940</td>\n      <td>4.956461</td>\n    </tr>\n    <tr>\n      <th>1810.HK</th>\n      <td>37</td>\n      <td>2.464054</td>\n      <td>1.506671</td>\n      <td>0.611460</td>\n      <td>4.709565</td>\n    </tr>\n    <tr>\n      <th>ORSTED.CO</th>\n      <td>24</td>\n      <td>2.353333</td>\n      <td>1.532910</td>\n      <td>0.651378</td>\n      <td>4.497943</td>\n    </tr>\n    <tr>\n      <th>PDD</th>\n      <td>25</td>\n      <td>2.286800</td>\n      <td>1.344847</td>\n      <td>0.588091</td>\n      <td>4.370778</td>\n    </tr>\n    <tr>\n      <th>CSIQ</th>\n      <td>44</td>\n      <td>2.240682</td>\n      <td>1.284837</td>\n      <td>0.573413</td>\n      <td>4.282632</td>\n    </tr>\n    <tr>\n      <th>DOYU</th>\n      <td>35</td>\n      <td>2.235143</td>\n      <td>1.463445</td>\n      <td>0.654743</td>\n      <td>4.272045</td>\n    </tr>\n    <tr>\n      <th>NIO</th>\n      <td>50</td>\n      <td>2.131000</td>\n      <td>1.396377</td>\n      <td>0.655268</td>\n      <td>4.072996</td>\n    </tr>\n    <tr>\n      <th>TSLA</th>\n      <td>47</td>\n      <td>2.097021</td>\n      <td>1.460657</td>\n      <td>0.696539</td>\n      <td>4.008052</td>\n    </tr>\n    <tr>\n      <th>BYND</th>\n      <td>38</td>\n      <td>2.076579</td>\n      <td>1.326811</td>\n      <td>0.638941</td>\n      <td>3.968981</td>\n    </tr>\n    <tr>\n      <th>DIS</th>\n      <td>49</td>\n      <td>2.061837</td>\n      <td>1.500129</td>\n      <td>0.727569</td>\n      <td>3.940804</td>\n    </tr>\n    <tr>\n      <th>NVDA</th>\n      <td>53</td>\n      <td>2.044717</td>\n      <td>1.193286</td>\n      <td>0.583595</td>\n      <td>3.908083</td>\n    </tr>\n    <tr>\n      <th>SPOT</th>\n      <td>22</td>\n      <td>2.014545</td>\n      <td>1.329144</td>\n      <td>0.659774</td>\n      <td>3.850415</td>\n    </tr>\n    <tr>\n      <th>MELI</th>\n      <td>27</td>\n      <td>2.004074</td>\n      <td>1.294396</td>\n      <td>0.645882</td>\n      <td>3.830401</td>\n    </tr>\n    <tr>\n      <th>ARKK</th>\n      <td>29</td>\n      <td>1.993793</td>\n      <td>1.407831</td>\n      <td>0.706107</td>\n      <td>3.810751</td>\n    </tr>\n    <tr>\n      <th>FXI</th>\n      <td>18</td>\n      <td>1.774444</td>\n      <td>0.947999</td>\n      <td>0.534251</td>\n      <td>3.391509</td>\n    </tr>\n    <tr>\n      <th>NTES</th>\n      <td>17</td>\n      <td>1.711765</td>\n      <td>1.034182</td>\n      <td>0.604161</td>\n      <td>3.271708</td>\n    </tr>\n    <tr>\n      <th>ETSY</th>\n      <td>24</td>\n      <td>1.692917</td>\n      <td>1.084137</td>\n      <td>0.640396</td>\n      <td>3.235684</td>\n    </tr>\n    <tr>\n      <th>SEDG</th>\n      <td>38</td>\n      <td>1.588158</td>\n      <td>0.889648</td>\n      <td>0.560176</td>\n      <td>3.035458</td>\n    </tr>\n    <tr>\n      <th>ENPH</th>\n      <td>23</td>\n      <td>1.525652</td>\n      <td>0.793472</td>\n      <td>0.520087</td>\n      <td>2.915990</td>\n    </tr>\n    <tr>\n      <th>CRWD</th>\n      <td>17</td>\n      <td>1.464706</td>\n      <td>1.065320</td>\n      <td>0.727327</td>\n      <td>2.799503</td>\n    </tr>\n    <tr>\n      <th>BLDP</th>\n      <td>18</td>\n      <td>1.374444</td>\n      <td>0.721489</td>\n      <td>0.524932</td>\n      <td>2.626986</td>\n    </tr>\n    <tr>\n      <th>ARKG</th>\n      <td>24</td>\n      <td>1.357500</td>\n      <td>0.817044</td>\n      <td>0.601874</td>\n      <td>2.594600</td>\n    </tr>\n    <tr>\n      <th>ADA</th>\n      <td>29</td>\n      <td>1.356897</td>\n      <td>0.973657</td>\n      <td>0.717562</td>\n      <td>2.593446</td>\n    </tr>\n    <tr>\n      <th>FVRR</th>\n      <td>18</td>\n      <td>1.200000</td>\n      <td>0.862387</td>\n      <td>0.718656</td>\n      <td>2.293569</td>\n    </tr>\n    <tr>\n      <th>00981.HK</th>\n      <td>19</td>\n      <td>1.198947</td>\n      <td>0.747099</td>\n      <td>0.623129</td>\n      <td>2.291557</td>\n    </tr>\n    <tr>\n      <th>QCOM</th>\n      <td>31</td>\n      <td>1.190000</td>\n      <td>0.703370</td>\n      <td>0.591067</td>\n      <td>2.274456</td>\n    </tr>\n    <tr>\n      <th>NEE</th>\n      <td>17</td>\n      <td>1.160000</td>\n      <td>0.648374</td>\n      <td>0.558943</td>\n      <td>2.217116</td>\n    </tr>\n    <tr>\n      <th>JNJ</th>\n      <td>20</td>\n      <td>1.151500</td>\n      <td>0.838280</td>\n      <td>0.727989</td>\n      <td>2.200870</td>\n    </tr>\n    <tr>\n      <th>MOMO</th>\n      <td>17</td>\n      <td>0.994706</td>\n      <td>0.600893</td>\n      <td>0.604091</td>\n      <td>1.901189</td>\n    </tr>\n    <tr>\n      <th>AYX</th>\n      <td>17</td>\n      <td>0.981765</td>\n      <td>0.483605</td>\n      <td>0.492587</td>\n      <td>1.876454</td>\n    </tr>\n  </tbody>\n</table>\n</div>"
     },
     "execution_count": 14,
     "metadata": {},
     "output_type": "execute_result"
    }
   ],
   "source": [
    "portfol_basic = df.sort_values(\"count\",ascending=False).sort_values(\"std/mean\").head(TOP_N_BY_RATIO)\n",
    "portfol_basic[\"portfol_val\"] = portfol_basic[\"mean\"] * 100 / portfol_basic[\"mean\"].sum()\n",
    "portfol_basic.sort_values(\"portfol_val\",ascending=False)"
   ],
   "metadata": {
    "collapsed": false,
    "pycharm": {
     "name": "#%%\n"
    }
   }
  },
  {
   "cell_type": "code",
   "execution_count": 15,
   "outputs": [
    {
     "data": {
      "text/plain": "[('JeppeKirkBonde', 4.25, 'CNC'),\n ('JeppeKirkBonde', 3.79, 'NDA.DE'),\n ('JeppeKirkBonde', 3.7, 'AMZN'),\n ('JeppeKirkBonde', 4.0, 'NTDOY'),\n ('JeppeKirkBonde', 3.21, 'TLRY'),\n ('JeppeKirkBonde', 3.47, 'LDOS'),\n ('JeppeKirkBonde', 2.63, 'NBIX'),\n ('JeppeKirkBonde', 3.52, 'FB'),\n ('JeppeKirkBonde', 3.25, 'NTES'),\n ('JeppeKirkBonde', 2.44, '00257.HK'),\n ('JeppeKirkBonde', 4.41, 'GOOG'),\n ('JeppeKirkBonde', 2.56, 'FSLR'),\n ('JeppeKirkBonde', 2.09, 'SOBI.ST'),\n ('JeppeKirkBonde', 2.31, 'FXPO.L'),\n ('JeppeKirkBonde', 1.68, 'VRTX'),\n ('JeppeKirkBonde', 2.87, 'UBSG.ZU'),\n ('JeppeKirkBonde', 2.99, 'INDA'),\n ('JeppeKirkBonde', 1.54, 'ZEPP'),\n ('JeppeKirkBonde', 2.48, 'NVTKL.L'),\n ('JeppeKirkBonde', 2.01, 'SMSN.L'),\n ('JeppeKirkBonde', 1.56, 'CRSR'),\n ('JeppeKirkBonde', 2.48, 'BLK'),\n ('JeppeKirkBonde', 1.99, 'AAPL'),\n ('JeppeKirkBonde', 2.07, 'HUSQB.ST'),\n ('JeppeKirkBonde', 1.51, 'WY'),\n ('JeppeKirkBonde', 1.44, 'TRIG.L'),\n ('JeppeKirkBonde', 2.85, 'CDI.PA'),\n ('JeppeKirkBonde', 1.31, 'INTC'),\n ('JeppeKirkBonde', 1.24, 'ATVI'),\n ('JeppeKirkBonde', 0.72, 'AYX'),\n ('JeppeKirkBonde', 1.54, '1810.HK'),\n ('JeppeKirkBonde', 1.34, 'JPM'),\n ('JeppeKirkBonde', 1.1, 'SEDG'),\n ('JeppeKirkBonde', 0.88, 'HYG'),\n ('JeppeKirkBonde', 1.07, 'MSFT'),\n ('JeppeKirkBonde', 0.86, 'DANSKE.CO'),\n ('JeppeKirkBonde', 1.36, 'NVDA'),\n ('JeppeKirkBonde', 0.95, 'SPY'),\n ('JeppeKirkBonde', 0.91, 'SWDA.L'),\n ('JeppeKirkBonde', 1.75, 'GNRC'),\n ('JeppeKirkBonde', 0.74, 'JNK'),\n ('JeppeKirkBonde', 0.89, 'SONY'),\n ('JeppeKirkBonde', 0.74, 'VALE'),\n ('JeppeKirkBonde', 0.84, 'HAS'),\n ('JeppeKirkBonde', 0.67, 'RBLX'),\n ('JeppeKirkBonde', 0.46, 'LMT'),\n ('JeppeKirkBonde', 0.45, 'CHKP'),\n ('JeppeKirkBonde', 0.49, 'RHM.DE'),\n ('JeppeKirkBonde', 0.41, 'SLV'),\n ('JeppeKirkBonde', 0.73, 'MC.PA'),\n ('JeppeKirkBonde', 0.62, 'KER.PA'),\n ('JeppeKirkBonde', 0.4, 'ORSTED.CO'),\n ('JeppeKirkBonde', 0.61, 'TSLA'),\n ('JeppeKirkBonde', 0.57, 'PLTR'),\n ('JeppeKirkBonde', 0.51, 'BTC'),\n ('rubymza', 4.65, 'AMZN'),\n ('rubymza', 3.78, 'MU'),\n ('rubymza', 3.94, 'AMD'),\n ('rubymza', 3.9, 'MSFT'),\n ('rubymza', 3.24, 'SE'),\n ('rubymza', 3.29, 'GOOG'),\n ('rubymza', 3.07, 'BBOX.L'),\n ('rubymza', 2.74, 'TDOC'),\n ('rubymza', 1.71, 'BTC'),\n ('rubymza', 2.54, 'FB'),\n ('rubymza', 2.26, 'PYPL'),\n ('rubymza', 1.88, 'ORSTED.CO'),\n ('rubymza', 2.13, 'AAPL'),\n ('rubymza', 1.7, 'TSLA'),\n ('rubymza', 1.46, 'BIDU'),\n ('rubymza', 1.64, 'BABA'),\n ('rubymza', 1.88, 'LRCX'),\n ('rubymza', 1.88, 'FXPO.L'),\n ('rubymza', 1.43, 'BLDP'),\n ('rubymza', 1.86, 'MELI'),\n ('rubymza', 0.96, 'ETHEREUM'),\n ('rubymza', 1.48, 'PSN.L'),\n ('rubymza', 1.53, 'VALE'),\n ('rubymza', 1.66, 'NVDA'),\n ('rubymza', 1.42, 'CVS'),\n ('rubymza', 1.45, 'WFC'),\n ('rubymza', 1.47, 'FCX'),\n ('rubymza', 1.47, 'CRM'),\n ('rubymza', 1.33, 'IBST.L'),\n ('rubymza', 1.43, 'GLD'),\n ('rubymza', 1.17, 'PDD'),\n ('rubymza', 1.46, 'BLDR'),\n ('rubymza', 1.06, 'COIN'),\n ('rubymza', 1.39, 'COCP'),\n ('rubymza', 1.2, 'ZM'),\n ('rubymza', 0.63, 'BNB'),\n ('rubymza', 0.98, 'OSTK'),\n ('rubymza', 0.9, 'SGRE.MC'),\n ('rubymza', 1.14, 'GDX'),\n ('rubymza', 0.86, 'BLNK'),\n ('rubymza', 0.84, 'EVFM'),\n ('rubymza', 0.69, 'DIS'),\n ('rubymza', 0.74, 'V'),\n ('rubymza', 0.76, 'QCOM'),\n ('rubymza', 0.67, 'LGEN.L'),\n ('rubymza', 0.71, 'FTCH'),\n ('rubymza', 0.74, 'CSIQ'),\n ('rubymza', 0.61, 'NVTA'),\n ('rubymza', 0.34, 'XRP'),\n ('Wesl3y', 6.33, 'BABA'),\n ('Wesl3y', 6.1, 'MU'),\n ('Wesl3y', 6.26, 'AMZN'),\n ('Wesl3y', 6.14, 'AMD'),\n ('Wesl3y', 3.37, 'BIDU'),\n ('Wesl3y', 3.24, 'DIS'),\n ('Wesl3y', 3.37, 'ASC.L'),\n ('Wesl3y', 4.54, 'FB'),\n ('Wesl3y', 3.28, 'CSIQ'),\n ('Wesl3y', 2.72, 'DISCA'),\n ('Wesl3y', 2.55, 'CINE.L'),\n ('Wesl3y', 2.78, 'SU'),\n ('Wesl3y', 2.54, 'RR.L'),\n ('Wesl3y', 1.87, 'ZEPP'),\n ('Wesl3y', 2.84, 'FSLR'),\n ('Wesl3y', 2.45, 'SEDG'),\n ('Wesl3y', 1.58, 'DOYU'),\n ('Wesl3y', 1.97, 'GDXJ'),\n ('Wesl3y', 2.06, 'IWG.L'),\n ('Wesl3y', 1.75, 'GOLD.BARRICK'),\n ('Wesl3y', 1.62, 'NVTA'),\n ('Wesl3y', 2.33, 'MSFT'),\n ('Wesl3y', 1.85, 'EZJ.L'),\n ('Wesl3y', 1.6, 'CRSR'),\n ('Wesl3y', 1.68, 'CRM'),\n ('Wesl3y', 1.26, 'UEIC'),\n ('Wesl3y', 1.5, 'F'),\n ('Wesl3y', 1.6, 'MELI'),\n ('Wesl3y', 1.15, 'FXPO.L'),\n ('Wesl3y', 1.07, 'OCDO.L'),\n ('Wesl3y', 1.24, 'QFIN'),\n ('Wesl3y', 1.02, 'LRCX'),\n ('Wesl3y', 0.94, 'BTC'),\n ('Wesl3y', 0.89, 'NEX.L'),\n ('Wesl3y', 0.91, 'INTC'),\n ('Wesl3y', 0.99, 'STM.PA'),\n ('Wesl3y', 0.84, 'ETHEREUM'),\n ('Wesl3y', 1.23, 'GOOG'),\n ('Wesl3y', 0.9, 'JD.US'),\n ('Wesl3y', 0.89, 'MOMO'),\n ('Wesl3y', 0.91, 'CQQQ'),\n ('Wesl3y', 0.98, 'RTX'),\n ('Wesl3y', 0.96, 'BMY'),\n ('Wesl3y', 1.05, 'NLOK'),\n ('Wesl3y', 0.55, 'ARKG'),\n ('Wesl3y', 0.49, 'AYRO'),\n ('Wesl3y', 0.45, 'DAL'),\n ('Wesl3y', 0.51, 'UVXY'),\n ('Wesl3y', 0.48, 'QD'),\n ('CPHequities', 6.96, 'GOOG'),\n ('CPHequities', 7.04, 'FB'),\n ('CPHequities', 6.24, 'BRK.B'),\n ('CPHequities', 6.78, 'MSFT'),\n ('CPHequities', 6.59, 'AMZN'),\n ('CPHequities', 6.34, 'MELI'),\n ('CPHequities', 5.96, 'SE'),\n ('CPHequities', 3.71, 'FCX'),\n ('CPHequities', 5.09, 'FTNT'),\n ('CPHequities', 4.33, 'MC.PA'),\n ('CPHequities', 4.1, 'GLEN.L'),\n ('CPHequities', 3.75, 'BAC'),\n ('CPHequities', 3.7, 'JPM'),\n ('CPHequities', 3.52, 'MA'),\n ('CPHequities', 2.71, 'GLD'),\n ('CPHequities', 2.88, 'DIA'),\n ('CPHequities', 2.73, 'PYPL'),\n ('CPHequities', 2.64, 'SQ'),\n ('CPHequities', 2.43, 'DJP'),\n ('CPHequities', 2.78, 'CRWD'),\n ('CPHequities', 3.16, 'NET'),\n ('CPHequities', 2.06, 'V'),\n ('CPHequities', 1.48, 'ATVI'),\n ('CPHequities', 1.03, 'SIG'),\n ('CPHequities', 0.97, 'TREX'),\n ('Richardstroud', 5.0, 'C'),\n ('Richardstroud', 6.22, 'TGT'),\n ('Richardstroud', 2.77, 'GLD'),\n ('Richardstroud', 2.93, 'PLUS'),\n ('Richardstroud', 3.15, 'PG'),\n ('Richardstroud', 2.84, 'VOW3.DE'),\n ('Richardstroud', 2.55, 'RIO.L'),\n ('Richardstroud', 3.09, 'CSIQ'),\n ('Richardstroud', 2.95, 'DIS'),\n ('Richardstroud', 3.66, '0968.HK'),\n ('Richardstroud', 2.71, 'THO'),\n ('Richardstroud', 2.42, 'LGEN.L'),\n ('Richardstroud', 3.09, 'ADM'),\n ('Richardstroud', 2.68, 'SPGI'),\n ('Richardstroud', 2.48, 'NKE'),\n ('Richardstroud', 2.14, 'NXT.L'),\n ('Richardstroud', 2.59, 'PETS.L'),\n ('Richardstroud', 1.97, 'ORSTED.CO'),\n ('Richardstroud', 2.01, 'POLY.L'),\n ('Richardstroud', 1.85, 'XBI'),\n ('Richardstroud', 2.13, 'QSR'),\n ('Richardstroud', 2.52, 'NESTE.HE'),\n ('Richardstroud', 2.1, 'SIE.DE'),\n ('Richardstroud', 1.58, 'GSK.L'),\n ('Richardstroud', 1.76, 'BNZL.L'),\n ('Richardstroud', 1.7, 'FXPO.L'),\n ('Richardstroud', 1.93, 'XLE'),\n ('Richardstroud', 2.12, 'V'),\n ('Richardstroud', 1.7, 'BABA'),\n ('Richardstroud', 2.08, 'DOCU'),\n ('Richardstroud', 2.02, 'OGZDL.L'),\n ('Richardstroud', 1.7, 'CWK.L'),\n ('Richardstroud', 1.43, 'SAN.PA'),\n ('Richardstroud', 1.58, 'QCOM'),\n ('Richardstroud', 1.5, 'TSN'),\n ('Richardstroud', 2.09, 'MSFT'),\n ('Richardstroud', 1.55, 'USB'),\n ('Richardstroud', 1.25, 'HBAN'),\n ('Richardstroud', 1.36, 'AMZN'),\n ('Richardstroud', 1.68, '0700.HK'),\n ('Richardstroud', 0.78, 'CODX'),\n ('Richardstroud', 1.33, 'RGEN'),\n ('Richardstroud', 0.88, 'SQ'),\n ('Richardstroud', 0.99, 'CHWY'),\n ('Richardstroud', 0.8, 'CSCO'),\n ('Richardstroud', 0.31, 'BIDU'),\n ('eddyb123', 5.1, 'GLD'),\n ('eddyb123', 4.87, 'GOOG'),\n ('eddyb123', 4.9, 'CRM'),\n ('eddyb123', 3.71, 'ISF.L'),\n ('eddyb123', 4.7, 'FB'),\n ('eddyb123', 3.37, 'AMZN'),\n ('eddyb123', 3.77, 'MSFT'),\n ('eddyb123', 3.24, 'FEYE'),\n ('eddyb123', 2.32, 'ADA'),\n ('eddyb123', 1.83, 'CHKP'),\n ('eddyb123', 2.46, 'BYND'),\n ('eddyb123', 1.86, 'PYPL'),\n ('eddyb123', 1.68, 'SQ'),\n ('eddyb123', 1.65, 'CYBR'),\n ('eddyb123', 2.19, 'TEAM'),\n ('eddyb123', 1.01, 'TME'),\n ('eddyb123', 1.49, '3888.HK'),\n ('eddyb123', 1.85, 'SNOW'),\n ('eddyb123', 1.76, 'OTLY'),\n ('eddyb123', 2.1, 'NFLX'),\n ('eddyb123', 1.02, 'BIDU'),\n ('eddyb123', 1.18, 'CRON'),\n ('eddyb123', 1.39, 'UBER'),\n ('eddyb123', 1.26, 'SEDG'),\n ('eddyb123', 1.0, '0968.HK'),\n ('eddyb123', 1.7, 'NET'),\n ('eddyb123', 1.34, 'SUMO'),\n ('eddyb123', 2.59, 'ETHEREUM'),\n ('eddyb123', 1.27, 'SPOT'),\n ('eddyb123', 1.32, 'FSLR'),\n ('eddyb123', 0.7, 'CRBP'),\n ('eddyb123', 1.08, 'AMD'),\n ('eddyb123', 1.17, '0700.HK'),\n ('eddyb123', 0.85, 'CSIQ'),\n ('eddyb123', 1.24, 'PTON'),\n ('eddyb123', 0.97, 'BABA'),\n ('eddyb123', 1.1, 'JD.US'),\n ('eddyb123', 0.71, '00241.HK'),\n ('eddyb123', 1.38, 'FVRR'),\n ('eddyb123', 0.88, 'U'),\n ('eddyb123', 0.65, 'CARA'),\n ('eddyb123', 0.7, 'ZYNE'),\n ('eddyb123', 0.68, 'HAIN'),\n ('MarianoPardo', 6.56, 'AMZN'),\n ('MarianoPardo', 7.05, 'MSFT'),\n ('MarianoPardo', 3.56, 'DIS'),\n ('MarianoPardo', 4.66, 'AAPL'),\n ('MarianoPardo', 4.02, 'AMD'),\n ('MarianoPardo', 3.38, 'MA'),\n ('MarianoPardo', 3.35, 'V'),\n ('MarianoPardo', 4.25, 'GOOG'),\n ('MarianoPardo', 2.43, 'JD.US'),\n ('MarianoPardo', 2.62, 'SQ'),\n ('MarianoPardo', 1.63, 'DOYU'),\n ('MarianoPardo', 2.73, 'VEEV'),\n ('MarianoPardo', 2.11, 'CRSR'),\n ('MarianoPardo', 2.06, 'BABA'),\n ('MarianoPardo', 2.32, 'TWTR'),\n ('MarianoPardo', 2.64, 'ADBE'),\n ('MarianoPardo', 3.26, 'PYPL'),\n ('MarianoPardo', 3.12, 'NVDA'),\n ('MarianoPardo', 2.17, 'TDOC'),\n ('MarianoPardo', 2.2, 'CRM'),\n ('MarianoPardo', 2.65, 'MDB'),\n ('MarianoPardo', 1.89, 'BA'),\n ('MarianoPardo', 2.83, 'NET'),\n ('MarianoPardo', 2.1, 'AIR.PA'),\n ('MarianoPardo', 2.18, 'NIO'),\n ('MarianoPardo', 2.13, 'ESTC'),\n ('MarianoPardo', 2.57, 'SHOP'),\n ('MarianoPardo', 1.82, 'ABNB'),\n ('MarianoPardo', 1.54, 'TSLA'),\n ('MarianoPardo', 1.47, 'VRTX'),\n ('MarianoPardo', 1.87, 'FB'),\n ('MarianoPardo', 1.57, 'SEDG'),\n ('MarianoPardo', 1.35, 'EXPE'),\n ('MarianoPardo', 1.4, 'QCOM'),\n ('MarianoPardo', 1.44, 'MELI'),\n ('MarianoPardo', 0.95, 'ADSK'),\n ('MarianoPardo', 1.18, 'U'),\n ('MarianoPardo', 0.93, 'JPM'),\n ('MarianoPardo', 0.78, '0700.HK'),\n ('GreenbullInvest', 2.06, 'T'),\n ('GreenbullInvest', 2.42, 'TTE.PA'),\n ('GreenbullInvest', 1.27, 'GOOG'),\n ('GreenbullInvest', 1.8, 'AAPL'),\n ('GreenbullInvest', 1.69, 'FB'),\n ('GreenbullInvest', 1.55, 'MSFT'),\n ('GreenbullInvest', 1.42, 'AMZN'),\n ('GreenbullInvest', 1.1, 'CVX'),\n ('GreenbullInvest', 1.08, 'KO'),\n ('GreenbullInvest', 0.9, 'MRK'),\n ('GreenbullInvest', 1.53, 'ADBE'),\n ('GreenbullInvest', 1.03, 'BABA'),\n ('GreenbullInvest', 0.91, 'BN.PA'),\n ('GreenbullInvest', 0.92, 'SAN.PA'),\n ('GreenbullInvest', 1.13, 'RDS.B'),\n ('GreenbullInvest', 1.41, 'WFC'),\n ('GreenbullInvest', 0.97, 'ULVR.L'),\n ('GreenbullInvest', 1.01, 'NVS'),\n ('GreenbullInvest', 1.2, 'AVB'),\n ('GreenbullInvest', 1.08, 'O'),\n ('GreenbullInvest', 0.87, 'RUI.PA'),\n ('GreenbullInvest', 0.98, 'PLTR'),\n ('GreenbullInvest', 0.92, 'DBX'),\n ('GreenbullInvest', 0.8, 'FTCV'),\n ('GreenbullInvest', 0.6, 'NIO'),\n ('GreenbullInvest', 0.62, 'BTC'),\n ('GreenbullInvest', 0.63, 'ETHEREUM'),\n ('GreenbullInvest', 0.62, 'XRP'),\n ('GreenbullInvest', 0.62, 'ADA'),\n ('GreenbullInvest', 0.62, 'BNB'),\n ('GreenbullInvest', 0.81, 'NVDA'),\n ('GreenbullInvest', 1.13, 'SGO.PA'),\n ('GreenbullInvest', 0.74, 'BRK.B'),\n ('GreenbullInvest', 0.94, 'BNP.PA'),\n ('GreenbullInvest', 0.78, 'BAC'),\n ('GreenbullInvest', 0.87, 'CAT'),\n ('GreenbullInvest', 0.75, 'JPM'),\n ('GreenbullInvest', 0.59, 'MCD'),\n ('GreenbullInvest', 0.61, 'MMM'),\n ('GreenbullInvest', 0.7, 'XOM'),\n ('GreenbullInvest', 0.62, 'V'),\n ('GreenbullInvest', 0.78, 'UBER'),\n ('GreenbullInvest', 0.81, 'SIE.DE'),\n ('GreenbullInvest', 0.62, 'CS.PA'),\n ('GreenbullInvest', 0.58, 'DG.PA'),\n ('GreenbullInvest', 0.85, 'MC.PA'),\n ('GreenbullInvest', 0.81, 'SU.PA'),\n ('GreenbullInvest', 0.65, 'SLHN.ZU'),\n ('GreenbullInvest', 0.59, 'ZURN.ZU'),\n ('GreenbullInvest', 0.65, 'ABBV'),\n ('GreenbullInvest', 0.78, 'HON'),\n ('GreenbullInvest', 0.62, 'SYY'),\n ('GreenbullInvest', 0.65, 'GD'),\n ('GreenbullInvest', 0.79, 'EMR'),\n ('GreenbullInvest', 0.86, 'WHR'),\n ('GreenbullInvest', 0.74, 'GPC'),\n ('GreenbullInvest', 0.65, 'VFC'),\n ('GreenbullInvest', 0.69, 'CINF'),\n ('GreenbullInvest', 0.83, 'TROW'),\n ('GreenbullInvest', 0.69, 'LEG'),\n ('GreenbullInvest', 0.88, 'ETN'),\n ('GreenbullInvest', 0.75, 'ADM'),\n ('GreenbullInvest', 0.67, 'LI.PA'),\n ('GreenbullInvest', 0.67, 'FRT'),\n ('Miyoshi', 10.13, 'AMZN'),\n ('Miyoshi', 6.17, 'JD.US'),\n ('Miyoshi', 6.02, 'SQ'),\n ('Miyoshi', 5.14, 'CRSR'),\n ('Miyoshi', 4.11, 'AMD'),\n ('Miyoshi', 4.06, 'MSFT'),\n ('Miyoshi', 3.12, 'AAPL'),\n ('Miyoshi', 2.95, 'DIS'),\n ('Miyoshi', 2.79, 'NTDOY'),\n ('Miyoshi', 2.01, 'SPY5.L'),\n ('Miyoshi', 2.01, 'CNDX'),\n ('Miyoshi', 1.9, 'U'),\n ('Miyoshi', 1.74, '9618.HK'),\n ('Miyoshi', 1.61, 'TWTR'),\n ('Miyoshi', 1.39, '0700.HK'),\n ('Miyoshi', 1.38, 'PYPL'),\n ('Miyoshi', 1.07, 'BTC'),\n ('Miyoshi', 0.95, 'LMT'),\n ('Miyoshi', 0.91, '9988.HK'),\n ('Miyoshi', 0.95, 'SE'),\n ('Miyoshi', 0.82, 'COIN'),\n ('Miyoshi', 0.79, 'SONY'),\n ('Miyoshi', 0.69, 'ATVI'),\n ('Miyoshi', 0.52, 'FB'),\n ('Miyoshi', 0.48, 'ZM'),\n ('Miyoshi', 0.46, 'DKNG'),\n ('Miyoshi', 0.42, 'TSLA'),\n ('Miyoshi', 0.42, 'TSM'),\n ('Miyoshi', 0.39, 'ETSY'),\n ('Miyoshi', 0.37, 'NFLX'),\n ('Miyoshi', 0.35, 'TDOC'),\n ('Miyoshi', 0.34, 'TTWO'),\n ('Miyoshi', 0.32, 'GOOG'),\n ('Miyoshi', 0.32, 'SMSN.L'),\n ('Miyoshi', 0.31, '03690.HK'),\n ('Miyoshi', 0.3, 'PTON'),\n ('Miyoshi', 0.31, 'GLDM'),\n ('SparkLiang', 12.35, '9988.HK'),\n ('SparkLiang', 20.3, 'SHOP'),\n ('SparkLiang', 8.64, 'FB'),\n ('SparkLiang', 7.69, 'AAPL'),\n ('SparkLiang', 5.44, 'DIS'),\n ('SparkLiang', 3.62, 'BABA'),\n ('SparkLiang', 3.36, 'ZM'),\n ('SparkLiang', 2.31, 'ABNB'),\n ('SparkLiang', 5.17, 'JD.US'),\n ('SparkLiang', 3.15, 'MA'),\n ('SparkLiang', 3.05, 'V'),\n ('SparkLiang', 3.12, 'SBUX'),\n ('SparkLiang', 3.55, 'PYPL'),\n ('SparkLiang', 1.02, 'NFLX'),\n ('SparkLiang', 0.8, 'FXI'),\n ('CanZhao', 19.76, '00175.HK'),\n ('CanZhao', 8.36, '06862.HK'),\n ('CanZhao', 6.09, '06060.HK'),\n ('CanZhao', 5.0, 'ET'),\n ('CanZhao', 4.98, 'HFC'),\n ('CanZhao', 5.25, 'RRD'),\n ('CanZhao', 4.68, 'BBBY'),\n ('CanZhao', 5.21, 'CNP'),\n ('CanZhao', 6.16, 'CLR'),\n ('CanZhao', 4.4, 'XXII'),\n ('CanZhao', 5.41, 'RIG'),\n ('CanZhao', 4.45, '0998.HK'),\n ('CanZhao', 1.5, 'UONE'),\n ('CanZhao', 1.45, 'EDU'),\n ('pino428', 6.0, 'ENI.MI'),\n ('pino428', 4.68, '9988.HK'),\n ('pino428', 5.41, 'AMZN'),\n ('pino428', 4.16, 'ULVR.L'),\n ('pino428', 4.07, '0968.HK'),\n ('pino428', 4.17, 'ILMN'),\n ('pino428', 3.25, 'LTC.US'),\n ('pino428', 3.67, 'MAIN'),\n ('pino428', 3.32, 'JNJ'),\n ('pino428', 3.4, 'MA'),\n ('pino428', 3.18, 'V'),\n ('pino428', 2.78, 'RUN'),\n ('pino428', 2.83, 'PEP'),\n ('pino428', 2.77, 'SEDG'),\n ('pino428', 2.99, 'WELL'),\n ('pino428', 2.64, 'NESN.ZU'),\n ('pino428', 1.95, '2318.HK'),\n ('pino428', 2.32, 'PG'),\n ('pino428', 2.14, 'KO'),\n ('pino428', 1.87, 'MCD'),\n ('pino428', 1.67, 'KMB'),\n ('pino428', 1.88, 'ISRG'),\n ('RobertMERC', 7.3, 'REGN'),\n ('RobertMERC', 7.14, 'DBX'),\n ('RobertMERC', 3.83, 'BTC'),\n ('RobertMERC', 5.01, 'GOLD.BARRICK'),\n ('RobertMERC', 5.12, 'DISCA'),\n ('RobertMERC', 4.56, 'MU'),\n ('RobertMERC', 4.84, 'AMD'),\n ('RobertMERC', 4.51, 'AMZN'),\n ('RobertMERC', 4.78, 'FB'),\n ('RobertMERC', 4.0, 'LMT'),\n ('RobertMERC', 3.51, 'FISV'),\n ('RobertMERC', 3.92, 'PAH3.DE'),\n ('RobertMERC', 4.71, 'SWN'),\n ('RobertMERC', 3.5, 'NBIX'),\n ('RobertMERC', 4.65, 'ET'),\n ('RobertMERC', 3.16, 'PLTR'),\n ('RobertMERC', 3.07, 'SU'),\n ('RobertMERC', 2.75, 'WBA'),\n ('RobertMERC', 3.07, 'TAN'),\n ('RobertMERC', 2.98, 'GPRO'),\n ('RobertMERC', 2.92, 'LUV'),\n ('RobertMERC', 2.93, 'BMY'),\n ('RobertMERC', 2.44, 'OSTK'),\n ('RobertMERC', 2.67, 'NOK'),\n ('RobertMERC', 1.98, 'LVS'),\n ('RobertMERC', 0.58, 'NNDM'),\n ('Social-Investor', 6.27, 'AAPL'),\n ('Social-Investor', 4.43, 'GOLD.BARRICK'),\n ('Social-Investor', 4.78, 'NEM'),\n ('Social-Investor', 5.52, 'MSFT'),\n ('Social-Investor', 5.08, 'AMZN'),\n ('Social-Investor', 5.41, 'FB'),\n ('Social-Investor', 4.46, 'BIDU'),\n ('Social-Investor', 3.85, 'JD.US'),\n ('Social-Investor', 5.21, 'GOOG'),\n ('Social-Investor', 3.52, 'BABA'),\n ('Social-Investor', 3.42, 'EBAY'),\n ('Social-Investor', 3.4, 'PAH3.DE'),\n ('Social-Investor', 2.86, 'BZUN'),\n ('Social-Investor', 3.31, 'SQ'),\n ('Social-Investor', 2.54, 'PDD'),\n ('Social-Investor', 2.61, 'CRUS'),\n ('Social-Investor', 2.81, 'SWKS'),\n ('Social-Investor', 2.74, 'ILMN'),\n ('Social-Investor', 3.06, 'BILI'),\n ('Social-Investor', 1.96, '0700.HK'),\n ('Social-Investor', 1.94, 'KLAC'),\n ('Social-Investor', 1.96, 'OKTA'),\n ('Social-Investor', 1.65, 'KGC'),\n ('Social-Investor', 2.23, 'NVDA'),\n ('Social-Investor', 1.59, 'CDNS'),\n ('Social-Investor', 1.2, 'ZNGA'),\n ('Social-Investor', 0.77, '2338.HK'),\n ('Social-Investor', 0.91, 'VMW'),\n ('Social-Investor', 1.17, 'ASML'),\n ('Social-Investor', 0.96, 'BTC'),\n ('Social-Investor', 1.37, 'NTLA'),\n ('Social-Investor', 1.21, 'ETHEREUM'),\n ('knw500', 7.09, 'AAPL'),\n ('knw500', 4.53, 'AMZN'),\n ('knw500', 5.01, 'MSFT'),\n ('knw500', 3.91, 'ISF.L'),\n ('knw500', 4.48, 'AMD'),\n ('knw500', 3.58, 'V'),\n ('knw500', 2.27, 'ABNB'),\n ('knw500', 3.84, 'NVDA'),\n ('knw500', 2.01, 'TLT'),\n ('knw500', 2.31, 'SEDG'),\n ('knw500', 2.14, 'ETSY'),\n ('knw500', 1.95, 'BYND'),\n ('knw500', 2.54, 'BRK.B'),\n ('knw500', 1.02, 'VXX'),\n ('knw500', 1.93, 'MA'),\n ('knw500', 1.88, 'DIS'),\n ('knw500', 1.48, 'CINE.L'),\n ('knw500', 1.2, 'BABA'),\n ('knw500', 0.7, 'SQQQ'),\n ('knw500', 1.21, 'AIR.PA'),\n ('knw500', 1.28, 'BA'),\n ('knw500', 2.73, 'TSLA'),\n ('knw500', 0.63, 'COIN'),\n ('knw500', 1.08, 'QSR'),\n ('knw500', 1.01, 'XLE'),\n ('knw500', 1.04, 'VNQ'),\n ('knw500', 1.0, 'NFLX'),\n ('knw500', 0.92, 'GLD'),\n ('knw500', 0.96, 'TZA'),\n ('knw500', 1.7, 'SHOP'),\n ('knw500', 0.56, 'BTC'),\n ('knw500', 0.77, 'BND'),\n ('knw500', 0.57, 'EZJ.L'),\n ('knw500', 1.12, 'GOOG'),\n ('knw500', 0.9, 'GRG.L'),\n ('knw500', 0.87, 'VEU'),\n ('knw500', 0.67, 'DBX'),\n ('knw500', 0.52, 'ZM'),\n ('knw500', 0.45, 'SQ'),\n ('knw500', 0.51, 'VCIT'),\n ('knw500', 0.47, 'SPCE'),\n ('knw500', 0.49, 'BSV'),\n ('knw500', 0.51, 'JDW.L'),\n ('knw500', 0.44, 'RCL'),\n ('knw500', 0.48, 'TRIG.L'),\n ('knw500', 0.92, 'MRNA'),\n ('knw500', 0.35, 'IAG.L'),\n ('knw500', 0.39, 'PLTR'),\n ('knw500', 0.79, 'NEX.L'),\n ('knw500', 0.6, 'BIDU'),\n ('knw500', 0.25, 'AF.PA'),\n ('ReturnInvest', 7.28, 'TTCF'),\n ('ReturnInvest', 5.04, 'CRSR'),\n ('ReturnInvest', 6.82, 'FB'),\n ('ReturnInvest', 4.31, 'BABA'),\n ('ReturnInvest', 6.68, 'DBX'),\n ('ReturnInvest', 3.85, 'WBA'),\n ('ReturnInvest', 4.79, 'TSLA'),\n ('ReturnInvest', 4.51, 'GOOG'),\n ('ReturnInvest', 2.61, 'AMD'),\n ('ReturnInvest', 2.56, 'WYNN'),\n ('ReturnInvest', 1.88, 'PLTR'),\n ('ReturnInvest', 2.13, 'NEE'),\n ('ReturnInvest', 2.25, 'PYPL'),\n ('ReturnInvest', 3.02, 'FL'),\n ('ReturnInvest', 1.54, 'FSLR'),\n ('ReturnInvest', 1.49, 'BYND'),\n ('ReturnInvest', 1.37, 'BMY'),\n ('ReturnInvest', 1.18, 'GOLD.BARRICK'),\n ('ReturnInvest', 0.78, 'COIN'),\n ('ReturnInvest', 3.33, 'TPR'),\n ('ReturnInvest', 1.21, 'SEDG'),\n ('ReturnInvest', 0.76, 'ETHEREUM'),\n ('liborvasa', 5.53, 'U'),\n ('liborvasa', 4.37, 'INTC'),\n ('liborvasa', 4.94, 'NTDOY'),\n ('liborvasa', 4.76, 'ATVI'),\n ('liborvasa', 5.12, 'ADSK'),\n ('liborvasa', 5.12, 'TWTR'),\n ('liborvasa', 4.62, 'UBI.PA'),\n ('liborvasa', 0.02, 'HSBC'),\n ('Slow_and_Steady', 23.77, 'JNK'),\n ('Slow_and_Steady', 9.41, 'TIP'),\n ('Slow_and_Steady', 7.96, 'VTIP'),\n ('Slow_and_Steady', 5.38, 'VGK'),\n ('Slow_and_Steady', 5.06, 'SPY'),\n ('Slow_and_Steady', 5.19, 'QQQ'),\n ('Slow_and_Steady', 4.89, 'IYR'),\n ('Slow_and_Steady', 5.05, 'XLY'),\n ('Slow_and_Steady', 5.1, 'IHI'),\n ('Slow_and_Steady', 5.07, 'VOOG'),\n ('Slow_and_Steady', 4.82, 'XLE'),\n ('Slow_and_Steady', 4.08, 'VOX'),\n ('Slow_and_Steady', 4.17, 'VGT'),\n ('Slow_and_Steady', 4.08, 'SOXX'),\n ('Slow_and_Steady', 1.94, 'EWN'),\n ('Slow_and_Steady', 1.0, 'GLD'),\n ('jianswang', 7.36, 'TSLA'),\n ('jianswang', 5.44, '1810.HK'),\n ('jianswang', 7.74, 'FB'),\n ('jianswang', 4.11, '03690.HK'),\n ('jianswang', 3.35, 'PDD'),\n ('jianswang', 5.22, 'AAPL'),\n ('jianswang', 5.21, 'NIO'),\n ('jianswang', 4.24, 'SE'),\n ('jianswang', 4.57, 'AMD'),\n ('jianswang', 6.01, 'NVDA'),\n ('jianswang', 4.23, 'GOOG'),\n ('jianswang', 3.24, 'BILI'),\n ('jianswang', 3.41, 'PINS'),\n ('jianswang', 4.43, 'XPEV'),\n ('jianswang', 3.06, 'DIS'),\n ('jianswang', 2.34, 'ABNB'),\n ('jianswang', 2.6, '9988.HK'),\n ('jianswang', 2.25, 'JD.US'),\n ('jianswang', 2.48, 'AMZN'),\n ('jianswang', 3.08, 'SHOP'),\n ('jianswang', 1.99, '0700.HK'),\n ('jianswang', 2.09, 'BABA'),\n ('jianswang', 1.82, '9618.HK'),\n ('jianswang', 2.12, 'SNAP'),\n ('jianswang', 2.5, 'MSFT'),\n ('jianswang', 2.61, 'LI'),\n ('jianswang', 2.06, 'PYPL'),\n ('jianswang', 0.44, 'TME'),\n ('PrototypeVR', 5.87, 'KO'),\n ('PrototypeVR', 3.6, 'ORSTED.CO'),\n ('PrototypeVR', 4.78, 'AMZN'),\n ('PrototypeVR', 4.44, 'NTDOY'),\n ('PrototypeVR', 4.44, 'MELI'),\n ('PrototypeVR', 3.36, 'INTC'),\n ('PrototypeVR', 4.69, 'NVDA'),\n ('PrototypeVR', 3.67, 'SEDG'),\n ('PrototypeVR', 2.9, 'NFLX'),\n ('PrototypeVR', 3.28, 'GAW.L'),\n ('PrototypeVR', 2.46, 'GOLD.BARRICK'),\n ('PrototypeVR', 3.63, 'SHOP'),\n ('PrototypeVR', 1.89, 'SQQQ'),\n ('PrototypeVR', 2.21, 'ENPH'),\n ('PrototypeVR', 2.27, 'AAPL'),\n ('PrototypeVR', 2.03, 'SONY'),\n ('PrototypeVR', 2.28, 'BRK.B'),\n ('PrototypeVR', 2.23, 'TLRY'),\n ('PrototypeVR', 1.79, 'DISCA'),\n ('PrototypeVR', 2.18, 'AMD'),\n ('PrototypeVR', 2.0, '00257.HK'),\n ('PrototypeVR', 1.46, 'VXX'),\n ('PrototypeVR', 2.33, 'NIO'),\n ('PrototypeVR', 2.56, 'PTON'),\n ('PrototypeVR', 1.85, 'PLTR'),\n ('PrototypeVR', 1.54, 'ETHEREUM'),\n ('PrototypeVR', 2.05, 'PYPL'),\n ('PrototypeVR', 1.63, 'F'),\n ('PrototypeVR', 1.53, 'FSLR'),\n ('PrototypeVR', 1.68, 'ADBE'),\n ('PrototypeVR', 1.54, 'AZN'),\n ('PrototypeVR', 1.21, 'CRSR'),\n ('PrototypeVR', 1.07, 'CSIQ'),\n ('PrototypeVR', 1.57, 'RBLX'),\n ('PrototypeVR', 1.29, 'SNOW'),\n ('PrototypeVR', 1.7, 'DASH.US'),\n ('PrototypeVR', 1.2, 'BTC'),\n ('PrototypeVR', 1.25, 'GOOG'),\n ('PrototypeVR', 0.83, 'BABA'),\n ('PrototypeVR', 0.8, 'UNI'),\n ('PrototypeVR', 0.8, 'FB'),\n ('PrototypeVR', 0.9, 'MSFT'),\n ('PrototypeVR', 0.66, '1810.HK'),\n ('PrototypeVR', 0.49, 'AYX'),\n ('PrototypeVR', 0.44, 'COIN'),\n ('PrototypeVR', 0.51, 'TSLA'),\n ('PrototypeVR', 0.21, 'UVXY'),\n ('PrototypeVR', 0.45, 'TSM'),\n ('HarryH1993', 4.54, '9988.HK'),\n ('HarryH1993', 4.92, 'AMZN'),\n ('HarryH1993', 4.89, 'AAPL'),\n ('HarryH1993', 3.87, '1810.HK'),\n ('HarryH1993', 3.45, '0700.HK'),\n ('HarryH1993', 3.51, 'JDW.L'),\n ('HarryH1993', 4.29, 'ASML.NV'),\n ('HarryH1993', 3.95, 'TSLA'),\n ('HarryH1993', 3.99, 'DHI'),\n ('HarryH1993', 3.7, 'ETSY'),\n ('HarryH1993', 3.51, 'AMS.ZU'),\n ('HarryH1993', 3.77, 'PLTR'),\n ('HarryH1993', 3.07, '1299.HK'),\n ('HarryH1993', 2.68, '9618.HK'),\n ('HarryH1993', 3.37, 'HCA'),\n ('HarryH1993', 3.61, 'AHT.L'),\n ('HarryH1993', 2.28, 'SOFI'),\n ('HarryH1993', 3.18, 'BRK.B'),\n ('HarryH1993', 2.88, 'NEE'),\n ('HarryH1993', 2.44, 'HMMJ'),\n ('HarryH1993', 3.31, 'PANW'),\n ('HarryH1993', 3.11, 'MAIN'),\n ('HarryH1993', 3.41, 'SE'),\n ('HarryH1993', 2.79, 'SSSS'),\n ('HarryH1993', 3.0, 'ARKG'),\n ('oceantan007', 4.54, 'AMD'),\n ('oceantan007', 4.61, 'NIO'),\n ('oceantan007', 4.97, 'NVDA'),\n ('oceantan007', 2.48, 'BABA'),\n ('oceantan007', 3.1, '1810.HK'),\n ('oceantan007', 2.78, '00175.HK'),\n ('oceantan007', 3.24, 'AAPL'),\n ('oceantan007', 2.38, 'NIU'),\n ('oceantan007', 1.26, 'QTT'),\n ('oceantan007', 2.43, 'QCOM'),\n ('oceantan007', 2.32, 'CRM'),\n ('oceantan007', 2.35, 'SE'),\n ('oceantan007', 2.14, 'ZM'),\n ('oceantan007', 2.13, 'TWTR'),\n ('oceantan007', 1.67, 'LITE'),\n ('oceantan007', 1.75, 'CRUS'),\n ('oceantan007', 1.73, 'AVGO'),\n ('oceantan007', 1.44, 'INTC'),\n ('oceantan007', 2.31, 'TSLA'),\n ('oceantan007', 1.08, 'PDD'),\n ('oceantan007', 1.33, 'AMZN'),\n ('oceantan007', 1.45, 'CSCO'),\n ('oceantan007', 1.31, 'DIS'),\n ('oceantan007', 1.3, 'BYND'),\n ('oceantan007', 1.37, 'SEDG'),\n ('oceantan007', 1.26, 'SWKS'),\n ('oceantan007', 1.15, 'QRVO'),\n ('oceantan007', 0.78, 'NKLA'),\n ('oceantan007', 0.98, 'ORSTED.CO'),\n ('oceantan007', 1.39, 'WDC'),\n ('oceantan007', 0.82, 'BDX'),\n ('oceantan007', 0.78, 'TSM'),\n ('oceantan007', 0.62, 'TDOC'),\n ('oceantan007', 0.69, 'CAH'),\n ('oceantan007', 0.44, '9988.HK'),\n ('oceantan007', 0.62, 'ZNGA'),\n ('oceantan007', 0.59, 'LMT'),\n ('oceantan007', 0.54, 'BIDU'),\n ('oceantan007', 0.48, 'OCDO.L'),\n ('oceantan007', 0.79, 'STX'),\n ('oceantan007', 0.7, 'ZS'),\n ('oceantan007', 0.64, 'ENPH'),\n ('oceantan007', 0.36, '0700.HK'),\n ('oceantan007', 0.48, 'ZEN'),\n ('oceantan007', 0.49, 'TEAM'),\n ('oceantan007', 0.32, 'CVX'),\n ('oceantan007', 0.3, 'UNH'),\n ('oceantan007', 0.37, 'XOM'),\n ('oceantan007', 0.3, 'MA'),\n ('oceantan007', 0.3, 'V'),\n ('oceantan007', 0.26, 'MU'),\n ('oceantan007', 0.33, 'FE'),\n ('oceantan007', 0.29, 'NEWR'),\n ('oceantan007', 0.39, 'EW'),\n ('oceantan007', 0.27, 'EHTH'),\n ('oceantan007', 1.1, 'BTC'),\n ('KenanAbel', 19.91, 'EWH'),\n ('KenanAbel', 13.56, 'EWG'),\n ('KenanAbel', 12.64, 'China50'),\n ('KenanAbel', 9.69, 'IVV'),\n ('KenanAbel', 6.79, 'GER30'),\n ('KenanAbel', 6.13, 'DIA'),\n ('KenanAbel', 3.42, 'DJ30'),\n ('KenanAbel', 3.98, 'SPY'),\n ('Gserdan', 6.86, 'ADBE'),\n ('Gserdan', 7.99, 'NVDA'),\n ('Gserdan', 6.25, 'AMZN'),\n ('Gserdan', 4.54, 'CRM'),\n ('Gserdan', 5.93, 'LULU'),\n ('Gserdan', 4.7, 'BLK'),\n ('Gserdan', 6.7, 'MSFT'),\n ('Gserdan', 4.67, 'KER.PA'),\n ('Gserdan', 6.15, 'SQ'),\n ('Gserdan', 2.95, 'BLV'),\n ('Gserdan', 2.98, 'VHT'),\n ('Gserdan', 6.49, 'AAPL'),\n ('Gserdan', 5.09, 'RMS'),\n ('Gserdan', 5.25, 'GOOG'),\n ('Gserdan', 3.07, 'NFLX'),\n ('Gserdan', 2.25, 'DIS'),\n ('Gserdan', 1.48, 'BA'),\n ('Gserdan', 2.06, 'MC.PA'),\n ('Gserdan', 2.47, 'FB'),\n ('Gserdan', 1.05, 'AIR.PA'),\n ('Gserdan', 0.88, '0700.HK'),\n ('Gserdan', 1.24, 'SPY'),\n ('Gserdan', 0.73, 'V'),\n ('campervans', 4.92, 'CINE.L'),\n ('campervans', 4.38, 'MSFT'),\n ('campervans', 3.85, 'BABA'),\n ('campervans', 4.82, 'QFIN'),\n ('campervans', 2.7, 'FCX'),\n ('campervans', 2.75, 'JETS'),\n ('campervans', 3.14, 'OKTA'),\n ('campervans', 3.18, 'TDOC'),\n ('campervans', 2.83, 'INF.L'),\n ('campervans', 2.75, 'DHI'),\n ('campervans', 2.47, 'AAPL'),\n ('campervans', 2.17, 'IAG.L'),\n ('campervans', 2.15, 'XOM'),\n ('campervans', 2.05, 'GOOG'),\n ('campervans', 2.07, 'YNDX'),\n ('campervans', 2.01, 'UBER'),\n ('campervans', 1.9, 'SREN.ZU'),\n ('campervans', 1.9, 'DISH'),\n ('campervans', 1.9, 'NSC'),\n ('campervans', 2.25, 'SNAP'),\n ('campervans', 1.97, 'HDV'),\n ('campervans', 1.93, 'EWG'),\n ('campervans', 2.05, 'CHWY'),\n ('campervans', 1.96, 'IDA'),\n ('campervans', 1.98, 'SCCO'),\n ('campervans', 1.98, 'COIN'),\n ('campervans', 1.96, 'DIS'),\n ('campervans', 1.84, 'VTY.L'),\n ('campervans', 1.75, 'ITX.MC'),\n ('campervans', 1.16, 'GOL'),\n ('campervans', 1.09, 'FNGU'),\n ('campervans', 0.89, 'CAT'),\n ('campervans', 1.12, 'EBAY'),\n ('campervans', 1.08, 'TSLA'),\n ('campervans', 1.16, 'FSLR'),\n ('campervans', 1.0, 'BIDU'),\n ('campervans', 0.86, 'MOS'),\n ('campervans', 0.98, 'DLTR'),\n ('campervans', 0.91, 'WYNN'),\n ('campervans', 0.96, 'GLEN.L'),\n ('campervans', 0.97, 'EWZ'),\n ('campervans', 1.38, 'DOCU'),\n ('campervans', 1.04, 'SOXX'),\n ('campervans', 1.06, 'CSIQ'),\n ('campervans', 1.11, 'PTON'),\n ('campervans', 0.94, 'BZUN'),\n ('campervans', 0.93, 'PLAY'),\n ('campervans', 1.01, 'ARCC'),\n ('campervans', 0.94, 'CAKE'),\n ('campervans', 0.97, 'JD.L'),\n ('emge2116', 7.09, 'GLD'),\n ('emge2116', 6.35, 'SLV'),\n ('emge2116', 2.59, 'BHP'),\n ('emge2116', 1.16, 'TAL'),\n ('emge2116', 2.27, '2899.HK'),\n ('emge2116', 2.28, 'MNST'),\n ('emge2116', 2.49, 'ILMN'),\n ('emge2116', 2.15, 'NTES'),\n ('emge2116', 2.48, 'AZO'),\n ('emge2116', 1.57, '01177.HK'),\n ('emge2116', 1.6, 'TIP'),\n ('emge2116', 1.36, 'NFLX'),\n ('emge2116', 1.35, 'ATVI'),\n ('emge2116', 1.36, 'GILD'),\n ('emge2116', 1.01, '0700.HK'),\n ('emge2116', 1.48, 'LIN'),\n ('emge2116', 1.25, 'FNV'),\n ('emge2116', 1.35, 'DIM.PA'),\n ('emge2116', 1.39, 'LONN.ZU'),\n ('emge2116', 1.32, 'SHW'),\n ('emge2116', 1.44, 'AFX.DE'),\n ('emge2116', 1.25, 'ODFL'),\n ('emge2116', 1.07, 'CCJ'),\n ('emge2116', 1.14, 'AMZN'),\n ('emge2116', 1.25, 'EW'),\n ('emge2116', 1.24, 'CPRT'),\n ('emge2116', 1.36, 'WST'),\n ('emge2116', 0.96, 'MKC'),\n ('emge2116', 0.94, 'MA'),\n ('emge2116', 1.12, 'VALE'),\n ('emge2116', 1.1, 'COST'),\n ('emge2116', 1.1, 'CNC'),\n ('emge2116', 0.87, 'CASY'),\n ('emge2116', 1.19, 'AMT'),\n ('emge2116', 0.95, 'SLGN'),\n ('emge2116', 0.84, 'OCDO.L'),\n ('emge2116', 0.89, 'IEML.L'),\n ('emge2116', 0.92, 'MELI'),\n ('emge2116', 0.85, 'VRTX'),\n ('emge2116', 1.02, 'CCU'),\n ('emge2116', 1.15, 'ABEV'),\n ('emge2116', 1.01, 'TEAM'),\n ('emge2116', 1.05, 'DLR'),\n ('emge2116', 1.02, 'AWK'),\n ('emge2116', 0.97, 'CHD'),\n ('emge2116', 1.08, 'DSY.PA'),\n ('emge2116', 0.72, '1833.HK'),\n ('emge2116', 0.82, 'NEE'),\n ('emge2116', 0.81, 'HRL'),\n ('emge2116', 0.87, 'WEC'),\n ('emge2116', 0.68, '03690.HK'),\n ('emge2116', 0.83, 'WPM'),\n ('emge2116', 0.61, 'HOC.L'),\n ('emge2116', 0.8, 'BIDU'),\n ('emge2116', 0.77, 'VWO'),\n ('emge2116', 0.71, 'ABT'),\n ('emge2116', 0.9, 'DHR'),\n ('emge2116', 0.82, 'NEM'),\n ('emge2116', 0.6, 'HMMJ'),\n ('emge2116', 0.75, 'GOLD.BARRICK'),\n ('emge2116', 0.75, 'AON'),\n ('emge2116', 0.7, 'AAXJ'),\n ('emge2116', 0.74, 'XCX5.L'),\n ('emge2116', 0.96, 'RMD'),\n ('emge2116', 0.74, 'JNJ'),\n ('emge2116', 0.7, 'DGRO'),\n ('emge2116', 0.7, 'IAPD.L'),\n ('emge2116', 0.72, 'BAC'),\n ('emge2116', 0.76, 'AVB'),\n ('emge2116', 0.8, 'AA'),\n ('emge2116', 0.65, 'RIO'),\n ('emge2116', 0.61, 'KGC'),\n ('emge2116', 0.75, 'NKE'),\n ('emge2116', 0.66, 'CHKP'),\n ('emge2116', 0.67, 'FMC'),\n ('emge2116', 0.76, 'CHTR'),\n ('emge2116', 0.63, 'CLX'),\n ('emge2116', 0.81, 'REGN'),\n ('emge2116', 0.54, 'RNG'),\n ('emge2116', 0.58, 'SAM'),\n ('emge2116', 0.75, 'SE'),\n ('emge2116', 0.52, 'TDOC'),\n ('emge2116', 0.7, 'ESS'),\n ('emge2116', 0.52, 'ZTO'),\n ('emge2116', 0.55, 'SCCO'),\n ('OlenaL', 2.71, 'BTC'),\n ('OlenaL', 3.18, 'BABA'),\n ('OlenaL', 3.09, 'CRWD'),\n ('OlenaL', 2.65, 'TDOC'),\n ('OlenaL', 3.01, 'FB'),\n ('OlenaL', 4.13, 'SPCE'),\n ('OlenaL', 1.09, 'EDU'),\n ('OlenaL', 1.78, 'AMZN'),\n ('OlenaL', 1.97, 'BYND'),\n ('OlenaL', 1.86, 'PYPL'),\n ('OlenaL', 1.79, 'VGT'),\n ('OlenaL', 1.01, 'TAL'),\n ('OlenaL', 1.59, 'DBX'),\n ('OlenaL', 1.42, 'LSE.L'),\n ('OlenaL', 1.42, 'SWDA.L'),\n ('OlenaL', 1.6, 'VST'),\n ('OlenaL', 1.25, 'ILD.PA'),\n ('OlenaL', 1.4, 'AMS.ZU'),\n ('OlenaL', 1.59, 'MITK'),\n ('OlenaL', 1.36, 'GOOG'),\n ('OlenaL', 1.06, 'DISCA'),\n ('OlenaL', 0.81, 'BCH'),\n ('OlenaL', 1.15, 'MSFT'),\n ('OlenaL', 1.07, 'INTC'),\n ('OlenaL', 1.04, 'MA'),\n ('OlenaL', 0.95, 'TSLA'),\n ('OlenaL', 1.22, 'ETSY'),\n ('OlenaL', 1.03, 'ACS.MC'),\n ('OlenaL', 1.16, 'ROG.ZU'),\n ('OlenaL', 1.09, 'CRM'),\n ('OlenaL', 1.02, 'SEDG'),\n ('OlenaL', 1.1, 'AZN.L'),\n ('OlenaL', 1.06, 'ARKK'),\n ('OlenaL', 1.07, 'GDDY'),\n ('OlenaL', 1.05, 'ARKG'),\n ('OlenaL', 0.87, 'ETHEREUM'),\n ('OlenaL', 0.81, 'PHIA.NV'),\n ('OlenaL', 0.68, 'TME'),\n ('OlenaL', 0.41, 'MIOTA'),\n ('OlenaL', 0.29, 'FTCV'),\n ('ALnayef', 20.03, 'USDCAD'),\n ('ALnayef', 19.28, 'EURCAD'),\n ('ALnayef', 9.27, 'EURAUD'),\n ('daniel4653', 2.46, 'IEMG'),\n ('daniel4653', 2.46, 'SWDA.L'),\n ('daniel4653', 2.33, 'NESN.ZU'),\n ('daniel4653', 2.12, 'ULVR.L'),\n ('daniel4653', 1.9, 'GLD'),\n ('daniel4653', 2.29, 'SLV'),\n ('daniel4653', 2.31, 'OGZDL.L'),\n ('daniel4653', 2.06, 'RDS.B'),\n ('daniel4653', 1.52, 'KO'),\n ('daniel4653', 1.69, 'VRSN'),\n ('daniel4653', 1.5, 'JNJ'),\n ('daniel4653', 1.5, 'PG'),\n ('daniel4653', 1.82, 'NOVO-B.CO'),\n ('daniel4653', 1.5, '0700.HK'),\n ('daniel4653', 1.51, 'IJR'),\n ('daniel4653', 1.46, 'AWK'),\n ('daniel4653', 1.22, 'BAYN.DE'),\n ('daniel4653', 1.56, 'XLV'),\n ('daniel4653', 1.21, 'BABA'),\n ('daniel4653', 1.32, 'SAP.DE'),\n ('daniel4653', 1.06, '1810.HK'),\n ...]"
     },
     "execution_count": 15,
     "metadata": {},
     "output_type": "execute_result"
    }
   ],
   "source": [
    "a_portfols = []\n",
    "for p in portfols:\n",
    "    for i in p[\"items\"]:\n",
    "        if i[\"type\"] == \"Buying\":\n",
    "            try:\n",
    "                a_portfols.append((p[\"investor_name\"], float(i[\"value\"].replace(\"%\",\"\")), i[\"company_ticker\"]))\n",
    "            except ValueError as e:\n",
    "                if \"<0.01\" in str(e):\n",
    "                    pass\n",
    "                else:\n",
    "                    raise(e)\n",
    "a_portfols"
   ],
   "metadata": {
    "collapsed": false,
    "pycharm": {
     "name": "#%%\n"
    }
   }
  },
  {
   "cell_type": "code",
   "execution_count": 16,
   "outputs": [
    {
     "data": {
      "text/plain": "                 cluster Copiers WeeksSinceRegistration DailyDD WeeklyDD  \\\nticker                                                                     \ninvestor                                                                   \n2BSmart                4   323.0                  226.0   -4.38    -7.63   \nABDUCT                 1   584.0                   95.0   -3.12    -3.12   \nALnayef                1  1708.0                  263.0   -2.21    -3.19   \nAbbroush               1   514.0                   63.0   -1.32    -1.93   \nAguero1010             1  1101.0                   63.0   -4.26    -5.58   \n...                  ...     ...                    ...     ...      ...   \ntradefx525             1   656.0                  174.0   -2.02    -3.21   \nvidinho                1   133.0                  627.0   -3.51    -4.45   \nviveredidividend       1   564.0                   66.0   -3.39    -4.60   \nwillpetch1989          4   397.0                  146.0   -4.15    -9.49   \nzofesu                 1   142.0                   63.0   -4.69    -8.62   \n\n                 RiskScore    Gain  \nticker                              \ninvestor                            \n2BSmart                4.0   37.65  \nABDUCT                 3.0   26.57  \nALnayef                3.0   15.60  \nAbbroush               3.0   16.17  \nAguero1010             4.0   80.07  \n...                    ...     ...  \ntradefx525             3.0   30.15  \nvidinho                4.0   27.47  \nviveredidividend       4.0   31.45  \nwillpetch1989          4.0   23.85  \nzofesu                 5.0  108.73  \n\n[144 rows x 7 columns]",
      "text/html": "<div>\n<style scoped>\n    .dataframe tbody tr th:only-of-type {\n        vertical-align: middle;\n    }\n\n    .dataframe tbody tr th {\n        vertical-align: top;\n    }\n\n    .dataframe thead tr th {\n        text-align: left;\n    }\n\n    .dataframe thead tr:last-of-type th {\n        text-align: right;\n    }\n</style>\n<table border=\"1\" class=\"dataframe\">\n  <thead>\n    <tr>\n      <th></th>\n      <th>cluster</th>\n      <th>Copiers</th>\n      <th>WeeksSinceRegistration</th>\n      <th>DailyDD</th>\n      <th>WeeklyDD</th>\n      <th>RiskScore</th>\n      <th>Gain</th>\n    </tr>\n    <tr>\n      <th>ticker</th>\n      <th></th>\n      <th></th>\n      <th></th>\n      <th></th>\n      <th></th>\n      <th></th>\n      <th></th>\n    </tr>\n    <tr>\n      <th>investor</th>\n      <th></th>\n      <th></th>\n      <th></th>\n      <th></th>\n      <th></th>\n      <th></th>\n      <th></th>\n    </tr>\n  </thead>\n  <tbody>\n    <tr>\n      <th>2BSmart</th>\n      <td>4</td>\n      <td>323.0</td>\n      <td>226.0</td>\n      <td>-4.38</td>\n      <td>-7.63</td>\n      <td>4.0</td>\n      <td>37.65</td>\n    </tr>\n    <tr>\n      <th>ABDUCT</th>\n      <td>1</td>\n      <td>584.0</td>\n      <td>95.0</td>\n      <td>-3.12</td>\n      <td>-3.12</td>\n      <td>3.0</td>\n      <td>26.57</td>\n    </tr>\n    <tr>\n      <th>ALnayef</th>\n      <td>1</td>\n      <td>1708.0</td>\n      <td>263.0</td>\n      <td>-2.21</td>\n      <td>-3.19</td>\n      <td>3.0</td>\n      <td>15.60</td>\n    </tr>\n    <tr>\n      <th>Abbroush</th>\n      <td>1</td>\n      <td>514.0</td>\n      <td>63.0</td>\n      <td>-1.32</td>\n      <td>-1.93</td>\n      <td>3.0</td>\n      <td>16.17</td>\n    </tr>\n    <tr>\n      <th>Aguero1010</th>\n      <td>1</td>\n      <td>1101.0</td>\n      <td>63.0</td>\n      <td>-4.26</td>\n      <td>-5.58</td>\n      <td>4.0</td>\n      <td>80.07</td>\n    </tr>\n    <tr>\n      <th>...</th>\n      <td>...</td>\n      <td>...</td>\n      <td>...</td>\n      <td>...</td>\n      <td>...</td>\n      <td>...</td>\n      <td>...</td>\n    </tr>\n    <tr>\n      <th>tradefx525</th>\n      <td>1</td>\n      <td>656.0</td>\n      <td>174.0</td>\n      <td>-2.02</td>\n      <td>-3.21</td>\n      <td>3.0</td>\n      <td>30.15</td>\n    </tr>\n    <tr>\n      <th>vidinho</th>\n      <td>1</td>\n      <td>133.0</td>\n      <td>627.0</td>\n      <td>-3.51</td>\n      <td>-4.45</td>\n      <td>4.0</td>\n      <td>27.47</td>\n    </tr>\n    <tr>\n      <th>viveredidividend</th>\n      <td>1</td>\n      <td>564.0</td>\n      <td>66.0</td>\n      <td>-3.39</td>\n      <td>-4.60</td>\n      <td>4.0</td>\n      <td>31.45</td>\n    </tr>\n    <tr>\n      <th>willpetch1989</th>\n      <td>4</td>\n      <td>397.0</td>\n      <td>146.0</td>\n      <td>-4.15</td>\n      <td>-9.49</td>\n      <td>4.0</td>\n      <td>23.85</td>\n    </tr>\n    <tr>\n      <th>zofesu</th>\n      <td>1</td>\n      <td>142.0</td>\n      <td>63.0</td>\n      <td>-4.69</td>\n      <td>-8.62</td>\n      <td>5.0</td>\n      <td>108.73</td>\n    </tr>\n  </tbody>\n</table>\n<p>144 rows × 7 columns</p>\n</div>"
     },
     "execution_count": 16,
     "metadata": {},
     "output_type": "execute_result"
    }
   ],
   "source": [
    "a_df = pd.DataFrame(data=a_portfols,columns=[\"investor\",\"percent\",\"ticker\"])\n",
    "a_df = a_df.pivot_table(index=\"investor\", columns=\"ticker\").fillna(0)\n",
    "a_df[\"cluster\"] = KMeans(n_clusters=N_CLUSTERS).fit_predict(a_df)\n",
    "fields = [\"Copiers\",\"WeeksSinceRegistration\",\"DailyDD\",\"WeeklyDD\",\"RiskScore\",\"Gain\"]\n",
    "\n",
    "for investor_name in a_df.index:\n",
    "    for field in fields:\n",
    "        a_df.loc[investor_name,field] = investors[investor_name][field]\n",
    "a_df_short = a_df.drop(\"percent\",axis=1)\n",
    "a_df_short"
   ],
   "metadata": {
    "collapsed": false,
    "pycharm": {
     "name": "#%%\n"
    }
   }
  },
  {
   "cell_type": "code",
   "execution_count": 17,
   "outputs": [
    {
     "data": {
      "text/plain": "             cluster  Copiers WeeksSinceRegistration DailyDD WeeklyDD  \\\nticker                                                                  \ninvestor                                                                \nRaschnyr           0    198.0                  500.0   -4.17    -8.87   \nLvnce6             0    246.0                  188.0   -4.80    -8.58   \nIsbelle            1    643.0                  212.0   -3.72    -7.69   \nVidovM             1    214.0                   69.0   -3.82    -5.03   \nmyhungetoro        2    388.0                   98.0   -2.09    -3.29   \ngeorgech89         3    653.0                  117.0   -3.91    -6.20   \nsgstjc             4   1440.0                   85.0   -4.88    -8.51   \nCPHequities        4  19258.0                  223.0   -4.52   -11.12   \nSamosaking         5    599.0                   60.0   -4.34    -6.13   \nchiay0327          6    762.0                  236.0   -1.90    -2.52   \nEliteVol           7    176.0                   97.0   -4.15   -10.59   \nbalticseal         8   1341.0                   99.0   -2.40    -2.99   \ngeofflee2006       9    897.0                  239.0   -3.76    -6.30   \n\n             RiskScore    Gain  \nticker                          \ninvestor                        \nRaschnyr           5.0   62.66  \nLvnce6             5.0   46.75  \nIsbelle            4.0  177.72  \nVidovM             4.0  114.65  \nmyhungetoro        3.0    5.48  \ngeorgech89         5.0   53.28  \nsgstjc             4.0  146.61  \nCPHequities        4.0   92.29  \nSamosaking         3.0  157.15  \nchiay0327          3.0   10.05  \nEliteVol           5.0   22.25  \nbalticseal         3.0   17.15  \ngeofflee2006       5.0   27.91  ",
      "text/html": "<div>\n<style scoped>\n    .dataframe tbody tr th:only-of-type {\n        vertical-align: middle;\n    }\n\n    .dataframe tbody tr th {\n        vertical-align: top;\n    }\n\n    .dataframe thead tr th {\n        text-align: left;\n    }\n\n    .dataframe thead tr:last-of-type th {\n        text-align: right;\n    }\n</style>\n<table border=\"1\" class=\"dataframe\">\n  <thead>\n    <tr>\n      <th></th>\n      <th>cluster</th>\n      <th>Copiers</th>\n      <th>WeeksSinceRegistration</th>\n      <th>DailyDD</th>\n      <th>WeeklyDD</th>\n      <th>RiskScore</th>\n      <th>Gain</th>\n    </tr>\n    <tr>\n      <th>ticker</th>\n      <th></th>\n      <th></th>\n      <th></th>\n      <th></th>\n      <th></th>\n      <th></th>\n      <th></th>\n    </tr>\n    <tr>\n      <th>investor</th>\n      <th></th>\n      <th></th>\n      <th></th>\n      <th></th>\n      <th></th>\n      <th></th>\n      <th></th>\n    </tr>\n  </thead>\n  <tbody>\n    <tr>\n      <th>Raschnyr</th>\n      <td>0</td>\n      <td>198.0</td>\n      <td>500.0</td>\n      <td>-4.17</td>\n      <td>-8.87</td>\n      <td>5.0</td>\n      <td>62.66</td>\n    </tr>\n    <tr>\n      <th>Lvnce6</th>\n      <td>0</td>\n      <td>246.0</td>\n      <td>188.0</td>\n      <td>-4.80</td>\n      <td>-8.58</td>\n      <td>5.0</td>\n      <td>46.75</td>\n    </tr>\n    <tr>\n      <th>Isbelle</th>\n      <td>1</td>\n      <td>643.0</td>\n      <td>212.0</td>\n      <td>-3.72</td>\n      <td>-7.69</td>\n      <td>4.0</td>\n      <td>177.72</td>\n    </tr>\n    <tr>\n      <th>VidovM</th>\n      <td>1</td>\n      <td>214.0</td>\n      <td>69.0</td>\n      <td>-3.82</td>\n      <td>-5.03</td>\n      <td>4.0</td>\n      <td>114.65</td>\n    </tr>\n    <tr>\n      <th>myhungetoro</th>\n      <td>2</td>\n      <td>388.0</td>\n      <td>98.0</td>\n      <td>-2.09</td>\n      <td>-3.29</td>\n      <td>3.0</td>\n      <td>5.48</td>\n    </tr>\n    <tr>\n      <th>georgech89</th>\n      <td>3</td>\n      <td>653.0</td>\n      <td>117.0</td>\n      <td>-3.91</td>\n      <td>-6.20</td>\n      <td>5.0</td>\n      <td>53.28</td>\n    </tr>\n    <tr>\n      <th>sgstjc</th>\n      <td>4</td>\n      <td>1440.0</td>\n      <td>85.0</td>\n      <td>-4.88</td>\n      <td>-8.51</td>\n      <td>4.0</td>\n      <td>146.61</td>\n    </tr>\n    <tr>\n      <th>CPHequities</th>\n      <td>4</td>\n      <td>19258.0</td>\n      <td>223.0</td>\n      <td>-4.52</td>\n      <td>-11.12</td>\n      <td>4.0</td>\n      <td>92.29</td>\n    </tr>\n    <tr>\n      <th>Samosaking</th>\n      <td>5</td>\n      <td>599.0</td>\n      <td>60.0</td>\n      <td>-4.34</td>\n      <td>-6.13</td>\n      <td>3.0</td>\n      <td>157.15</td>\n    </tr>\n    <tr>\n      <th>chiay0327</th>\n      <td>6</td>\n      <td>762.0</td>\n      <td>236.0</td>\n      <td>-1.90</td>\n      <td>-2.52</td>\n      <td>3.0</td>\n      <td>10.05</td>\n    </tr>\n    <tr>\n      <th>EliteVol</th>\n      <td>7</td>\n      <td>176.0</td>\n      <td>97.0</td>\n      <td>-4.15</td>\n      <td>-10.59</td>\n      <td>5.0</td>\n      <td>22.25</td>\n    </tr>\n    <tr>\n      <th>balticseal</th>\n      <td>8</td>\n      <td>1341.0</td>\n      <td>99.0</td>\n      <td>-2.40</td>\n      <td>-2.99</td>\n      <td>3.0</td>\n      <td>17.15</td>\n    </tr>\n    <tr>\n      <th>geofflee2006</th>\n      <td>9</td>\n      <td>897.0</td>\n      <td>239.0</td>\n      <td>-3.76</td>\n      <td>-6.30</td>\n      <td>5.0</td>\n      <td>27.91</td>\n    </tr>\n  </tbody>\n</table>\n</div>"
     },
     "execution_count": 17,
     "metadata": {},
     "output_type": "execute_result"
    }
   ],
   "source": [
    "top_investors = a_df_short.groupby(\"cluster\")[\"Gain\"].nlargest(TOP_INVESTORS_WITHIN_CLUSTER).reset_index()[\"investor\"]\n",
    "a_df_short.loc[top_investors]"
   ],
   "metadata": {
    "collapsed": false,
    "pycharm": {
     "name": "#%%\n"
    }
   }
  },
  {
   "cell_type": "code",
   "execution_count": 18,
   "outputs": [
    {
     "data": {
      "text/plain": "ticker\nTLT        14.759093\nSVXY        8.159602\nFB          7.351733\nAMZN        6.193661\nSHV         6.151940\nVTI         5.660139\nBABA        4.703086\nIVV         4.609530\nMU          2.747260\nDBX         2.658761\nINTC        2.394528\nWDC         2.373036\nTWTR        2.333843\nUPRO        2.313615\nQQQ         2.049382\nSOXX        2.039268\nVNQ         2.019040\nSQ          1.963412\nPSH.L       1.952034\nITOT        1.928012\nMSFT        1.840778\nIEF         1.835721\nAMD         1.799057\nGLD         1.700444\n9988.HK     1.585395\nNET         1.533560\nTTE.PA      1.522182\nFTNT        1.312313\nAIR.PA      1.268063\nGOOG        1.241514\ndtype: float64"
     },
     "execution_count": 18,
     "metadata": {},
     "output_type": "execute_result"
    }
   ],
   "source": [
    "portfol_weight = a_df.loc[top_investors][\"percent\"].sum(axis=0)\n",
    "portfol_weight = portfol_weight[portfol_weight!=0]\n",
    "portfol_weight = portfol_weight*100/portfol_weight.sum()\n",
    "portfol_weight = portfol_weight.sort_values(ascending=False)[:TOP_N_BY_VALUE]\n",
    "portfol_weight = portfol_weight*100/portfol_weight.sum()\n",
    "portfol_weight"
   ],
   "metadata": {
    "collapsed": false,
    "pycharm": {
     "name": "#%%\n"
    }
   }
  },
  {
   "cell_type": "code",
   "execution_count": 19,
   "outputs": [
    {
     "data": {
      "text/plain": "     ticker  portfol_val                           company_name\n0       TLT    14.759093                                   None\n1      SVXY     8.159602                                   None\n2        FB     7.351733                               Facebook\n3      AMZN     6.193661                                 Amazon\n4       SHV     6.151940                                   None\n5       VTI     5.660139                                   None\n6      BABA     4.703086                                Alibaba\n7       IVV     4.609530                                   None\n8        MU     2.747260                Micron Technology, Inc.\n9       DBX     2.658761                            Dropbox Inc\n10     INTC     2.394528                                  Intel\n11      WDC     2.373036            Western Digital Corporation\n12     TWTR     2.333843                                Twitter\n13     UPRO     2.313615                                   None\n14      QQQ     2.049382                                   None\n15     SOXX     2.039268                                   None\n16      VNQ     2.019040                                   None\n17       SQ     1.963412                           Square, Inc.\n18    PSH.L     1.952034           Pershing Square Holdings Ltd\n19     ITOT     1.928012                                   None\n20     MSFT     1.840778                              Microsoft\n21      IEF     1.835721                                   None\n22      AMD     1.799057             Advanced Micro Devices Inc\n23      GLD     1.700444                                   None\n24  9988.HK     1.585395  Alibaba Group Holding Ltd (Hong Kong)\n25      NET     1.533560                             Cloudflare\n26   TTE.PA     1.522182                       TotalEnergies SE\n27     FTNT     1.312313                           Fortinet Inc\n28   AIR.PA     1.268063                           AIRBUS GROUP\n29     GOOG     1.241514                               Alphabet",
      "text/html": "<div>\n<style scoped>\n    .dataframe tbody tr th:only-of-type {\n        vertical-align: middle;\n    }\n\n    .dataframe tbody tr th {\n        vertical-align: top;\n    }\n\n    .dataframe thead th {\n        text-align: right;\n    }\n</style>\n<table border=\"1\" class=\"dataframe\">\n  <thead>\n    <tr style=\"text-align: right;\">\n      <th></th>\n      <th>ticker</th>\n      <th>portfol_val</th>\n      <th>company_name</th>\n    </tr>\n  </thead>\n  <tbody>\n    <tr>\n      <th>0</th>\n      <td>TLT</td>\n      <td>14.759093</td>\n      <td>None</td>\n    </tr>\n    <tr>\n      <th>1</th>\n      <td>SVXY</td>\n      <td>8.159602</td>\n      <td>None</td>\n    </tr>\n    <tr>\n      <th>2</th>\n      <td>FB</td>\n      <td>7.351733</td>\n      <td>Facebook</td>\n    </tr>\n    <tr>\n      <th>3</th>\n      <td>AMZN</td>\n      <td>6.193661</td>\n      <td>Amazon</td>\n    </tr>\n    <tr>\n      <th>4</th>\n      <td>SHV</td>\n      <td>6.151940</td>\n      <td>None</td>\n    </tr>\n    <tr>\n      <th>5</th>\n      <td>VTI</td>\n      <td>5.660139</td>\n      <td>None</td>\n    </tr>\n    <tr>\n      <th>6</th>\n      <td>BABA</td>\n      <td>4.703086</td>\n      <td>Alibaba</td>\n    </tr>\n    <tr>\n      <th>7</th>\n      <td>IVV</td>\n      <td>4.609530</td>\n      <td>None</td>\n    </tr>\n    <tr>\n      <th>8</th>\n      <td>MU</td>\n      <td>2.747260</td>\n      <td>Micron Technology, Inc.</td>\n    </tr>\n    <tr>\n      <th>9</th>\n      <td>DBX</td>\n      <td>2.658761</td>\n      <td>Dropbox Inc</td>\n    </tr>\n    <tr>\n      <th>10</th>\n      <td>INTC</td>\n      <td>2.394528</td>\n      <td>Intel</td>\n    </tr>\n    <tr>\n      <th>11</th>\n      <td>WDC</td>\n      <td>2.373036</td>\n      <td>Western Digital Corporation</td>\n    </tr>\n    <tr>\n      <th>12</th>\n      <td>TWTR</td>\n      <td>2.333843</td>\n      <td>Twitter</td>\n    </tr>\n    <tr>\n      <th>13</th>\n      <td>UPRO</td>\n      <td>2.313615</td>\n      <td>None</td>\n    </tr>\n    <tr>\n      <th>14</th>\n      <td>QQQ</td>\n      <td>2.049382</td>\n      <td>None</td>\n    </tr>\n    <tr>\n      <th>15</th>\n      <td>SOXX</td>\n      <td>2.039268</td>\n      <td>None</td>\n    </tr>\n    <tr>\n      <th>16</th>\n      <td>VNQ</td>\n      <td>2.019040</td>\n      <td>None</td>\n    </tr>\n    <tr>\n      <th>17</th>\n      <td>SQ</td>\n      <td>1.963412</td>\n      <td>Square, Inc.</td>\n    </tr>\n    <tr>\n      <th>18</th>\n      <td>PSH.L</td>\n      <td>1.952034</td>\n      <td>Pershing Square Holdings Ltd</td>\n    </tr>\n    <tr>\n      <th>19</th>\n      <td>ITOT</td>\n      <td>1.928012</td>\n      <td>None</td>\n    </tr>\n    <tr>\n      <th>20</th>\n      <td>MSFT</td>\n      <td>1.840778</td>\n      <td>Microsoft</td>\n    </tr>\n    <tr>\n      <th>21</th>\n      <td>IEF</td>\n      <td>1.835721</td>\n      <td>None</td>\n    </tr>\n    <tr>\n      <th>22</th>\n      <td>AMD</td>\n      <td>1.799057</td>\n      <td>Advanced Micro Devices Inc</td>\n    </tr>\n    <tr>\n      <th>23</th>\n      <td>GLD</td>\n      <td>1.700444</td>\n      <td>None</td>\n    </tr>\n    <tr>\n      <th>24</th>\n      <td>9988.HK</td>\n      <td>1.585395</td>\n      <td>Alibaba Group Holding Ltd (Hong Kong)</td>\n    </tr>\n    <tr>\n      <th>25</th>\n      <td>NET</td>\n      <td>1.533560</td>\n      <td>Cloudflare</td>\n    </tr>\n    <tr>\n      <th>26</th>\n      <td>TTE.PA</td>\n      <td>1.522182</td>\n      <td>TotalEnergies SE</td>\n    </tr>\n    <tr>\n      <th>27</th>\n      <td>FTNT</td>\n      <td>1.312313</td>\n      <td>Fortinet Inc</td>\n    </tr>\n    <tr>\n      <th>28</th>\n      <td>AIR.PA</td>\n      <td>1.268063</td>\n      <td>AIRBUS GROUP</td>\n    </tr>\n    <tr>\n      <th>29</th>\n      <td>GOOG</td>\n      <td>1.241514</td>\n      <td>Alphabet</td>\n    </tr>\n  </tbody>\n</table>\n</div>"
     },
     "execution_count": 19,
     "metadata": {},
     "output_type": "execute_result"
    }
   ],
   "source": [
    "ticker_to_name_mapping = defaultdict(str)\n",
    "for p in portfols:\n",
    "    for i in p[\"items\"]:\n",
    "        ticker_to_name_mapping[i[\"company_ticker\"]] = i.get(\"company_name\",None)\n",
    "\n",
    "portfol_weight_new = portfol_weight.to_frame(\"portfol_val\")\n",
    "portfol_weight_new[\"company_name\"] = portfol_weight_new.index.map(ticker_to_name_mapping)\n",
    "portfol_weight_new = portfol_weight_new.reset_index()\n",
    "portfol_weight_new"
   ],
   "metadata": {
    "collapsed": false,
    "pycharm": {
     "name": "#%%\n"
    }
   }
  },
  {
   "cell_type": "code",
   "execution_count": 19,
   "outputs": [],
   "source": [],
   "metadata": {
    "collapsed": false,
    "pycharm": {
     "name": "#%%\n"
    }
   }
  }
 ],
 "metadata": {
  "kernelspec": {
   "display_name": "Python 3",
   "language": "python",
   "name": "python3"
  },
  "language_info": {
   "codemirror_mode": {
    "name": "ipython",
    "version": 2
   },
   "file_extension": ".py",
   "mimetype": "text/x-python",
   "name": "python",
   "nbconvert_exporter": "python",
   "pygments_lexer": "ipython2",
   "version": "2.7.6"
  }
 },
 "nbformat": 4,
 "nbformat_minor": 0
}