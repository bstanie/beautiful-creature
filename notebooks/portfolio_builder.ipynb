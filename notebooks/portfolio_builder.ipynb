{
 "cells": [
  {
   "cell_type": "code",
   "execution_count": 1,
   "metadata": {},
   "outputs": [],
   "source": [
    "import os\n",
    "import pathlib\n",
    "import sys\n",
    "from collections import defaultdict, OrderedDict\n",
    "from datetime import datetime\n",
    "\n",
    "import numpy as np\n",
    "import pymongo\n",
    "import pandas as pd\n",
    "from sklearn.ensemble import IsolationForest\n",
    "from sklearn.cluster import DBSCAN, KMeans, AgglomerativeClustering"
   ]
  },
  {
   "cell_type": "code",
   "execution_count": 2,
   "metadata": {
    "collapsed": false,
    "jupyter": {
     "outputs_hidden": false
    },
    "pycharm": {
     "name": "#%%\n"
    },
    "scrolled": true,
    "tags": []
   },
   "outputs": [],
   "source": [
    "PROJECT_ROOT = pathlib.Path.cwd().parent\n",
    "if PROJECT_ROOT not in sys.path:\n",
    "    sys.path.append(PROJECT_ROOT)\n",
    "\n",
    "# scraper_path = str(PROJECT_ROOT / \"scrapy_projects\" / \"etoro\" / \"etoro\")\n",
    "# command = f\"cd {scraper_path} && scrapy crawl etoro_dashboard && scrapy crawl etoro_investor\"\n",
    "# print(command)\n",
    "# os.system(command)"
   ]
  },
  {
   "cell_type": "code",
   "execution_count": 3,
   "metadata": {
    "collapsed": false,
    "jupyter": {
     "outputs_hidden": false
    },
    "pycharm": {
     "name": "#%%\n"
    }
   },
   "outputs": [],
   "source": [
    "class Settings:\n",
    "    MONGODB_SERVER = \"localhost\"\n",
    "    MONGODB_PORT = 27017\n",
    "    MONGODB_DB = \"beautiful_creature\"\n",
    "    MONGODB_INVESTOR_COLLECTION = \"investors\"\n",
    "    MONGODB_PORTFOLIO_COLLECTION = \"portfolios\"\n",
    "\n",
    "    def __getitem__(self, key):\n",
    "        return getattr(self, key)\n",
    "\n",
    "\n",
    "timestamp = datetime.now().strftime(\"%d-%m-%y\")\n",
    "settings = Settings()\n",
    "connection = pymongo.MongoClient(\n",
    "    settings['MONGODB_SERVER'],\n",
    "    settings['MONGODB_PORT']\n",
    ")\n",
    "investor_collection_name = f\"{settings['MONGODB_INVESTOR_COLLECTION']}_{timestamp}\"\n",
    "portfolio_collection_name = f\"{settings['MONGODB_PORTFOLIO_COLLECTION']}_{timestamp}\"\n",
    "db = connection[settings['MONGODB_DB']]\n",
    "investor_collection = db[investor_collection_name]\n",
    "portfolio_collection = db[portfolio_collection_name]\n",
    "investors = list(investor_collection.find({}))\n",
    "investors = {i[\"UserName\"]: i for i in investors}"
   ]
  },
  {
   "cell_type": "markdown",
   "metadata": {
    "pycharm": {
     "name": "#%% md\n"
    }
   },
   "source": [
    "# SIMPLE PORTOFOLIO"
   ]
  },
  {
   "cell_type": "code",
   "execution_count": 4,
   "metadata": {
    "collapsed": false,
    "jupyter": {
     "outputs_hidden": false
    },
    "pycharm": {
     "name": "#%%\n"
    }
   },
   "outputs": [],
   "source": [
    "portfols = list(portfolio_collection.find({}))"
   ]
  },
  {
   "cell_type": "code",
   "execution_count": 5,
   "metadata": {
    "collapsed": false,
    "jupyter": {
     "outputs_hidden": false
    },
    "pycharm": {
     "name": "#%%\n"
    }
   },
   "outputs": [],
   "source": [
    "items = defaultdict(list)"
   ]
  },
  {
   "cell_type": "code",
   "execution_count": 6,
   "metadata": {
    "collapsed": false,
    "jupyter": {
     "outputs_hidden": false
    },
    "pycharm": {
     "name": "#%%\n"
    }
   },
   "outputs": [],
   "source": [
    "for p in portfols:\n",
    "    for i in p[\"items\"]:\n",
    "        if i[\"type\"] == \"Buying\":\n",
    "            try:\n",
    "                items[i[\"company_ticker\"]].append(round(float(i[\"invested\"].replace(\"%\", \"\")), 3))\n",
    "            except ValueError as e:\n",
    "                if \"<0.01\" in str(e):\n",
    "                    pass\n",
    "                else:\n",
    "                    raise (e)"
   ]
  },
  {
   "cell_type": "code",
   "execution_count": 7,
   "metadata": {
    "collapsed": false,
    "jupyter": {
     "outputs_hidden": false
    },
    "pycharm": {
     "name": "#%%\n"
    }
   },
   "outputs": [],
   "source": [
    "\n",
    "ticker_to_name_mapping = defaultdict(str)\n",
    "for p in portfols:\n",
    "    for i in p[\"items\"]:\n",
    "        ticker_to_name_mapping[i[\"company_ticker\"]] = i.get(\"company_name\", None)"
   ]
  },
  {
   "cell_type": "code",
   "execution_count": 8,
   "metadata": {
    "collapsed": false,
    "jupyter": {
     "outputs_hidden": false
    },
    "pycharm": {
     "name": "#%%\n"
    }
   },
   "outputs": [],
   "source": [
    "# basic portfolio settings\n",
    "TOP_N_BY_COUNTS = 100\n",
    "N_PORTFOLIO_ITEMS = 20"
   ]
  },
  {
   "cell_type": "code",
   "execution_count": 9,
   "metadata": {
    "collapsed": false,
    "jupyter": {
     "outputs_hidden": false
    },
    "pycharm": {
     "name": "#%%\n"
    }
   },
   "outputs": [
    {
     "data": {
      "text/plain": "           count      mean       std  std/mean\nitem_name                                     \nAMZN           9  4.125556  2.008151  0.486759\nMSFT           9  2.777778  1.541138  0.554810\nFB             9  2.978889  1.535654  0.515512\nGOOG           8  2.417500  1.319382  0.545763\nBABA           7  2.458571  1.338202  0.544300",
      "text/html": "<div>\n<style scoped>\n    .dataframe tbody tr th:only-of-type {\n        vertical-align: middle;\n    }\n\n    .dataframe tbody tr th {\n        vertical-align: top;\n    }\n\n    .dataframe thead th {\n        text-align: right;\n    }\n</style>\n<table border=\"1\" class=\"dataframe\">\n  <thead>\n    <tr style=\"text-align: right;\">\n      <th></th>\n      <th>count</th>\n      <th>mean</th>\n      <th>std</th>\n      <th>std/mean</th>\n    </tr>\n    <tr>\n      <th>item_name</th>\n      <th></th>\n      <th></th>\n      <th></th>\n      <th></th>\n    </tr>\n  </thead>\n  <tbody>\n    <tr>\n      <th>AMZN</th>\n      <td>9</td>\n      <td>4.125556</td>\n      <td>2.008151</td>\n      <td>0.486759</td>\n    </tr>\n    <tr>\n      <th>MSFT</th>\n      <td>9</td>\n      <td>2.777778</td>\n      <td>1.541138</td>\n      <td>0.554810</td>\n    </tr>\n    <tr>\n      <th>FB</th>\n      <td>9</td>\n      <td>2.978889</td>\n      <td>1.535654</td>\n      <td>0.515512</td>\n    </tr>\n    <tr>\n      <th>GOOG</th>\n      <td>8</td>\n      <td>2.417500</td>\n      <td>1.319382</td>\n      <td>0.545763</td>\n    </tr>\n    <tr>\n      <th>BABA</th>\n      <td>7</td>\n      <td>2.458571</td>\n      <td>1.338202</td>\n      <td>0.544300</td>\n    </tr>\n  </tbody>\n</table>\n</div>"
     },
     "execution_count": 9,
     "metadata": {},
     "output_type": "execute_result"
    }
   ],
   "source": [
    "stats = []\n",
    "for item in items:\n",
    "    item_stat = {\"item_name\": item, \"count\": len(items[item]),\n",
    "                 \"mean\": np.mean(items[item]), \"std\": np.std(items[item])}\n",
    "    stats.append(item_stat)\n",
    "\n",
    "df = pd.DataFrame.from_records(stats)\n",
    "df[\"std/mean\"] = df[\"std\"] / df[\"mean\"]\n",
    "df = df.set_index(\"item_name\")\n",
    "df = df.sort_values(\"count\", ascending=False).head(TOP_N_BY_COUNTS)\n",
    "df.head()"
   ]
  },
  {
   "cell_type": "code",
   "execution_count": 10,
   "metadata": {
    "collapsed": false,
    "jupyter": {
     "outputs_hidden": false
    },
    "pycharm": {
     "name": "#%%\n"
    }
   },
   "outputs": [
    {
     "data": {
      "text/plain": "   item_name  portfol_val                    company_name\n16     ISF.L    10.899260                            None\n7       FEYE     8.167331                         FireEye\n4       VEEV     7.968127             Veeva Systems Inc A\n5        MDB     6.146841                     MongoDB Inc\n8         BA     6.089926                          Boeing\n15    AIR.PA     6.061468                    AIRBUS GROUP\n14      ESTC     6.061468                      Elastic NV\n10      OTLY     5.463859                  Oatly Group AB\n18      CYBR     5.463859                        CyberArk\n9       BYND     5.463859                Beyond Meat Inc.\n11   3888.HK     5.463859               Kingsoft Corp Ltd\n13       USB     4.410928                      US Bancorp\n3       SUMO     4.354013                 Sumo Logic Inc.\n1       CRBP     3.272624  Corbus Pharmaceuticals Holding\n6       RGEN     3.244166                   Repligen Corp\n0       FVRR     2.731929            Fiverr International\n19  00241.HK     2.731929  Alibaba Health Information Tec\n12      ZYNE     2.191235     Zynerba Pharmaceuticals Inc\n17      CSCO     2.191235                           Cisco\n2       HAIN     1.622083                  Hain Celestial",
      "text/html": "<div>\n<style scoped>\n    .dataframe tbody tr th:only-of-type {\n        vertical-align: middle;\n    }\n\n    .dataframe tbody tr th {\n        vertical-align: top;\n    }\n\n    .dataframe thead th {\n        text-align: right;\n    }\n</style>\n<table border=\"1\" class=\"dataframe\">\n  <thead>\n    <tr style=\"text-align: right;\">\n      <th></th>\n      <th>item_name</th>\n      <th>portfol_val</th>\n      <th>company_name</th>\n    </tr>\n  </thead>\n  <tbody>\n    <tr>\n      <th>16</th>\n      <td>ISF.L</td>\n      <td>10.899260</td>\n      <td>None</td>\n    </tr>\n    <tr>\n      <th>7</th>\n      <td>FEYE</td>\n      <td>8.167331</td>\n      <td>FireEye</td>\n    </tr>\n    <tr>\n      <th>4</th>\n      <td>VEEV</td>\n      <td>7.968127</td>\n      <td>Veeva Systems Inc A</td>\n    </tr>\n    <tr>\n      <th>5</th>\n      <td>MDB</td>\n      <td>6.146841</td>\n      <td>MongoDB Inc</td>\n    </tr>\n    <tr>\n      <th>8</th>\n      <td>BA</td>\n      <td>6.089926</td>\n      <td>Boeing</td>\n    </tr>\n    <tr>\n      <th>15</th>\n      <td>AIR.PA</td>\n      <td>6.061468</td>\n      <td>AIRBUS GROUP</td>\n    </tr>\n    <tr>\n      <th>14</th>\n      <td>ESTC</td>\n      <td>6.061468</td>\n      <td>Elastic NV</td>\n    </tr>\n    <tr>\n      <th>10</th>\n      <td>OTLY</td>\n      <td>5.463859</td>\n      <td>Oatly Group AB</td>\n    </tr>\n    <tr>\n      <th>18</th>\n      <td>CYBR</td>\n      <td>5.463859</td>\n      <td>CyberArk</td>\n    </tr>\n    <tr>\n      <th>9</th>\n      <td>BYND</td>\n      <td>5.463859</td>\n      <td>Beyond Meat Inc.</td>\n    </tr>\n    <tr>\n      <th>11</th>\n      <td>3888.HK</td>\n      <td>5.463859</td>\n      <td>Kingsoft Corp Ltd</td>\n    </tr>\n    <tr>\n      <th>13</th>\n      <td>USB</td>\n      <td>4.410928</td>\n      <td>US Bancorp</td>\n    </tr>\n    <tr>\n      <th>3</th>\n      <td>SUMO</td>\n      <td>4.354013</td>\n      <td>Sumo Logic Inc.</td>\n    </tr>\n    <tr>\n      <th>1</th>\n      <td>CRBP</td>\n      <td>3.272624</td>\n      <td>Corbus Pharmaceuticals Holding</td>\n    </tr>\n    <tr>\n      <th>6</th>\n      <td>RGEN</td>\n      <td>3.244166</td>\n      <td>Repligen Corp</td>\n    </tr>\n    <tr>\n      <th>0</th>\n      <td>FVRR</td>\n      <td>2.731929</td>\n      <td>Fiverr International</td>\n    </tr>\n    <tr>\n      <th>19</th>\n      <td>00241.HK</td>\n      <td>2.731929</td>\n      <td>Alibaba Health Information Tec</td>\n    </tr>\n    <tr>\n      <th>12</th>\n      <td>ZYNE</td>\n      <td>2.191235</td>\n      <td>Zynerba Pharmaceuticals Inc</td>\n    </tr>\n    <tr>\n      <th>17</th>\n      <td>CSCO</td>\n      <td>2.191235</td>\n      <td>Cisco</td>\n    </tr>\n    <tr>\n      <th>2</th>\n      <td>HAIN</td>\n      <td>1.622083</td>\n      <td>Hain Celestial</td>\n    </tr>\n  </tbody>\n</table>\n</div>"
     },
     "execution_count": 10,
     "metadata": {},
     "output_type": "execute_result"
    }
   ],
   "source": [
    "portfol_basic = df.sort_values(\"count\", ascending=False).sort_values(\"std/mean\").head(N_PORTFOLIO_ITEMS)\n",
    "portfol_basic[\"portfol_val\"] = portfol_basic[\"mean\"] * 100 / portfol_basic[\"mean\"].sum()\n",
    "portfol_basic.sort_values(\"portfol_val\", ascending=False)\n",
    "portfol_basic[\"company_name\"] = portfol_basic.index.map(ticker_to_name_mapping)\n",
    "portfol_basic.reset_index().sort_values(\"portfol_val\", ascending=False).drop([\"count\", \"mean\", \"std\", \"std/mean\"],axis=1)"
   ]
  },
  {
   "cell_type": "markdown",
   "metadata": {
    "pycharm": {
     "name": "#%% md\n"
    }
   },
   "source": [
    "# WEIGHTED PORTFOLIO"
   ]
  },
  {
   "cell_type": "code",
   "execution_count": 11,
   "metadata": {
    "collapsed": false,
    "jupyter": {
     "outputs_hidden": false
    },
    "pycharm": {
     "name": "#%%\n"
    }
   },
   "outputs": [],
   "source": [
    "# weighted portfolio settings\n",
    "N_PORTFOLIO_ITEMS = 20\n",
    "N_CLUSTERS = 5\n",
    "TOP_INVESTORS_WITHIN_CLUSTER = 1"
   ]
  },
  {
   "cell_type": "code",
   "execution_count": 12,
   "metadata": {
    "collapsed": false,
    "jupyter": {
     "outputs_hidden": false
    },
    "pycharm": {
     "name": "#%%\n"
    }
   },
   "outputs": [],
   "source": [
    "a_portfols = []\n",
    "for p in portfols:\n",
    "    for i in p[\"items\"]:\n",
    "        if i[\"type\"] == \"Buying\":\n",
    "            try:\n",
    "                a_portfols.append((p[\"investor_name\"], float(i[\"value\"].replace(\"%\", \"\")), i[\"company_ticker\"]))\n",
    "            except ValueError as e:\n",
    "                if \"<0.01\" in str(e):\n",
    "                    pass\n",
    "                else:\n",
    "                    raise (e)"
   ]
  },
  {
   "cell_type": "code",
   "execution_count": 13,
   "metadata": {
    "collapsed": false,
    "jupyter": {
     "outputs_hidden": false
    },
    "pycharm": {
     "name": "#%%\n"
    }
   },
   "outputs": [
    {
     "data": {
      "text/plain": "                cluster  Copiers WeeksSinceRegistration DailyDD WeeklyDD  \\\nticker                                                                     \ninvestor                                                                   \nCPHequities           3  20037.0                  223.0   -4.52   -11.12   \nGreenbullInvest       3   8135.0                  109.0   -3.93    -6.85   \nJeppeKirkBonde        3  27683.0                  416.0   -2.85    -5.61   \nMarianoPardo          3   9277.0                  403.0   -4.34    -8.02   \nMiyoshi               4   8451.0                  131.0   -2.73    -5.59   \nRichardstroud         1  17219.0                  221.0   -2.48    -4.39   \nSparkLiang            2   6956.0                  174.0   -2.48    -4.15   \nWesl3y                0  20011.0                  328.0   -3.30    -6.01   \neddyb123              3  10780.0                  266.0   -3.47    -7.65   \nrubymza               3  20552.0                  265.0   -4.64    -6.12   \n\n                RiskScore   Gain  \nticker                            \ninvestor                          \nCPHequities           4.0  92.93  \nGreenbullInvest       3.0  64.10  \nJeppeKirkBonde        4.0  56.56  \nMarianoPardo          5.0  72.24  \nMiyoshi               4.0  26.93  \nRichardstroud         4.0  31.91  \nSparkLiang            4.0  29.63  \nWesl3y                5.0  49.71  \neddyb123              4.0  44.85  \nrubymza               5.0  48.94  ",
      "text/html": "<div>\n<style scoped>\n    .dataframe tbody tr th:only-of-type {\n        vertical-align: middle;\n    }\n\n    .dataframe tbody tr th {\n        vertical-align: top;\n    }\n\n    .dataframe thead tr th {\n        text-align: left;\n    }\n\n    .dataframe thead tr:last-of-type th {\n        text-align: right;\n    }\n</style>\n<table border=\"1\" class=\"dataframe\">\n  <thead>\n    <tr>\n      <th></th>\n      <th>cluster</th>\n      <th>Copiers</th>\n      <th>WeeksSinceRegistration</th>\n      <th>DailyDD</th>\n      <th>WeeklyDD</th>\n      <th>RiskScore</th>\n      <th>Gain</th>\n    </tr>\n    <tr>\n      <th>ticker</th>\n      <th></th>\n      <th></th>\n      <th></th>\n      <th></th>\n      <th></th>\n      <th></th>\n      <th></th>\n    </tr>\n    <tr>\n      <th>investor</th>\n      <th></th>\n      <th></th>\n      <th></th>\n      <th></th>\n      <th></th>\n      <th></th>\n      <th></th>\n    </tr>\n  </thead>\n  <tbody>\n    <tr>\n      <th>CPHequities</th>\n      <td>3</td>\n      <td>20037.0</td>\n      <td>223.0</td>\n      <td>-4.52</td>\n      <td>-11.12</td>\n      <td>4.0</td>\n      <td>92.93</td>\n    </tr>\n    <tr>\n      <th>GreenbullInvest</th>\n      <td>3</td>\n      <td>8135.0</td>\n      <td>109.0</td>\n      <td>-3.93</td>\n      <td>-6.85</td>\n      <td>3.0</td>\n      <td>64.10</td>\n    </tr>\n    <tr>\n      <th>JeppeKirkBonde</th>\n      <td>3</td>\n      <td>27683.0</td>\n      <td>416.0</td>\n      <td>-2.85</td>\n      <td>-5.61</td>\n      <td>4.0</td>\n      <td>56.56</td>\n    </tr>\n    <tr>\n      <th>MarianoPardo</th>\n      <td>3</td>\n      <td>9277.0</td>\n      <td>403.0</td>\n      <td>-4.34</td>\n      <td>-8.02</td>\n      <td>5.0</td>\n      <td>72.24</td>\n    </tr>\n    <tr>\n      <th>Miyoshi</th>\n      <td>4</td>\n      <td>8451.0</td>\n      <td>131.0</td>\n      <td>-2.73</td>\n      <td>-5.59</td>\n      <td>4.0</td>\n      <td>26.93</td>\n    </tr>\n    <tr>\n      <th>Richardstroud</th>\n      <td>1</td>\n      <td>17219.0</td>\n      <td>221.0</td>\n      <td>-2.48</td>\n      <td>-4.39</td>\n      <td>4.0</td>\n      <td>31.91</td>\n    </tr>\n    <tr>\n      <th>SparkLiang</th>\n      <td>2</td>\n      <td>6956.0</td>\n      <td>174.0</td>\n      <td>-2.48</td>\n      <td>-4.15</td>\n      <td>4.0</td>\n      <td>29.63</td>\n    </tr>\n    <tr>\n      <th>Wesl3y</th>\n      <td>0</td>\n      <td>20011.0</td>\n      <td>328.0</td>\n      <td>-3.30</td>\n      <td>-6.01</td>\n      <td>5.0</td>\n      <td>49.71</td>\n    </tr>\n    <tr>\n      <th>eddyb123</th>\n      <td>3</td>\n      <td>10780.0</td>\n      <td>266.0</td>\n      <td>-3.47</td>\n      <td>-7.65</td>\n      <td>4.0</td>\n      <td>44.85</td>\n    </tr>\n    <tr>\n      <th>rubymza</th>\n      <td>3</td>\n      <td>20552.0</td>\n      <td>265.0</td>\n      <td>-4.64</td>\n      <td>-6.12</td>\n      <td>5.0</td>\n      <td>48.94</td>\n    </tr>\n  </tbody>\n</table>\n</div>"
     },
     "execution_count": 13,
     "metadata": {},
     "output_type": "execute_result"
    }
   ],
   "source": [
    "a_df = pd.DataFrame(data=a_portfols, columns=[\"investor\", \"percent\", \"ticker\"])\n",
    "a_df = a_df.pivot_table(index=\"investor\", columns=\"ticker\").fillna(0)\n",
    "a_df[\"cluster\"] = KMeans(n_clusters=N_CLUSTERS).fit_predict(a_df)\n",
    "fields = [\"Copiers\", \"WeeksSinceRegistration\", \"DailyDD\", \"WeeklyDD\", \"RiskScore\", \"Gain\"]\n",
    "\n",
    "for investor_name in a_df.index:\n",
    "    for field in fields:\n",
    "        a_df.loc[investor_name, field] = investors[investor_name][field]\n",
    "a_df_short = a_df.drop(\"percent\", axis=1)\n",
    "a_df_short"
   ]
  },
  {
   "cell_type": "code",
   "execution_count": 14,
   "metadata": {
    "collapsed": false,
    "jupyter": {
     "outputs_hidden": false
    },
    "pycharm": {
     "name": "#%%\n"
    }
   },
   "outputs": [
    {
     "data": {
      "text/plain": "              cluster  Copiers WeeksSinceRegistration DailyDD WeeklyDD  \\\nticker                                                                   \ninvestor                                                                 \nWesl3y              0  20011.0                  328.0   -3.30    -6.01   \nRichardstroud       1  17219.0                  221.0   -2.48    -4.39   \nSparkLiang          2   6956.0                  174.0   -2.48    -4.15   \nCPHequities         3  20037.0                  223.0   -4.52   -11.12   \nMiyoshi             4   8451.0                  131.0   -2.73    -5.59   \n\n              RiskScore   Gain  \nticker                          \ninvestor                        \nWesl3y              5.0  49.71  \nRichardstroud       4.0  31.91  \nSparkLiang          4.0  29.63  \nCPHequities         4.0  92.93  \nMiyoshi             4.0  26.93  ",
      "text/html": "<div>\n<style scoped>\n    .dataframe tbody tr th:only-of-type {\n        vertical-align: middle;\n    }\n\n    .dataframe tbody tr th {\n        vertical-align: top;\n    }\n\n    .dataframe thead tr th {\n        text-align: left;\n    }\n\n    .dataframe thead tr:last-of-type th {\n        text-align: right;\n    }\n</style>\n<table border=\"1\" class=\"dataframe\">\n  <thead>\n    <tr>\n      <th></th>\n      <th>cluster</th>\n      <th>Copiers</th>\n      <th>WeeksSinceRegistration</th>\n      <th>DailyDD</th>\n      <th>WeeklyDD</th>\n      <th>RiskScore</th>\n      <th>Gain</th>\n    </tr>\n    <tr>\n      <th>ticker</th>\n      <th></th>\n      <th></th>\n      <th></th>\n      <th></th>\n      <th></th>\n      <th></th>\n      <th></th>\n    </tr>\n    <tr>\n      <th>investor</th>\n      <th></th>\n      <th></th>\n      <th></th>\n      <th></th>\n      <th></th>\n      <th></th>\n      <th></th>\n    </tr>\n  </thead>\n  <tbody>\n    <tr>\n      <th>Wesl3y</th>\n      <td>0</td>\n      <td>20011.0</td>\n      <td>328.0</td>\n      <td>-3.30</td>\n      <td>-6.01</td>\n      <td>5.0</td>\n      <td>49.71</td>\n    </tr>\n    <tr>\n      <th>Richardstroud</th>\n      <td>1</td>\n      <td>17219.0</td>\n      <td>221.0</td>\n      <td>-2.48</td>\n      <td>-4.39</td>\n      <td>4.0</td>\n      <td>31.91</td>\n    </tr>\n    <tr>\n      <th>SparkLiang</th>\n      <td>2</td>\n      <td>6956.0</td>\n      <td>174.0</td>\n      <td>-2.48</td>\n      <td>-4.15</td>\n      <td>4.0</td>\n      <td>29.63</td>\n    </tr>\n    <tr>\n      <th>CPHequities</th>\n      <td>3</td>\n      <td>20037.0</td>\n      <td>223.0</td>\n      <td>-4.52</td>\n      <td>-11.12</td>\n      <td>4.0</td>\n      <td>92.93</td>\n    </tr>\n    <tr>\n      <th>Miyoshi</th>\n      <td>4</td>\n      <td>8451.0</td>\n      <td>131.0</td>\n      <td>-2.73</td>\n      <td>-5.59</td>\n      <td>4.0</td>\n      <td>26.93</td>\n    </tr>\n  </tbody>\n</table>\n</div>"
     },
     "execution_count": 14,
     "metadata": {},
     "output_type": "execute_result"
    }
   ],
   "source": [
    "top_investors = a_df_short.groupby(\"cluster\")[\"Gain\"].nlargest(TOP_INVESTORS_WITHIN_CLUSTER).reset_index()[\"investor\"]\n",
    "a_df_short.loc[top_investors]"
   ]
  },
  {
   "cell_type": "code",
   "execution_count": 15,
   "metadata": {
    "collapsed": false,
    "jupyter": {
     "outputs_hidden": false
    },
    "pycharm": {
     "name": "#%%\n"
    }
   },
   "outputs": [],
   "source": [
    "portfol_weight = a_df.loc[top_investors][\"percent\"].sum(axis=0)\n",
    "portfol_weight = portfol_weight[portfol_weight != 0]\n",
    "portfol_weight = portfol_weight * 100 / portfol_weight.sum()\n",
    "portfol_weight = portfol_weight.sort_values(ascending=False)[:N_PORTFOLIO_ITEMS]"
   ]
  },
  {
   "cell_type": "code",
   "execution_count": 16,
   "metadata": {
    "collapsed": false,
    "jupyter": {
     "outputs_hidden": false
    },
    "pycharm": {
     "name": "#%%\n"
    }
   },
   "outputs": [
    {
     "data": {
      "text/plain": "     ticker  portfol_val                           company_name\n0      AMZN     5.173601                                 Amazon\n1      SHOP     5.070326                           Shopify Inc.\n2        FB     4.312973                               Facebook\n3       DIS     3.555621                            Walt Disney\n4   9988.HK     3.147438  Alibaba Group Holding Ltd (Hong Kong)\n5      MSFT     2.763844                              Microsoft\n6      AAPL     2.665486                                  Apple\n7    SPY5.L     2.338448                                   None\n8       AMD     2.311400             Advanced Micro Devices Inc\n9      BABA     2.215501                                Alibaba\n10       SQ     2.114685                           Square, Inc.\n11     CRSR     1.792564                     Corsair Gaming Inc\n12  9618.HK     1.785187                             JD.com Inc\n13     PYPL     1.672076                        PayPal Holdings\n14     CSIQ     1.664700                    Canadian Solar Inc.\n15       MU     1.615521                Micron Technology, Inc.\n16        V     1.588473                                   Visa\n17      TGT     1.561424                            Target Corp\n18     MELI     1.495033                           MercadoLibre\n19     GOOG     1.453231                               Alphabet",
      "text/html": "<div>\n<style scoped>\n    .dataframe tbody tr th:only-of-type {\n        vertical-align: middle;\n    }\n\n    .dataframe tbody tr th {\n        vertical-align: top;\n    }\n\n    .dataframe thead th {\n        text-align: right;\n    }\n</style>\n<table border=\"1\" class=\"dataframe\">\n  <thead>\n    <tr style=\"text-align: right;\">\n      <th></th>\n      <th>ticker</th>\n      <th>portfol_val</th>\n      <th>company_name</th>\n    </tr>\n  </thead>\n  <tbody>\n    <tr>\n      <th>0</th>\n      <td>AMZN</td>\n      <td>5.173601</td>\n      <td>Amazon</td>\n    </tr>\n    <tr>\n      <th>1</th>\n      <td>SHOP</td>\n      <td>5.070326</td>\n      <td>Shopify Inc.</td>\n    </tr>\n    <tr>\n      <th>2</th>\n      <td>FB</td>\n      <td>4.312973</td>\n      <td>Facebook</td>\n    </tr>\n    <tr>\n      <th>3</th>\n      <td>DIS</td>\n      <td>3.555621</td>\n      <td>Walt Disney</td>\n    </tr>\n    <tr>\n      <th>4</th>\n      <td>9988.HK</td>\n      <td>3.147438</td>\n      <td>Alibaba Group Holding Ltd (Hong Kong)</td>\n    </tr>\n    <tr>\n      <th>5</th>\n      <td>MSFT</td>\n      <td>2.763844</td>\n      <td>Microsoft</td>\n    </tr>\n    <tr>\n      <th>6</th>\n      <td>AAPL</td>\n      <td>2.665486</td>\n      <td>Apple</td>\n    </tr>\n    <tr>\n      <th>7</th>\n      <td>SPY5.L</td>\n      <td>2.338448</td>\n      <td>None</td>\n    </tr>\n    <tr>\n      <th>8</th>\n      <td>AMD</td>\n      <td>2.311400</td>\n      <td>Advanced Micro Devices Inc</td>\n    </tr>\n    <tr>\n      <th>9</th>\n      <td>BABA</td>\n      <td>2.215501</td>\n      <td>Alibaba</td>\n    </tr>\n    <tr>\n      <th>10</th>\n      <td>SQ</td>\n      <td>2.114685</td>\n      <td>Square, Inc.</td>\n    </tr>\n    <tr>\n      <th>11</th>\n      <td>CRSR</td>\n      <td>1.792564</td>\n      <td>Corsair Gaming Inc</td>\n    </tr>\n    <tr>\n      <th>12</th>\n      <td>9618.HK</td>\n      <td>1.785187</td>\n      <td>JD.com Inc</td>\n    </tr>\n    <tr>\n      <th>13</th>\n      <td>PYPL</td>\n      <td>1.672076</td>\n      <td>PayPal Holdings</td>\n    </tr>\n    <tr>\n      <th>14</th>\n      <td>CSIQ</td>\n      <td>1.664700</td>\n      <td>Canadian Solar Inc.</td>\n    </tr>\n    <tr>\n      <th>15</th>\n      <td>MU</td>\n      <td>1.615521</td>\n      <td>Micron Technology, Inc.</td>\n    </tr>\n    <tr>\n      <th>16</th>\n      <td>V</td>\n      <td>1.588473</td>\n      <td>Visa</td>\n    </tr>\n    <tr>\n      <th>17</th>\n      <td>TGT</td>\n      <td>1.561424</td>\n      <td>Target Corp</td>\n    </tr>\n    <tr>\n      <th>18</th>\n      <td>MELI</td>\n      <td>1.495033</td>\n      <td>MercadoLibre</td>\n    </tr>\n    <tr>\n      <th>19</th>\n      <td>GOOG</td>\n      <td>1.453231</td>\n      <td>Alphabet</td>\n    </tr>\n  </tbody>\n</table>\n</div>"
     },
     "execution_count": 16,
     "metadata": {},
     "output_type": "execute_result"
    }
   ],
   "source": [
    "\n",
    "portfol_weight_new = portfol_weight.to_frame(\"portfol_val\")\n",
    "portfol_weight_new[\"company_name\"] = portfol_weight_new.index.map(ticker_to_name_mapping)\n",
    "portfol_weight_new = portfol_weight_new.reset_index()\n",
    "portfol_weight_new"
   ]
  },
  {
   "cell_type": "code",
   "execution_count": 16,
   "metadata": {
    "collapsed": false,
    "jupyter": {
     "outputs_hidden": false
    },
    "pycharm": {
     "name": "#%%\n"
    }
   },
   "outputs": [],
   "source": []
  }
 ],
 "metadata": {
  "kernelspec": {
   "display_name": "Python 3 (ipykernel)",
   "language": "python",
   "name": "python3"
  },
  "language_info": {
   "codemirror_mode": {
    "name": "ipython",
    "version": 3
   },
   "file_extension": ".py",
   "mimetype": "text/x-python",
   "name": "python",
   "nbconvert_exporter": "python",
   "pygments_lexer": "ipython3",
   "version": "3.9.5"
  }
 },
 "nbformat": 4,
 "nbformat_minor": 4
}