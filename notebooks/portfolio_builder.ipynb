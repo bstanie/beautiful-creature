{
 "cells": [
  {
   "cell_type": "code",
   "execution_count": 11,
   "metadata": {
    "collapsed": true
   },
   "outputs": [],
   "source": [
    "from collections import defaultdict, OrderedDict\n",
    "from datetime import datetime\n",
    "\n",
    "import numpy as np\n",
    "import pymongo\n",
    "import pandas as pd\n",
    "from sklearn.ensemble import IsolationForest\n",
    "from sklearn.cluster import DBSCAN, KMeans, AgglomerativeClustering"
   ]
  },
  {
   "cell_type": "code",
   "execution_count": 12,
   "outputs": [],
   "source": [
    "\n",
    "\n",
    "class Settings:\n",
    "    MONGODB_SERVER = \"localhost\"\n",
    "    MONGODB_PORT = 27017\n",
    "    MONGODB_DB = \"beautiful_creature\"\n",
    "    MONGODB_INVESTOR_COLLECTION = \"investors\"\n",
    "    MONGODB_PORTFOLIO_COLLECTION = \"portfolios\"\n",
    "\n",
    "    def __getitem__(self, key):\n",
    "        return getattr(self, key)\n",
    "\n",
    "\n",
    "timestamp = datetime.now().strftime(\"%d-%m-%y\")\n",
    "settings = Settings()\n",
    "connection = pymongo.MongoClient(\n",
    "    settings['MONGODB_SERVER'],\n",
    "    settings['MONGODB_PORT']\n",
    ")\n",
    "investor_collection_name = f\"{settings['MONGODB_INVESTOR_COLLECTION']}_{timestamp}\"\n",
    "portfolio_collection_name = f\"{settings['MONGODB_PORTFOLIO_COLLECTION']}_{timestamp}\"\n",
    "db = connection[settings['MONGODB_DB']]\n",
    "investor_collection = db[investor_collection_name]\n",
    "portfolio_collection = db[portfolio_collection_name]\n",
    "investors = list(investor_collection.find({}))\n",
    "investors = {i[\"UserName\"]: i for i in investors}"
   ],
   "metadata": {
    "collapsed": false,
    "pycharm": {
     "name": "#%%\n"
    }
   }
  },
  {
   "cell_type": "code",
   "execution_count": 13,
   "outputs": [],
   "source": [
    "portfols = list(portfolio_collection.find({}))"
   ],
   "metadata": {
    "collapsed": false,
    "pycharm": {
     "name": "#%%\n"
    }
   }
  },
  {
   "cell_type": "code",
   "execution_count": 14,
   "outputs": [],
   "source": [
    "items = defaultdict(list)"
   ],
   "metadata": {
    "collapsed": false,
    "pycharm": {
     "name": "#%%\n"
    }
   }
  },
  {
   "cell_type": "code",
   "execution_count": 15,
   "outputs": [],
   "source": [
    "for p in portfols:\n",
    "    for i in p[\"items\"]:\n",
    "        if i[\"type\"] == \"Buying\":\n",
    "            items[i[\"company_ticker\"]].append(round(float(i[\"invested\"].replace(\"%\", \"\")), 3))"
   ],
   "metadata": {
    "collapsed": false,
    "pycharm": {
     "name": "#%%\n"
    }
   }
  },
  {
   "cell_type": "code",
   "execution_count": 16,
   "outputs": [],
   "source": [
    "stats = []\n",
    "for item in items:\n",
    "    item_stat = {\"item_name\": item, \"count\":len(items[item]),\n",
    "                 \"mean\": np.mean(items[item]), \"std\": np.std(items[item])}\n",
    "    stats.append(item_stat)\n",
    "\n",
    "df = pd.DataFrame.from_records(stats)\n",
    "df[\"std/mean\"] = df[\"std\"] / df[\"mean\"]\n",
    "df = df.set_index(\"item_name\")\n",
    "df = df.sort_values(\"count\",ascending=False).head(50)\n",
    "# i_forest = IsolationForest()\n",
    "# df[\"score\"] = i_forest.fit(df).score_samples(df)\n",
    "# df.sort_values(\"score\").head(10)"
   ],
   "metadata": {
    "collapsed": false,
    "pycharm": {
     "name": "#%%\n"
    }
   }
  },
  {
   "cell_type": "code",
   "execution_count": 17,
   "outputs": [
    {
     "data": {
      "text/plain": "           count      mean       std  std/mean  portfol_val\nitem_name                                                  \nAMZN          49  3.425918  2.460996  0.718346     7.512148\nAAPL          41  2.883902  1.555973  0.539537     6.323648\nAMD           36  2.846944  1.569662  0.551350     6.242609\n1810.HK       21  2.720000  1.554327  0.571444     5.964252\nJD.US         24  2.412917  1.679081  0.695872     5.290899\nDOYU          18  2.311667  1.454225  0.629081     5.068884\nNVDA          28  2.287143  1.272486  0.556365     5.015109\nDIS           29  2.282414  1.482618  0.649583     5.004740\nTSLA          23  2.261739  1.637595  0.724043     4.959406\nSQ            20  2.244000  1.606868  0.716073     4.920508\n0968.HK       16  2.228750  1.382791  0.620433     4.887069\nCSIQ          25  2.206400  0.914006  0.414252     4.838061\nNIO           25  2.182800  1.346086  0.616679     4.786313\nMELI          17  2.154118  1.392742  0.646549     4.723420\nSE            18  2.033333  1.365841  0.671725     4.458571\nPYPL          25  2.020000  1.488696  0.736978     4.429334\nBYND          20  1.988500  1.253604  0.630427     4.360263\nCRM           24  1.935833  1.406405  0.726511     4.244779\nSEDG          25  1.742000  0.913512  0.524404     3.819753\nTSM           15  1.436667  1.030131  0.717028     3.150236",
      "text/html": "<div>\n<style scoped>\n    .dataframe tbody tr th:only-of-type {\n        vertical-align: middle;\n    }\n\n    .dataframe tbody tr th {\n        vertical-align: top;\n    }\n\n    .dataframe thead th {\n        text-align: right;\n    }\n</style>\n<table border=\"1\" class=\"dataframe\">\n  <thead>\n    <tr style=\"text-align: right;\">\n      <th></th>\n      <th>count</th>\n      <th>mean</th>\n      <th>std</th>\n      <th>std/mean</th>\n      <th>portfol_val</th>\n    </tr>\n    <tr>\n      <th>item_name</th>\n      <th></th>\n      <th></th>\n      <th></th>\n      <th></th>\n      <th></th>\n    </tr>\n  </thead>\n  <tbody>\n    <tr>\n      <th>AMZN</th>\n      <td>49</td>\n      <td>3.425918</td>\n      <td>2.460996</td>\n      <td>0.718346</td>\n      <td>7.512148</td>\n    </tr>\n    <tr>\n      <th>AAPL</th>\n      <td>41</td>\n      <td>2.883902</td>\n      <td>1.555973</td>\n      <td>0.539537</td>\n      <td>6.323648</td>\n    </tr>\n    <tr>\n      <th>AMD</th>\n      <td>36</td>\n      <td>2.846944</td>\n      <td>1.569662</td>\n      <td>0.551350</td>\n      <td>6.242609</td>\n    </tr>\n    <tr>\n      <th>1810.HK</th>\n      <td>21</td>\n      <td>2.720000</td>\n      <td>1.554327</td>\n      <td>0.571444</td>\n      <td>5.964252</td>\n    </tr>\n    <tr>\n      <th>JD.US</th>\n      <td>24</td>\n      <td>2.412917</td>\n      <td>1.679081</td>\n      <td>0.695872</td>\n      <td>5.290899</td>\n    </tr>\n    <tr>\n      <th>DOYU</th>\n      <td>18</td>\n      <td>2.311667</td>\n      <td>1.454225</td>\n      <td>0.629081</td>\n      <td>5.068884</td>\n    </tr>\n    <tr>\n      <th>NVDA</th>\n      <td>28</td>\n      <td>2.287143</td>\n      <td>1.272486</td>\n      <td>0.556365</td>\n      <td>5.015109</td>\n    </tr>\n    <tr>\n      <th>DIS</th>\n      <td>29</td>\n      <td>2.282414</td>\n      <td>1.482618</td>\n      <td>0.649583</td>\n      <td>5.004740</td>\n    </tr>\n    <tr>\n      <th>TSLA</th>\n      <td>23</td>\n      <td>2.261739</td>\n      <td>1.637595</td>\n      <td>0.724043</td>\n      <td>4.959406</td>\n    </tr>\n    <tr>\n      <th>SQ</th>\n      <td>20</td>\n      <td>2.244000</td>\n      <td>1.606868</td>\n      <td>0.716073</td>\n      <td>4.920508</td>\n    </tr>\n    <tr>\n      <th>0968.HK</th>\n      <td>16</td>\n      <td>2.228750</td>\n      <td>1.382791</td>\n      <td>0.620433</td>\n      <td>4.887069</td>\n    </tr>\n    <tr>\n      <th>CSIQ</th>\n      <td>25</td>\n      <td>2.206400</td>\n      <td>0.914006</td>\n      <td>0.414252</td>\n      <td>4.838061</td>\n    </tr>\n    <tr>\n      <th>NIO</th>\n      <td>25</td>\n      <td>2.182800</td>\n      <td>1.346086</td>\n      <td>0.616679</td>\n      <td>4.786313</td>\n    </tr>\n    <tr>\n      <th>MELI</th>\n      <td>17</td>\n      <td>2.154118</td>\n      <td>1.392742</td>\n      <td>0.646549</td>\n      <td>4.723420</td>\n    </tr>\n    <tr>\n      <th>SE</th>\n      <td>18</td>\n      <td>2.033333</td>\n      <td>1.365841</td>\n      <td>0.671725</td>\n      <td>4.458571</td>\n    </tr>\n    <tr>\n      <th>PYPL</th>\n      <td>25</td>\n      <td>2.020000</td>\n      <td>1.488696</td>\n      <td>0.736978</td>\n      <td>4.429334</td>\n    </tr>\n    <tr>\n      <th>BYND</th>\n      <td>20</td>\n      <td>1.988500</td>\n      <td>1.253604</td>\n      <td>0.630427</td>\n      <td>4.360263</td>\n    </tr>\n    <tr>\n      <th>CRM</th>\n      <td>24</td>\n      <td>1.935833</td>\n      <td>1.406405</td>\n      <td>0.726511</td>\n      <td>4.244779</td>\n    </tr>\n    <tr>\n      <th>SEDG</th>\n      <td>25</td>\n      <td>1.742000</td>\n      <td>0.913512</td>\n      <td>0.524404</td>\n      <td>3.819753</td>\n    </tr>\n    <tr>\n      <th>TSM</th>\n      <td>15</td>\n      <td>1.436667</td>\n      <td>1.030131</td>\n      <td>0.717028</td>\n      <td>3.150236</td>\n    </tr>\n  </tbody>\n</table>\n</div>"
     },
     "execution_count": 17,
     "metadata": {},
     "output_type": "execute_result"
    }
   ],
   "source": [
    "df = df.sort_values(\"count\",ascending=False).sort_values(\"std/mean\").head(20)\n",
    "df[\"portfol_val\"] = df[\"mean\"] * 100 / df[\"mean\"].sum()\n",
    "df.sort_values(\"portfol_val\",ascending=False)"
   ],
   "metadata": {
    "collapsed": false,
    "pycharm": {
     "name": "#%%\n"
    }
   }
  },
  {
   "cell_type": "code",
   "execution_count": 18,
   "outputs": [],
   "source": [
    "a_portfols = []\n",
    "for p in portfols:\n",
    "    for i in p[\"items\"]:\n",
    "        if i[\"type\"] == \"Buying\":\n",
    "            a_portfols.append((p[\"investor_name\"], float(i[\"value\"].replace(\"%\",\"\")), i[\"company_ticker\"]))"
   ],
   "metadata": {
    "collapsed": false,
    "pycharm": {
     "name": "#%%\n"
    }
   }
  },
  {
   "cell_type": "code",
   "execution_count": 19,
   "outputs": [],
   "source": [
    "a_df = pd.DataFrame(data=a_portfols,columns=[\"investor\",\"percent\",\"ticker\"])\n",
    "a_df = a_df.pivot_table(index=\"investor\", columns=\"ticker\").fillna(0)\n",
    "a_df[\"cluster\"] = KMeans(n_clusters=5).fit_predict(a_df)\n",
    "fields = [\"Copiers\",\"ActiveWeeks\",\"WeeksSinceRegistration\",\"DailyDD\",\"WeeklyDD\",\"RiskScore\",\"Gain\"]\n",
    "\n",
    "for investor_name in a_df.index:\n",
    "    for field in fields:\n",
    "        a_df.loc[investor_name,field] = investors[investor_name][field]\n",
    "a_df = a_df.drop(\"percent\",axis=1)"
   ],
   "metadata": {
    "collapsed": false,
    "pycharm": {
     "name": "#%%\n"
    }
   }
  },
  {
   "cell_type": "code",
   "execution_count": 23,
   "outputs": [
    {
     "data": {
      "text/plain": "                cluster  Copiers ActiveWeeks WeeksSinceRegistration DailyDD  \\\nticker                                                                        \ninvestor                                                                      \nbalticseal            4   1340.0        53.0                   99.0   -2.40   \nchiay0327             4    760.0        53.0                  236.0   -1.90   \nmyhungetoro           3    388.0        53.0                   98.0   -2.09   \nIsbelle               2    643.0        53.0                  212.0   -3.72   \nSamosaking            2    599.0        53.0                   60.0   -4.34   \nsgstjc                2   1431.0        53.0                   85.0   -4.88   \nfastrading            2    326.0        53.0                  316.0   -4.09   \nConhoulihan           2   1125.0        53.0                  273.0   -4.41   \nMattewL               2    460.0        53.0                  116.0   -4.82   \ncampervans            2   2155.0        53.0                  589.0   -4.75   \nRadimGoth             2    281.0        53.0                   65.0   -4.38   \njoaoguimaraes10       2   1316.0        53.0                   64.0   -4.46   \nMassimoTol            2    461.0        53.0                  195.0   -4.56   \nAguero1010            2   1108.0        53.0                   63.0   -4.26   \npino428               2   4964.0        53.0                   86.0   -4.06   \nkasperpatrick1        2    359.0        53.0                   71.0   -4.66   \nMonabel               2   1068.0        53.0                   67.0   -4.20   \nJamesBeadle           2    615.0        53.0                  393.0   -3.09   \nGreenbullInvest       2   8190.0        53.0                  109.0   -3.93   \nHarryH1993            2   2926.0        53.0                  237.0   -4.75   \nGreatCompanies        2    330.0        53.0                   61.0   -3.36   \nRobertMERC            2   4832.0        53.0                   69.0   -2.99   \nDavidePerina          2   1228.0        53.0                  137.0   -4.67   \nCanZhao               2   5956.0        53.0                  230.0   -3.46   \nReturnInvest          2   3690.0        53.0                  127.0   -3.69   \nemge2116              2   2111.0        53.0                  229.0   -4.59   \nJeppeKirkBonde        2  27984.0        53.0                  416.0   -2.85   \ngeorgech89            2    648.0        53.0                  117.0   -3.91   \nWesl3y                2  20089.0        53.0                  328.0   -3.30   \ncopy_ark_invest       2   1608.0        53.0                   73.0   -4.72   \n\n                WeeklyDD RiskScore    Gain  \nticker                                      \ninvestor                                    \nbalticseal         -2.99       3.0   17.15  \nchiay0327          -2.52       3.0   10.05  \nmyhungetoro        -3.29       3.0    5.48  \nIsbelle            -7.69       4.0  177.72  \nSamosaking         -6.13       3.0  157.15  \nsgstjc             -8.51       4.0  146.61  \nfastrading         -8.16       5.0  111.93  \nConhoulihan        -8.43       6.0  105.79  \nMattewL           -10.65       5.0   94.87  \ncampervans         -6.93       5.0   93.27  \nRadimGoth         -10.00       4.0   91.44  \njoaoguimaraes10    -8.36       5.0   89.76  \nMassimoTol         -8.78       5.0   80.26  \nAguero1010         -5.58       4.0   80.07  \npino428            -4.94       3.0   73.10  \nkasperpatrick1     -8.73       5.0   72.66  \nMonabel            -5.62       4.0   68.75  \nJamesBeadle        -5.11       5.0   64.99  \nGreenbullInvest    -6.85       3.0   64.62  \nHarryH1993         -6.93       4.0   64.02  \nGreatCompanies     -6.02       5.0   61.12  \nRobertMERC         -4.27       5.0   60.99  \nDavidePerina       -8.05       5.0   59.01  \nCanZhao            -6.74       5.0   58.87  \nReturnInvest       -5.84       4.0   58.71  \nemge2116           -7.58       4.0   58.00  \nJeppeKirkBonde     -5.61       4.0   56.78  \ngeorgech89         -6.20       5.0   53.28  \nWesl3y             -6.01       5.0   53.04  \ncopy_ark_invest   -11.36       5.0   52.64  ",
      "text/html": "<div>\n<style scoped>\n    .dataframe tbody tr th:only-of-type {\n        vertical-align: middle;\n    }\n\n    .dataframe tbody tr th {\n        vertical-align: top;\n    }\n\n    .dataframe thead tr th {\n        text-align: left;\n    }\n\n    .dataframe thead tr:last-of-type th {\n        text-align: right;\n    }\n</style>\n<table border=\"1\" class=\"dataframe\">\n  <thead>\n    <tr>\n      <th></th>\n      <th>cluster</th>\n      <th>Copiers</th>\n      <th>ActiveWeeks</th>\n      <th>WeeksSinceRegistration</th>\n      <th>DailyDD</th>\n      <th>WeeklyDD</th>\n      <th>RiskScore</th>\n      <th>Gain</th>\n    </tr>\n    <tr>\n      <th>ticker</th>\n      <th></th>\n      <th></th>\n      <th></th>\n      <th></th>\n      <th></th>\n      <th></th>\n      <th></th>\n      <th></th>\n    </tr>\n    <tr>\n      <th>investor</th>\n      <th></th>\n      <th></th>\n      <th></th>\n      <th></th>\n      <th></th>\n      <th></th>\n      <th></th>\n      <th></th>\n    </tr>\n  </thead>\n  <tbody>\n    <tr>\n      <th>balticseal</th>\n      <td>4</td>\n      <td>1340.0</td>\n      <td>53.0</td>\n      <td>99.0</td>\n      <td>-2.40</td>\n      <td>-2.99</td>\n      <td>3.0</td>\n      <td>17.15</td>\n    </tr>\n    <tr>\n      <th>chiay0327</th>\n      <td>4</td>\n      <td>760.0</td>\n      <td>53.0</td>\n      <td>236.0</td>\n      <td>-1.90</td>\n      <td>-2.52</td>\n      <td>3.0</td>\n      <td>10.05</td>\n    </tr>\n    <tr>\n      <th>myhungetoro</th>\n      <td>3</td>\n      <td>388.0</td>\n      <td>53.0</td>\n      <td>98.0</td>\n      <td>-2.09</td>\n      <td>-3.29</td>\n      <td>3.0</td>\n      <td>5.48</td>\n    </tr>\n    <tr>\n      <th>Isbelle</th>\n      <td>2</td>\n      <td>643.0</td>\n      <td>53.0</td>\n      <td>212.0</td>\n      <td>-3.72</td>\n      <td>-7.69</td>\n      <td>4.0</td>\n      <td>177.72</td>\n    </tr>\n    <tr>\n      <th>Samosaking</th>\n      <td>2</td>\n      <td>599.0</td>\n      <td>53.0</td>\n      <td>60.0</td>\n      <td>-4.34</td>\n      <td>-6.13</td>\n      <td>3.0</td>\n      <td>157.15</td>\n    </tr>\n    <tr>\n      <th>sgstjc</th>\n      <td>2</td>\n      <td>1431.0</td>\n      <td>53.0</td>\n      <td>85.0</td>\n      <td>-4.88</td>\n      <td>-8.51</td>\n      <td>4.0</td>\n      <td>146.61</td>\n    </tr>\n    <tr>\n      <th>fastrading</th>\n      <td>2</td>\n      <td>326.0</td>\n      <td>53.0</td>\n      <td>316.0</td>\n      <td>-4.09</td>\n      <td>-8.16</td>\n      <td>5.0</td>\n      <td>111.93</td>\n    </tr>\n    <tr>\n      <th>Conhoulihan</th>\n      <td>2</td>\n      <td>1125.0</td>\n      <td>53.0</td>\n      <td>273.0</td>\n      <td>-4.41</td>\n      <td>-8.43</td>\n      <td>6.0</td>\n      <td>105.79</td>\n    </tr>\n    <tr>\n      <th>MattewL</th>\n      <td>2</td>\n      <td>460.0</td>\n      <td>53.0</td>\n      <td>116.0</td>\n      <td>-4.82</td>\n      <td>-10.65</td>\n      <td>5.0</td>\n      <td>94.87</td>\n    </tr>\n    <tr>\n      <th>campervans</th>\n      <td>2</td>\n      <td>2155.0</td>\n      <td>53.0</td>\n      <td>589.0</td>\n      <td>-4.75</td>\n      <td>-6.93</td>\n      <td>5.0</td>\n      <td>93.27</td>\n    </tr>\n    <tr>\n      <th>RadimGoth</th>\n      <td>2</td>\n      <td>281.0</td>\n      <td>53.0</td>\n      <td>65.0</td>\n      <td>-4.38</td>\n      <td>-10.00</td>\n      <td>4.0</td>\n      <td>91.44</td>\n    </tr>\n    <tr>\n      <th>joaoguimaraes10</th>\n      <td>2</td>\n      <td>1316.0</td>\n      <td>53.0</td>\n      <td>64.0</td>\n      <td>-4.46</td>\n      <td>-8.36</td>\n      <td>5.0</td>\n      <td>89.76</td>\n    </tr>\n    <tr>\n      <th>MassimoTol</th>\n      <td>2</td>\n      <td>461.0</td>\n      <td>53.0</td>\n      <td>195.0</td>\n      <td>-4.56</td>\n      <td>-8.78</td>\n      <td>5.0</td>\n      <td>80.26</td>\n    </tr>\n    <tr>\n      <th>Aguero1010</th>\n      <td>2</td>\n      <td>1108.0</td>\n      <td>53.0</td>\n      <td>63.0</td>\n      <td>-4.26</td>\n      <td>-5.58</td>\n      <td>4.0</td>\n      <td>80.07</td>\n    </tr>\n    <tr>\n      <th>pino428</th>\n      <td>2</td>\n      <td>4964.0</td>\n      <td>53.0</td>\n      <td>86.0</td>\n      <td>-4.06</td>\n      <td>-4.94</td>\n      <td>3.0</td>\n      <td>73.10</td>\n    </tr>\n    <tr>\n      <th>kasperpatrick1</th>\n      <td>2</td>\n      <td>359.0</td>\n      <td>53.0</td>\n      <td>71.0</td>\n      <td>-4.66</td>\n      <td>-8.73</td>\n      <td>5.0</td>\n      <td>72.66</td>\n    </tr>\n    <tr>\n      <th>Monabel</th>\n      <td>2</td>\n      <td>1068.0</td>\n      <td>53.0</td>\n      <td>67.0</td>\n      <td>-4.20</td>\n      <td>-5.62</td>\n      <td>4.0</td>\n      <td>68.75</td>\n    </tr>\n    <tr>\n      <th>JamesBeadle</th>\n      <td>2</td>\n      <td>615.0</td>\n      <td>53.0</td>\n      <td>393.0</td>\n      <td>-3.09</td>\n      <td>-5.11</td>\n      <td>5.0</td>\n      <td>64.99</td>\n    </tr>\n    <tr>\n      <th>GreenbullInvest</th>\n      <td>2</td>\n      <td>8190.0</td>\n      <td>53.0</td>\n      <td>109.0</td>\n      <td>-3.93</td>\n      <td>-6.85</td>\n      <td>3.0</td>\n      <td>64.62</td>\n    </tr>\n    <tr>\n      <th>HarryH1993</th>\n      <td>2</td>\n      <td>2926.0</td>\n      <td>53.0</td>\n      <td>237.0</td>\n      <td>-4.75</td>\n      <td>-6.93</td>\n      <td>4.0</td>\n      <td>64.02</td>\n    </tr>\n    <tr>\n      <th>GreatCompanies</th>\n      <td>2</td>\n      <td>330.0</td>\n      <td>53.0</td>\n      <td>61.0</td>\n      <td>-3.36</td>\n      <td>-6.02</td>\n      <td>5.0</td>\n      <td>61.12</td>\n    </tr>\n    <tr>\n      <th>RobertMERC</th>\n      <td>2</td>\n      <td>4832.0</td>\n      <td>53.0</td>\n      <td>69.0</td>\n      <td>-2.99</td>\n      <td>-4.27</td>\n      <td>5.0</td>\n      <td>60.99</td>\n    </tr>\n    <tr>\n      <th>DavidePerina</th>\n      <td>2</td>\n      <td>1228.0</td>\n      <td>53.0</td>\n      <td>137.0</td>\n      <td>-4.67</td>\n      <td>-8.05</td>\n      <td>5.0</td>\n      <td>59.01</td>\n    </tr>\n    <tr>\n      <th>CanZhao</th>\n      <td>2</td>\n      <td>5956.0</td>\n      <td>53.0</td>\n      <td>230.0</td>\n      <td>-3.46</td>\n      <td>-6.74</td>\n      <td>5.0</td>\n      <td>58.87</td>\n    </tr>\n    <tr>\n      <th>ReturnInvest</th>\n      <td>2</td>\n      <td>3690.0</td>\n      <td>53.0</td>\n      <td>127.0</td>\n      <td>-3.69</td>\n      <td>-5.84</td>\n      <td>4.0</td>\n      <td>58.71</td>\n    </tr>\n    <tr>\n      <th>emge2116</th>\n      <td>2</td>\n      <td>2111.0</td>\n      <td>53.0</td>\n      <td>229.0</td>\n      <td>-4.59</td>\n      <td>-7.58</td>\n      <td>4.0</td>\n      <td>58.00</td>\n    </tr>\n    <tr>\n      <th>JeppeKirkBonde</th>\n      <td>2</td>\n      <td>27984.0</td>\n      <td>53.0</td>\n      <td>416.0</td>\n      <td>-2.85</td>\n      <td>-5.61</td>\n      <td>4.0</td>\n      <td>56.78</td>\n    </tr>\n    <tr>\n      <th>georgech89</th>\n      <td>2</td>\n      <td>648.0</td>\n      <td>53.0</td>\n      <td>117.0</td>\n      <td>-3.91</td>\n      <td>-6.20</td>\n      <td>5.0</td>\n      <td>53.28</td>\n    </tr>\n    <tr>\n      <th>Wesl3y</th>\n      <td>2</td>\n      <td>20089.0</td>\n      <td>53.0</td>\n      <td>328.0</td>\n      <td>-3.30</td>\n      <td>-6.01</td>\n      <td>5.0</td>\n      <td>53.04</td>\n    </tr>\n    <tr>\n      <th>copy_ark_invest</th>\n      <td>2</td>\n      <td>1608.0</td>\n      <td>53.0</td>\n      <td>73.0</td>\n      <td>-4.72</td>\n      <td>-11.36</td>\n      <td>5.0</td>\n      <td>52.64</td>\n    </tr>\n  </tbody>\n</table>\n</div>"
     },
     "execution_count": 23,
     "metadata": {},
     "output_type": "execute_result"
    }
   ],
   "source": [
    "# a_df.sort_values(\"Copiers\",ascending=False).head(30)\n",
    "a_df.sort_values([\"cluster\",\"Gain\"],ascending=False).head(30)"
   ],
   "metadata": {
    "collapsed": false,
    "pycharm": {
     "name": "#%%\n"
    }
   }
  },
  {
   "cell_type": "code",
   "execution_count": 20,
   "outputs": [],
   "source": [],
   "metadata": {
    "collapsed": false,
    "pycharm": {
     "name": "#%%\n"
    }
   }
  }
 ],
 "metadata": {
  "kernelspec": {
   "display_name": "Python 3",
   "language": "python",
   "name": "python3"
  },
  "language_info": {
   "codemirror_mode": {
    "name": "ipython",
    "version": 2
   },
   "file_extension": ".py",
   "mimetype": "text/x-python",
   "name": "python",
   "nbconvert_exporter": "python",
   "pygments_lexer": "ipython2",
   "version": "2.7.6"
  }
 },
 "nbformat": 4,
 "nbformat_minor": 0
}