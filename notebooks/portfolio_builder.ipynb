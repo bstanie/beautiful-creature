{
 "cells": [
  {
   "cell_type": "code",
   "execution_count": 1,
   "metadata": {
    "collapsed": true
   },
   "outputs": [],
   "source": [
    "from collections import defaultdict, OrderedDict\n",
    "from datetime import datetime\n",
    "\n",
    "import numpy as np\n",
    "import pymongo\n",
    "import pandas as pd\n",
    "from sklearn.ensemble import IsolationForest\n",
    "from sklearn.cluster import DBSCAN, KMeans, AgglomerativeClustering"
   ]
  },
  {
   "cell_type": "code",
   "execution_count": 2,
   "outputs": [],
   "source": [
    "\n",
    "\n",
    "class Settings:\n",
    "    MONGODB_SERVER = \"localhost\"\n",
    "    MONGODB_PORT = 27017\n",
    "    MONGODB_DB = \"beautiful_creature\"\n",
    "    MONGODB_INVESTOR_COLLECTION = \"investors\"\n",
    "    MONGODB_PORTFOLIO_COLLECTION = \"portfolios\"\n",
    "\n",
    "    def __getitem__(self, key):\n",
    "        return getattr(self, key)\n",
    "\n",
    "\n",
    "timestamp = datetime.now().strftime(\"%d-%m-%y\")\n",
    "settings = Settings()\n",
    "connection = pymongo.MongoClient(\n",
    "    settings['MONGODB_SERVER'],\n",
    "    settings['MONGODB_PORT']\n",
    ")\n",
    "investor_collection_name = f\"{settings['MONGODB_INVESTOR_COLLECTION']}_{timestamp}\"\n",
    "portfolio_collection_name = f\"{settings['MONGODB_PORTFOLIO_COLLECTION']}_{timestamp}\"\n",
    "db = connection[settings['MONGODB_DB']]\n",
    "investor_collection = db[investor_collection_name]\n",
    "portfolio_collection = db[portfolio_collection_name]\n",
    "investors = list(investor_collection.find({}))\n",
    "investors = {i[\"UserName\"]: i for i in investors}"
   ],
   "metadata": {
    "collapsed": false,
    "pycharm": {
     "name": "#%%\n"
    }
   }
  },
  {
   "cell_type": "code",
   "execution_count": 3,
   "outputs": [],
   "source": [
    "portfols = list(portfolio_collection.find({}))"
   ],
   "metadata": {
    "collapsed": false,
    "pycharm": {
     "name": "#%%\n"
    }
   }
  },
  {
   "cell_type": "code",
   "execution_count": 4,
   "outputs": [],
   "source": [
    "items = defaultdict(list)"
   ],
   "metadata": {
    "collapsed": false,
    "pycharm": {
     "name": "#%%\n"
    }
   }
  },
  {
   "cell_type": "code",
   "execution_count": 5,
   "outputs": [],
   "source": [
    "for p in portfols:\n",
    "    for i in p[\"items\"]:\n",
    "        if i[\"type\"] == \"Buying\":\n",
    "            try:\n",
    "                items[i[\"company_ticker\"]].append(round(float(i[\"invested\"].replace(\"%\", \"\")), 3))\n",
    "            except ValueError as e:\n",
    "                if \"<0.01\" in str(e):\n",
    "                    pass\n",
    "                else:\n",
    "                    raise (e)"
   ],
   "metadata": {
    "collapsed": false,
    "pycharm": {
     "name": "#%%\n"
    }
   }
  },
  {
   "cell_type": "code",
   "execution_count": 6,
   "outputs": [],
   "source": [
    "\n",
    "ticker_to_name_mapping = defaultdict(str)\n",
    "for p in portfols:\n",
    "    for i in p[\"items\"]:\n",
    "        ticker_to_name_mapping[i[\"company_ticker\"]] = i.get(\"company_name\", None)"
   ],
   "metadata": {
    "collapsed": false,
    "pycharm": {
     "name": "#%%\n"
    }
   }
  },
  {
   "cell_type": "code",
   "execution_count": 19,
   "outputs": [],
   "source": [
    "# basic portfolio settings\n",
    "TOP_N_BY_COUNTS = 50\n",
    "TOP_N_BY_RATIO = 15\n"
   ],
   "metadata": {
    "collapsed": false,
    "pycharm": {
     "name": "#%%\n"
    }
   }
  },
  {
   "cell_type": "code",
   "execution_count": 20,
   "outputs": [],
   "source": [
    "stats = []\n",
    "for item in items:\n",
    "    item_stat = {\"item_name\": item, \"count\": len(items[item]),\n",
    "                 \"mean\": np.mean(items[item]), \"std\": np.std(items[item])}\n",
    "    stats.append(item_stat)\n",
    "\n",
    "df = pd.DataFrame.from_records(stats)\n",
    "df[\"std/mean\"] = df[\"std\"] / df[\"mean\"]\n",
    "df = df.set_index(\"item_name\")\n",
    "df = df.sort_values(\"count\", ascending=False).head(TOP_N_BY_COUNTS)"
   ],
   "metadata": {
    "collapsed": false,
    "pycharm": {
     "name": "#%%\n"
    }
   }
  },
  {
   "cell_type": "code",
   "execution_count": 21,
   "outputs": [
    {
     "data": {
      "text/plain": "   item_name  portfol_val                                     company_name\n3        AMD     8.682508                       Advanced Micro Devices Inc\n4    1810.HK     7.986337                                      Xiaomi Corp\n1       CSIQ     7.517029                              Canadian Solar Inc.\n7       DOYU     7.421353                                            Douyu\n14     JD.US     7.326327                                           JD.com\n8       NVDA     7.173672                               NVIDIA Corporation\n6        NIO     7.153835                                         Nio Inc.\n5       BYND     6.979456                                 Beyond Meat Inc.\n9       TSLA     6.934937                               Tesla Motors, Inc.\n13       DIS     6.823574                                      Walt Disney\n11      ARKK     6.531612                                             None\n12       TSM     5.530024  Taiwan Semiconductor Manufacturing Co Ltd - ADR\n0       SEDG     5.338165                           SolarEdge Technologies\n10       ADA     4.560577                                             None\n2       QCOM     4.040595                                     Qualcomm Inc",
      "text/html": "<div>\n<style scoped>\n    .dataframe tbody tr th:only-of-type {\n        vertical-align: middle;\n    }\n\n    .dataframe tbody tr th {\n        vertical-align: top;\n    }\n\n    .dataframe thead th {\n        text-align: right;\n    }\n</style>\n<table border=\"1\" class=\"dataframe\">\n  <thead>\n    <tr style=\"text-align: right;\">\n      <th></th>\n      <th>item_name</th>\n      <th>portfol_val</th>\n      <th>company_name</th>\n    </tr>\n  </thead>\n  <tbody>\n    <tr>\n      <th>3</th>\n      <td>AMD</td>\n      <td>8.682508</td>\n      <td>Advanced Micro Devices Inc</td>\n    </tr>\n    <tr>\n      <th>4</th>\n      <td>1810.HK</td>\n      <td>7.986337</td>\n      <td>Xiaomi Corp</td>\n    </tr>\n    <tr>\n      <th>1</th>\n      <td>CSIQ</td>\n      <td>7.517029</td>\n      <td>Canadian Solar Inc.</td>\n    </tr>\n    <tr>\n      <th>7</th>\n      <td>DOYU</td>\n      <td>7.421353</td>\n      <td>Douyu</td>\n    </tr>\n    <tr>\n      <th>14</th>\n      <td>JD.US</td>\n      <td>7.326327</td>\n      <td>JD.com</td>\n    </tr>\n    <tr>\n      <th>8</th>\n      <td>NVDA</td>\n      <td>7.173672</td>\n      <td>NVIDIA Corporation</td>\n    </tr>\n    <tr>\n      <th>6</th>\n      <td>NIO</td>\n      <td>7.153835</td>\n      <td>Nio Inc.</td>\n    </tr>\n    <tr>\n      <th>5</th>\n      <td>BYND</td>\n      <td>6.979456</td>\n      <td>Beyond Meat Inc.</td>\n    </tr>\n    <tr>\n      <th>9</th>\n      <td>TSLA</td>\n      <td>6.934937</td>\n      <td>Tesla Motors, Inc.</td>\n    </tr>\n    <tr>\n      <th>13</th>\n      <td>DIS</td>\n      <td>6.823574</td>\n      <td>Walt Disney</td>\n    </tr>\n    <tr>\n      <th>11</th>\n      <td>ARKK</td>\n      <td>6.531612</td>\n      <td>None</td>\n    </tr>\n    <tr>\n      <th>12</th>\n      <td>TSM</td>\n      <td>5.530024</td>\n      <td>Taiwan Semiconductor Manufacturing Co Ltd - ADR</td>\n    </tr>\n    <tr>\n      <th>0</th>\n      <td>SEDG</td>\n      <td>5.338165</td>\n      <td>SolarEdge Technologies</td>\n    </tr>\n    <tr>\n      <th>10</th>\n      <td>ADA</td>\n      <td>4.560577</td>\n      <td>None</td>\n    </tr>\n    <tr>\n      <th>2</th>\n      <td>QCOM</td>\n      <td>4.040595</td>\n      <td>Qualcomm Inc</td>\n    </tr>\n  </tbody>\n</table>\n</div>"
     },
     "execution_count": 21,
     "metadata": {},
     "output_type": "execute_result"
    }
   ],
   "source": [
    "portfol_basic = df.sort_values(\"count\", ascending=False).sort_values(\"std/mean\").head(TOP_N_BY_RATIO)\n",
    "portfol_basic[\"portfol_val\"] = portfol_basic[\"mean\"] * 100 / portfol_basic[\"mean\"].sum()\n",
    "portfol_basic.sort_values(\"portfol_val\", ascending=False)\n",
    "portfol_basic[\"company_name\"] = portfol_basic.index.map(ticker_to_name_mapping)\n",
    "portfol_basic.reset_index().sort_values(\"portfol_val\", ascending=False).drop([\"count\", \"mean\", \"std\", \"std/mean\"],axis=1)"
   ],
   "metadata": {
    "collapsed": false,
    "pycharm": {
     "name": "#%%\n"
    }
   }
  },
  {
   "cell_type": "code",
   "execution_count": 10,
   "outputs": [],
   "source": [
    "# weighted portfolio settings\n",
    "TOP_N_BY_VALUE = 15\n",
    "N_CLUSTERS = 7\n",
    "TOP_INVESTORS_WITHIN_CLUSTER = 3"
   ],
   "metadata": {
    "collapsed": false,
    "pycharm": {
     "name": "#%%\n"
    }
   }
  },
  {
   "cell_type": "code",
   "execution_count": 11,
   "outputs": [],
   "source": [
    "a_portfols = []\n",
    "for p in portfols:\n",
    "    for i in p[\"items\"]:\n",
    "        if i[\"type\"] == \"Buying\":\n",
    "            try:\n",
    "                a_portfols.append((p[\"investor_name\"], float(i[\"value\"].replace(\"%\", \"\")), i[\"company_ticker\"]))\n",
    "            except ValueError as e:\n",
    "                if \"<0.01\" in str(e):\n",
    "                    pass\n",
    "                else:\n",
    "                    raise (e)"
   ],
   "metadata": {
    "collapsed": false,
    "pycharm": {
     "name": "#%%\n"
    }
   }
  },
  {
   "cell_type": "code",
   "execution_count": 12,
   "outputs": [
    {
     "data": {
      "text/plain": "                 cluster Copiers WeeksSinceRegistration DailyDD WeeklyDD  \\\nticker                                                                     \ninvestor                                                                   \n2BSmart                1   323.0                  226.0   -4.38    -7.63   \nABDUCT                 4   584.0                   95.0   -3.12    -3.12   \nALnayef                4  1708.0                  263.0   -2.21    -3.19   \nAbbroush               4   514.0                   63.0   -1.32    -1.93   \nAguero1010             4  1101.0                   63.0   -4.26    -5.58   \n...                  ...     ...                    ...     ...      ...   \ntraderengeng           1   116.0                   67.0   -3.63    -5.55   \nvidinho                0   133.0                  627.0   -3.51    -4.45   \nviveredidividend       4   564.0                   66.0   -3.39    -4.60   \nwillpetch1989          1   397.0                  146.0   -4.15    -9.49   \nzofesu                 3   142.0                   63.0   -4.69    -8.62   \n\n                 RiskScore    Gain  \nticker                              \ninvestor                            \n2BSmart                4.0   37.65  \nABDUCT                 3.0   26.57  \nALnayef                3.0   15.60  \nAbbroush               3.0   16.17  \nAguero1010             4.0   80.07  \n...                    ...     ...  \ntraderengeng           3.0   47.27  \nvidinho                4.0   27.47  \nviveredidividend       4.0   31.45  \nwillpetch1989          4.0   23.85  \nzofesu                 5.0  108.73  \n\n[150 rows x 7 columns]",
      "text/html": "<div>\n<style scoped>\n    .dataframe tbody tr th:only-of-type {\n        vertical-align: middle;\n    }\n\n    .dataframe tbody tr th {\n        vertical-align: top;\n    }\n\n    .dataframe thead tr th {\n        text-align: left;\n    }\n\n    .dataframe thead tr:last-of-type th {\n        text-align: right;\n    }\n</style>\n<table border=\"1\" class=\"dataframe\">\n  <thead>\n    <tr>\n      <th></th>\n      <th>cluster</th>\n      <th>Copiers</th>\n      <th>WeeksSinceRegistration</th>\n      <th>DailyDD</th>\n      <th>WeeklyDD</th>\n      <th>RiskScore</th>\n      <th>Gain</th>\n    </tr>\n    <tr>\n      <th>ticker</th>\n      <th></th>\n      <th></th>\n      <th></th>\n      <th></th>\n      <th></th>\n      <th></th>\n      <th></th>\n    </tr>\n    <tr>\n      <th>investor</th>\n      <th></th>\n      <th></th>\n      <th></th>\n      <th></th>\n      <th></th>\n      <th></th>\n      <th></th>\n    </tr>\n  </thead>\n  <tbody>\n    <tr>\n      <th>2BSmart</th>\n      <td>1</td>\n      <td>323.0</td>\n      <td>226.0</td>\n      <td>-4.38</td>\n      <td>-7.63</td>\n      <td>4.0</td>\n      <td>37.65</td>\n    </tr>\n    <tr>\n      <th>ABDUCT</th>\n      <td>4</td>\n      <td>584.0</td>\n      <td>95.0</td>\n      <td>-3.12</td>\n      <td>-3.12</td>\n      <td>3.0</td>\n      <td>26.57</td>\n    </tr>\n    <tr>\n      <th>ALnayef</th>\n      <td>4</td>\n      <td>1708.0</td>\n      <td>263.0</td>\n      <td>-2.21</td>\n      <td>-3.19</td>\n      <td>3.0</td>\n      <td>15.60</td>\n    </tr>\n    <tr>\n      <th>Abbroush</th>\n      <td>4</td>\n      <td>514.0</td>\n      <td>63.0</td>\n      <td>-1.32</td>\n      <td>-1.93</td>\n      <td>3.0</td>\n      <td>16.17</td>\n    </tr>\n    <tr>\n      <th>Aguero1010</th>\n      <td>4</td>\n      <td>1101.0</td>\n      <td>63.0</td>\n      <td>-4.26</td>\n      <td>-5.58</td>\n      <td>4.0</td>\n      <td>80.07</td>\n    </tr>\n    <tr>\n      <th>...</th>\n      <td>...</td>\n      <td>...</td>\n      <td>...</td>\n      <td>...</td>\n      <td>...</td>\n      <td>...</td>\n      <td>...</td>\n    </tr>\n    <tr>\n      <th>traderengeng</th>\n      <td>1</td>\n      <td>116.0</td>\n      <td>67.0</td>\n      <td>-3.63</td>\n      <td>-5.55</td>\n      <td>3.0</td>\n      <td>47.27</td>\n    </tr>\n    <tr>\n      <th>vidinho</th>\n      <td>0</td>\n      <td>133.0</td>\n      <td>627.0</td>\n      <td>-3.51</td>\n      <td>-4.45</td>\n      <td>4.0</td>\n      <td>27.47</td>\n    </tr>\n    <tr>\n      <th>viveredidividend</th>\n      <td>4</td>\n      <td>564.0</td>\n      <td>66.0</td>\n      <td>-3.39</td>\n      <td>-4.60</td>\n      <td>4.0</td>\n      <td>31.45</td>\n    </tr>\n    <tr>\n      <th>willpetch1989</th>\n      <td>1</td>\n      <td>397.0</td>\n      <td>146.0</td>\n      <td>-4.15</td>\n      <td>-9.49</td>\n      <td>4.0</td>\n      <td>23.85</td>\n    </tr>\n    <tr>\n      <th>zofesu</th>\n      <td>3</td>\n      <td>142.0</td>\n      <td>63.0</td>\n      <td>-4.69</td>\n      <td>-8.62</td>\n      <td>5.0</td>\n      <td>108.73</td>\n    </tr>\n  </tbody>\n</table>\n<p>150 rows × 7 columns</p>\n</div>"
     },
     "execution_count": 12,
     "metadata": {},
     "output_type": "execute_result"
    }
   ],
   "source": [
    "a_df = pd.DataFrame(data=a_portfols, columns=[\"investor\", \"percent\", \"ticker\"])\n",
    "a_df = a_df.pivot_table(index=\"investor\", columns=\"ticker\").fillna(0)\n",
    "a_df[\"cluster\"] = KMeans(n_clusters=N_CLUSTERS).fit_predict(a_df)\n",
    "fields = [\"Copiers\", \"WeeksSinceRegistration\", \"DailyDD\", \"WeeklyDD\", \"RiskScore\", \"Gain\"]\n",
    "\n",
    "for investor_name in a_df.index:\n",
    "    for field in fields:\n",
    "        a_df.loc[investor_name, field] = investors[investor_name][field]\n",
    "a_df_short = a_df.drop(\"percent\", axis=1)\n",
    "a_df_short"
   ],
   "metadata": {
    "collapsed": false,
    "pycharm": {
     "name": "#%%\n"
    }
   }
  },
  {
   "cell_type": "code",
   "execution_count": 13,
   "outputs": [
    {
     "data": {
      "text/plain": "                cluster  Copiers WeeksSinceRegistration DailyDD WeeklyDD  \\\nticker                                                                     \ninvestor                                                                   \nvidinho               0    133.0                  627.0   -3.51    -4.45   \nbalticseal            0   1341.0                   99.0   -2.40    -2.99   \nchiay0327             0    762.0                  236.0   -1.90    -2.52   \nsgstjc                1   1440.0                   85.0   -4.88    -8.51   \nCPHequities           1  19258.0                  223.0   -4.52   -11.12   \nFinancial_man         1    883.0                  201.0   -4.20    -9.10   \nEliteVol              2    176.0                   97.0   -4.15   -10.59   \nzofesu                3    142.0                   63.0   -4.69    -8.62   \nCongololingo          3    173.0                  108.0   -4.16    -5.93   \njoaoguimaraes10       3   1318.0                   64.0   -4.46    -8.36   \nIsbelle               4    643.0                  212.0   -3.72    -7.69   \nSamosaking            4    599.0                   60.0   -4.34    -6.13   \nVidovM                4    214.0                   69.0   -3.82    -5.03   \nmyhungetoro           5    388.0                   98.0   -2.09    -3.29   \nLvnce6                6    246.0                  188.0   -4.80    -8.58   \n\n                RiskScore    Gain  \nticker                             \ninvestor                           \nvidinho               4.0   27.47  \nbalticseal            3.0   17.15  \nchiay0327             3.0   10.05  \nsgstjc                4.0  146.61  \nCPHequities           4.0   92.29  \nFinancial_man         4.0   84.20  \nEliteVol              5.0   22.25  \nzofesu                5.0  108.73  \nCongololingo          4.0   91.90  \njoaoguimaraes10       5.0   89.76  \nIsbelle               4.0  177.72  \nSamosaking            3.0  157.15  \nVidovM                4.0  114.65  \nmyhungetoro           3.0    5.48  \nLvnce6                5.0   46.75  ",
      "text/html": "<div>\n<style scoped>\n    .dataframe tbody tr th:only-of-type {\n        vertical-align: middle;\n    }\n\n    .dataframe tbody tr th {\n        vertical-align: top;\n    }\n\n    .dataframe thead tr th {\n        text-align: left;\n    }\n\n    .dataframe thead tr:last-of-type th {\n        text-align: right;\n    }\n</style>\n<table border=\"1\" class=\"dataframe\">\n  <thead>\n    <tr>\n      <th></th>\n      <th>cluster</th>\n      <th>Copiers</th>\n      <th>WeeksSinceRegistration</th>\n      <th>DailyDD</th>\n      <th>WeeklyDD</th>\n      <th>RiskScore</th>\n      <th>Gain</th>\n    </tr>\n    <tr>\n      <th>ticker</th>\n      <th></th>\n      <th></th>\n      <th></th>\n      <th></th>\n      <th></th>\n      <th></th>\n      <th></th>\n    </tr>\n    <tr>\n      <th>investor</th>\n      <th></th>\n      <th></th>\n      <th></th>\n      <th></th>\n      <th></th>\n      <th></th>\n      <th></th>\n    </tr>\n  </thead>\n  <tbody>\n    <tr>\n      <th>vidinho</th>\n      <td>0</td>\n      <td>133.0</td>\n      <td>627.0</td>\n      <td>-3.51</td>\n      <td>-4.45</td>\n      <td>4.0</td>\n      <td>27.47</td>\n    </tr>\n    <tr>\n      <th>balticseal</th>\n      <td>0</td>\n      <td>1341.0</td>\n      <td>99.0</td>\n      <td>-2.40</td>\n      <td>-2.99</td>\n      <td>3.0</td>\n      <td>17.15</td>\n    </tr>\n    <tr>\n      <th>chiay0327</th>\n      <td>0</td>\n      <td>762.0</td>\n      <td>236.0</td>\n      <td>-1.90</td>\n      <td>-2.52</td>\n      <td>3.0</td>\n      <td>10.05</td>\n    </tr>\n    <tr>\n      <th>sgstjc</th>\n      <td>1</td>\n      <td>1440.0</td>\n      <td>85.0</td>\n      <td>-4.88</td>\n      <td>-8.51</td>\n      <td>4.0</td>\n      <td>146.61</td>\n    </tr>\n    <tr>\n      <th>CPHequities</th>\n      <td>1</td>\n      <td>19258.0</td>\n      <td>223.0</td>\n      <td>-4.52</td>\n      <td>-11.12</td>\n      <td>4.0</td>\n      <td>92.29</td>\n    </tr>\n    <tr>\n      <th>Financial_man</th>\n      <td>1</td>\n      <td>883.0</td>\n      <td>201.0</td>\n      <td>-4.20</td>\n      <td>-9.10</td>\n      <td>4.0</td>\n      <td>84.20</td>\n    </tr>\n    <tr>\n      <th>EliteVol</th>\n      <td>2</td>\n      <td>176.0</td>\n      <td>97.0</td>\n      <td>-4.15</td>\n      <td>-10.59</td>\n      <td>5.0</td>\n      <td>22.25</td>\n    </tr>\n    <tr>\n      <th>zofesu</th>\n      <td>3</td>\n      <td>142.0</td>\n      <td>63.0</td>\n      <td>-4.69</td>\n      <td>-8.62</td>\n      <td>5.0</td>\n      <td>108.73</td>\n    </tr>\n    <tr>\n      <th>Congololingo</th>\n      <td>3</td>\n      <td>173.0</td>\n      <td>108.0</td>\n      <td>-4.16</td>\n      <td>-5.93</td>\n      <td>4.0</td>\n      <td>91.90</td>\n    </tr>\n    <tr>\n      <th>joaoguimaraes10</th>\n      <td>3</td>\n      <td>1318.0</td>\n      <td>64.0</td>\n      <td>-4.46</td>\n      <td>-8.36</td>\n      <td>5.0</td>\n      <td>89.76</td>\n    </tr>\n    <tr>\n      <th>Isbelle</th>\n      <td>4</td>\n      <td>643.0</td>\n      <td>212.0</td>\n      <td>-3.72</td>\n      <td>-7.69</td>\n      <td>4.0</td>\n      <td>177.72</td>\n    </tr>\n    <tr>\n      <th>Samosaking</th>\n      <td>4</td>\n      <td>599.0</td>\n      <td>60.0</td>\n      <td>-4.34</td>\n      <td>-6.13</td>\n      <td>3.0</td>\n      <td>157.15</td>\n    </tr>\n    <tr>\n      <th>VidovM</th>\n      <td>4</td>\n      <td>214.0</td>\n      <td>69.0</td>\n      <td>-3.82</td>\n      <td>-5.03</td>\n      <td>4.0</td>\n      <td>114.65</td>\n    </tr>\n    <tr>\n      <th>myhungetoro</th>\n      <td>5</td>\n      <td>388.0</td>\n      <td>98.0</td>\n      <td>-2.09</td>\n      <td>-3.29</td>\n      <td>3.0</td>\n      <td>5.48</td>\n    </tr>\n    <tr>\n      <th>Lvnce6</th>\n      <td>6</td>\n      <td>246.0</td>\n      <td>188.0</td>\n      <td>-4.80</td>\n      <td>-8.58</td>\n      <td>5.0</td>\n      <td>46.75</td>\n    </tr>\n  </tbody>\n</table>\n</div>"
     },
     "execution_count": 13,
     "metadata": {},
     "output_type": "execute_result"
    }
   ],
   "source": [
    "top_investors = a_df_short.groupby(\"cluster\")[\"Gain\"].nlargest(TOP_INVESTORS_WITHIN_CLUSTER).reset_index()[\"investor\"]\n",
    "a_df_short.loc[top_investors]"
   ],
   "metadata": {
    "collapsed": false,
    "pycharm": {
     "name": "#%%\n"
    }
   }
  },
  {
   "cell_type": "code",
   "execution_count": 14,
   "outputs": [
    {
     "data": {
      "text/plain": "ticker\nTLT     22.539011\nSVXY    10.748247\nVTI      8.696521\nSHV      8.103652\nBABA     7.387546\nFB       6.303396\nIVV      6.071910\nAMZN     5.603944\nMSFT     4.539777\nV        3.673789\nIEF      3.490599\nNIO      3.463953\nGLD      3.255783\nTWTR     3.074258\nUPRO     3.047613\ndtype: float64"
     },
     "execution_count": 14,
     "metadata": {},
     "output_type": "execute_result"
    }
   ],
   "source": [
    "portfol_weight = a_df.loc[top_investors][\"percent\"].sum(axis=0)\n",
    "portfol_weight = portfol_weight[portfol_weight != 0]\n",
    "portfol_weight = portfol_weight * 100 / portfol_weight.sum()\n",
    "portfol_weight = portfol_weight.sort_values(ascending=False)[:TOP_N_BY_VALUE]\n",
    "portfol_weight = portfol_weight * 100 / portfol_weight.sum()\n",
    "portfol_weight"
   ],
   "metadata": {
    "collapsed": false,
    "pycharm": {
     "name": "#%%\n"
    }
   }
  },
  {
   "cell_type": "code",
   "execution_count": 15,
   "outputs": [
    {
     "data": {
      "text/plain": "   ticker  portfol_val company_name\n0     TLT    22.539011         None\n1    SVXY    10.748247         None\n2     VTI     8.696521         None\n3     SHV     8.103652         None\n4    BABA     7.387546      Alibaba\n5      FB     6.303396     Facebook\n6     IVV     6.071910         None\n7    AMZN     5.603944       Amazon\n8    MSFT     4.539777    Microsoft\n9       V     3.673789         Visa\n10    IEF     3.490599         None\n11    NIO     3.463953     Nio Inc.\n12    GLD     3.255783         None\n13   TWTR     3.074258      Twitter\n14   UPRO     3.047613         None",
      "text/html": "<div>\n<style scoped>\n    .dataframe tbody tr th:only-of-type {\n        vertical-align: middle;\n    }\n\n    .dataframe tbody tr th {\n        vertical-align: top;\n    }\n\n    .dataframe thead th {\n        text-align: right;\n    }\n</style>\n<table border=\"1\" class=\"dataframe\">\n  <thead>\n    <tr style=\"text-align: right;\">\n      <th></th>\n      <th>ticker</th>\n      <th>portfol_val</th>\n      <th>company_name</th>\n    </tr>\n  </thead>\n  <tbody>\n    <tr>\n      <th>0</th>\n      <td>TLT</td>\n      <td>22.539011</td>\n      <td>None</td>\n    </tr>\n    <tr>\n      <th>1</th>\n      <td>SVXY</td>\n      <td>10.748247</td>\n      <td>None</td>\n    </tr>\n    <tr>\n      <th>2</th>\n      <td>VTI</td>\n      <td>8.696521</td>\n      <td>None</td>\n    </tr>\n    <tr>\n      <th>3</th>\n      <td>SHV</td>\n      <td>8.103652</td>\n      <td>None</td>\n    </tr>\n    <tr>\n      <th>4</th>\n      <td>BABA</td>\n      <td>7.387546</td>\n      <td>Alibaba</td>\n    </tr>\n    <tr>\n      <th>5</th>\n      <td>FB</td>\n      <td>6.303396</td>\n      <td>Facebook</td>\n    </tr>\n    <tr>\n      <th>6</th>\n      <td>IVV</td>\n      <td>6.071910</td>\n      <td>None</td>\n    </tr>\n    <tr>\n      <th>7</th>\n      <td>AMZN</td>\n      <td>5.603944</td>\n      <td>Amazon</td>\n    </tr>\n    <tr>\n      <th>8</th>\n      <td>MSFT</td>\n      <td>4.539777</td>\n      <td>Microsoft</td>\n    </tr>\n    <tr>\n      <th>9</th>\n      <td>V</td>\n      <td>3.673789</td>\n      <td>Visa</td>\n    </tr>\n    <tr>\n      <th>10</th>\n      <td>IEF</td>\n      <td>3.490599</td>\n      <td>None</td>\n    </tr>\n    <tr>\n      <th>11</th>\n      <td>NIO</td>\n      <td>3.463953</td>\n      <td>Nio Inc.</td>\n    </tr>\n    <tr>\n      <th>12</th>\n      <td>GLD</td>\n      <td>3.255783</td>\n      <td>None</td>\n    </tr>\n    <tr>\n      <th>13</th>\n      <td>TWTR</td>\n      <td>3.074258</td>\n      <td>Twitter</td>\n    </tr>\n    <tr>\n      <th>14</th>\n      <td>UPRO</td>\n      <td>3.047613</td>\n      <td>None</td>\n    </tr>\n  </tbody>\n</table>\n</div>"
     },
     "execution_count": 15,
     "metadata": {},
     "output_type": "execute_result"
    }
   ],
   "source": [
    "\n",
    "portfol_weight_new = portfol_weight.to_frame(\"portfol_val\")\n",
    "portfol_weight_new[\"company_name\"] = portfol_weight_new.index.map(ticker_to_name_mapping)\n",
    "portfol_weight_new = portfol_weight_new.reset_index()\n",
    "portfol_weight_new"
   ],
   "metadata": {
    "collapsed": false,
    "pycharm": {
     "name": "#%%\n"
    }
   }
  },
  {
   "cell_type": "code",
   "execution_count": 15,
   "outputs": [],
   "source": [],
   "metadata": {
    "collapsed": false,
    "pycharm": {
     "name": "#%%\n"
    }
   }
  }
 ],
 "metadata": {
  "kernelspec": {
   "display_name": "Python 3",
   "language": "python",
   "name": "python3"
  },
  "language_info": {
   "codemirror_mode": {
    "name": "ipython",
    "version": 2
   },
   "file_extension": ".py",
   "mimetype": "text/x-python",
   "name": "python",
   "nbconvert_exporter": "python",
   "pygments_lexer": "ipython2",
   "version": "2.7.6"
  }
 },
 "nbformat": 4,
 "nbformat_minor": 0
}