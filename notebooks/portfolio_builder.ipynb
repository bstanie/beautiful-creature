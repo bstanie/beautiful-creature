{
 "cells": [
  {
   "cell_type": "code",
   "execution_count": 1,
   "metadata": {
    "collapsed": true
   },
   "outputs": [],
   "source": [
    "from collections import defaultdict, OrderedDict\n",
    "from datetime import datetime\n",
    "\n",
    "import numpy as np\n",
    "import pymongo\n",
    "import pandas as pd\n",
    "from sklearn.ensemble import IsolationForest\n",
    "from sklearn.cluster import DBSCAN, KMeans, AgglomerativeClustering"
   ]
  },
  {
   "cell_type": "code",
   "execution_count": 2,
   "outputs": [],
   "source": [
    "\n",
    "\n",
    "class Settings:\n",
    "    MONGODB_SERVER = \"localhost\"\n",
    "    MONGODB_PORT = 27017\n",
    "    MONGODB_DB = \"beautiful_creature\"\n",
    "    MONGODB_INVESTOR_COLLECTION = \"investors\"\n",
    "    MONGODB_PORTFOLIO_COLLECTION = \"portfolios\"\n",
    "\n",
    "    def __getitem__(self, key):\n",
    "        return getattr(self, key)\n",
    "\n",
    "\n",
    "timestamp = datetime.now().strftime(\"%d-%m-%y\")\n",
    "settings = Settings()\n",
    "connection = pymongo.MongoClient(\n",
    "    settings['MONGODB_SERVER'],\n",
    "    settings['MONGODB_PORT']\n",
    ")\n",
    "investor_collection_name = f\"{settings['MONGODB_INVESTOR_COLLECTION']}_{timestamp}\"\n",
    "portfolio_collection_name = f\"{settings['MONGODB_PORTFOLIO_COLLECTION']}_{timestamp}\"\n",
    "db = connection[settings['MONGODB_DB']]\n",
    "investor_collection = db[investor_collection_name]\n",
    "portfolio_collection = db[portfolio_collection_name]\n",
    "investors = list(investor_collection.find({}))\n",
    "investors = {i[\"UserName\"]: i for i in investors}"
   ],
   "metadata": {
    "collapsed": false,
    "pycharm": {
     "name": "#%%\n"
    }
   }
  },
  {
   "cell_type": "code",
   "execution_count": 3,
   "outputs": [],
   "source": [
    "portfols = list(portfolio_collection.find({}))"
   ],
   "metadata": {
    "collapsed": false,
    "pycharm": {
     "name": "#%%\n"
    }
   }
  },
  {
   "cell_type": "code",
   "execution_count": 4,
   "outputs": [],
   "source": [
    "items = defaultdict(list)"
   ],
   "metadata": {
    "collapsed": false,
    "pycharm": {
     "name": "#%%\n"
    }
   }
  },
  {
   "cell_type": "code",
   "execution_count": 5,
   "outputs": [],
   "source": [
    "for p in portfols:\n",
    "    for i in p[\"items\"]:\n",
    "        if i[\"type\"] == \"Buying\":\n",
    "            try:\n",
    "                items[i[\"company_ticker\"]].append(round(float(i[\"invested\"].replace(\"%\", \"\")), 3))\n",
    "            except ValueError as e:\n",
    "                if \"<0.01\" in str(e):\n",
    "                    pass\n",
    "                else:\n",
    "                    raise (e)"
   ],
   "metadata": {
    "collapsed": false,
    "pycharm": {
     "name": "#%%\n"
    }
   }
  },
  {
   "cell_type": "code",
   "execution_count": 6,
   "outputs": [],
   "source": [
    "\n",
    "ticker_to_name_mapping = defaultdict(str)\n",
    "for p in portfols:\n",
    "    for i in p[\"items\"]:\n",
    "        ticker_to_name_mapping[i[\"company_ticker\"]] = i.get(\"company_name\", None)"
   ],
   "metadata": {
    "collapsed": false,
    "pycharm": {
     "name": "#%%\n"
    }
   }
  },
  {
   "cell_type": "code",
   "execution_count": 7,
   "outputs": [],
   "source": [
    "# basic portfolio settings\n",
    "TOP_N_BY_COUNTS = 100\n",
    "TOP_N_BY_RATIO = 15\n"
   ],
   "metadata": {
    "collapsed": false,
    "pycharm": {
     "name": "#%%\n"
    }
   }
  },
  {
   "cell_type": "code",
   "execution_count": 8,
   "outputs": [],
   "source": [
    "stats = []\n",
    "for item in items:\n",
    "    item_stat = {\"item_name\": item, \"count\": len(items[item]),\n",
    "                 \"mean\": np.mean(items[item]), \"std\": np.std(items[item])}\n",
    "    stats.append(item_stat)\n",
    "\n",
    "df = pd.DataFrame.from_records(stats)\n",
    "df[\"std/mean\"] = df[\"std\"] / df[\"mean\"]\n",
    "df = df.set_index(\"item_name\")\n",
    "df = df.sort_values(\"count\", ascending=False).head(TOP_N_BY_COUNTS)"
   ],
   "metadata": {
    "collapsed": false,
    "pycharm": {
     "name": "#%%\n"
    }
   }
  },
  {
   "cell_type": "code",
   "execution_count": 9,
   "outputs": [
    {
     "data": {
      "text/plain": "   item_name  portfol_val                company_name\n13       AMD    10.629329  Advanced Micro Devices Inc\n14   1810.HK     9.777061                 Xiaomi Corp\n8        PDD     9.409400               Pinduoduo Inc\n4       CSIQ     9.202523         Canadian Solar Inc.\n11      NTES     7.043327                NetEase Inc.\n5        FXI     6.881766                        None\n3       SEDG     6.535106      SolarEdge Technologies\n1       ENPH     6.277537         Enphase Energy Inc.\n2       BLDP     5.655369  Ballard Power Systems Inc.\n9       ARKG     5.585649                        None\n12       TAN     5.070711                        None\n7       QCOM     4.946591                Qualcomm Inc\n6        NEE     4.853131          NextEra Energy Inc\n10      MOMO     4.092875                MOMO Inc ADR\n0        AYX     4.039626                Alteryx Inc.",
      "text/html": "<div>\n<style scoped>\n    .dataframe tbody tr th:only-of-type {\n        vertical-align: middle;\n    }\n\n    .dataframe tbody tr th {\n        vertical-align: top;\n    }\n\n    .dataframe thead th {\n        text-align: right;\n    }\n</style>\n<table border=\"1\" class=\"dataframe\">\n  <thead>\n    <tr style=\"text-align: right;\">\n      <th></th>\n      <th>item_name</th>\n      <th>portfol_val</th>\n      <th>company_name</th>\n    </tr>\n  </thead>\n  <tbody>\n    <tr>\n      <th>13</th>\n      <td>AMD</td>\n      <td>10.629329</td>\n      <td>Advanced Micro Devices Inc</td>\n    </tr>\n    <tr>\n      <th>14</th>\n      <td>1810.HK</td>\n      <td>9.777061</td>\n      <td>Xiaomi Corp</td>\n    </tr>\n    <tr>\n      <th>8</th>\n      <td>PDD</td>\n      <td>9.409400</td>\n      <td>Pinduoduo Inc</td>\n    </tr>\n    <tr>\n      <th>4</th>\n      <td>CSIQ</td>\n      <td>9.202523</td>\n      <td>Canadian Solar Inc.</td>\n    </tr>\n    <tr>\n      <th>11</th>\n      <td>NTES</td>\n      <td>7.043327</td>\n      <td>NetEase Inc.</td>\n    </tr>\n    <tr>\n      <th>5</th>\n      <td>FXI</td>\n      <td>6.881766</td>\n      <td>None</td>\n    </tr>\n    <tr>\n      <th>3</th>\n      <td>SEDG</td>\n      <td>6.535106</td>\n      <td>SolarEdge Technologies</td>\n    </tr>\n    <tr>\n      <th>1</th>\n      <td>ENPH</td>\n      <td>6.277537</td>\n      <td>Enphase Energy Inc.</td>\n    </tr>\n    <tr>\n      <th>2</th>\n      <td>BLDP</td>\n      <td>5.655369</td>\n      <td>Ballard Power Systems Inc.</td>\n    </tr>\n    <tr>\n      <th>9</th>\n      <td>ARKG</td>\n      <td>5.585649</td>\n      <td>None</td>\n    </tr>\n    <tr>\n      <th>12</th>\n      <td>TAN</td>\n      <td>5.070711</td>\n      <td>None</td>\n    </tr>\n    <tr>\n      <th>7</th>\n      <td>QCOM</td>\n      <td>4.946591</td>\n      <td>Qualcomm Inc</td>\n    </tr>\n    <tr>\n      <th>6</th>\n      <td>NEE</td>\n      <td>4.853131</td>\n      <td>NextEra Energy Inc</td>\n    </tr>\n    <tr>\n      <th>10</th>\n      <td>MOMO</td>\n      <td>4.092875</td>\n      <td>MOMO Inc ADR</td>\n    </tr>\n    <tr>\n      <th>0</th>\n      <td>AYX</td>\n      <td>4.039626</td>\n      <td>Alteryx Inc.</td>\n    </tr>\n  </tbody>\n</table>\n</div>"
     },
     "execution_count": 9,
     "metadata": {},
     "output_type": "execute_result"
    }
   ],
   "source": [
    "portfol_basic = df.sort_values(\"count\", ascending=False).sort_values(\"std/mean\").head(TOP_N_BY_RATIO)\n",
    "portfol_basic[\"portfol_val\"] = portfol_basic[\"mean\"] * 100 / portfol_basic[\"mean\"].sum()\n",
    "portfol_basic.sort_values(\"portfol_val\", ascending=False)\n",
    "portfol_basic[\"company_name\"] = portfol_basic.index.map(ticker_to_name_mapping)\n",
    "portfol_basic.reset_index().sort_values(\"portfol_val\", ascending=False).drop([\"count\", \"mean\", \"std\", \"std/mean\"],axis=1)"
   ],
   "metadata": {
    "collapsed": false,
    "pycharm": {
     "name": "#%%\n"
    }
   }
  },
  {
   "cell_type": "code",
   "execution_count": 10,
   "outputs": [],
   "source": [
    "# weighted portfolio settings\n",
    "TOP_N_BY_VALUE = 15\n",
    "N_CLUSTERS = 7\n",
    "TOP_INVESTORS_WITHIN_CLUSTER = 3"
   ],
   "metadata": {
    "collapsed": false,
    "pycharm": {
     "name": "#%%\n"
    }
   }
  },
  {
   "cell_type": "code",
   "execution_count": 16,
   "outputs": [],
   "source": [
    "a_portfols = []\n",
    "for p in portfols:\n",
    "    for i in p[\"items\"]:\n",
    "        if i[\"type\"] == \"Buying\":\n",
    "            try:\n",
    "                a_portfols.append((p[\"investor_name\"], float(i[\"value\"].replace(\"%\", \"\")), i[\"company_ticker\"]))\n",
    "            except ValueError as e:\n",
    "                if \"<0.01\" in str(e):\n",
    "                    pass\n",
    "                else:\n",
    "                    raise (e)"
   ],
   "metadata": {
    "collapsed": false,
    "pycharm": {
     "name": "#%%\n"
    }
   }
  },
  {
   "cell_type": "code",
   "execution_count": 12,
   "outputs": [
    {
     "data": {
      "text/plain": "                 cluster Copiers WeeksSinceRegistration DailyDD WeeklyDD  \\\nticker                                                                     \ninvestor                                                                   \n2BSmart                3   323.0                  226.0   -4.38    -7.63   \nABDUCT                 4   584.0                   95.0   -3.12    -3.12   \nALnayef                4  1708.0                  263.0   -2.21    -3.19   \nAbbroush               4   514.0                   63.0   -1.32    -1.93   \nAguero1010             4  1101.0                   63.0   -4.26    -5.58   \n...                  ...     ...                    ...     ...      ...   \ntraderengeng           3   116.0                   67.0   -3.63    -5.55   \nvidinho                0   133.0                  627.0   -3.51    -4.45   \nviveredidividend       6   564.0                   66.0   -3.39    -4.60   \nwillpetch1989          3   397.0                  146.0   -4.15    -9.49   \nzofesu                 4   142.0                   63.0   -4.69    -8.62   \n\n                 RiskScore    Gain  \nticker                              \ninvestor                            \n2BSmart                4.0   37.65  \nABDUCT                 3.0   26.57  \nALnayef                3.0   15.60  \nAbbroush               3.0   16.17  \nAguero1010             4.0   80.07  \n...                    ...     ...  \ntraderengeng           3.0   47.27  \nvidinho                4.0   27.47  \nviveredidividend       4.0   31.45  \nwillpetch1989          4.0   23.85  \nzofesu                 5.0  108.73  \n\n[150 rows x 7 columns]",
      "text/html": "<div>\n<style scoped>\n    .dataframe tbody tr th:only-of-type {\n        vertical-align: middle;\n    }\n\n    .dataframe tbody tr th {\n        vertical-align: top;\n    }\n\n    .dataframe thead tr th {\n        text-align: left;\n    }\n\n    .dataframe thead tr:last-of-type th {\n        text-align: right;\n    }\n</style>\n<table border=\"1\" class=\"dataframe\">\n  <thead>\n    <tr>\n      <th></th>\n      <th>cluster</th>\n      <th>Copiers</th>\n      <th>WeeksSinceRegistration</th>\n      <th>DailyDD</th>\n      <th>WeeklyDD</th>\n      <th>RiskScore</th>\n      <th>Gain</th>\n    </tr>\n    <tr>\n      <th>ticker</th>\n      <th></th>\n      <th></th>\n      <th></th>\n      <th></th>\n      <th></th>\n      <th></th>\n      <th></th>\n    </tr>\n    <tr>\n      <th>investor</th>\n      <th></th>\n      <th></th>\n      <th></th>\n      <th></th>\n      <th></th>\n      <th></th>\n      <th></th>\n    </tr>\n  </thead>\n  <tbody>\n    <tr>\n      <th>2BSmart</th>\n      <td>3</td>\n      <td>323.0</td>\n      <td>226.0</td>\n      <td>-4.38</td>\n      <td>-7.63</td>\n      <td>4.0</td>\n      <td>37.65</td>\n    </tr>\n    <tr>\n      <th>ABDUCT</th>\n      <td>4</td>\n      <td>584.0</td>\n      <td>95.0</td>\n      <td>-3.12</td>\n      <td>-3.12</td>\n      <td>3.0</td>\n      <td>26.57</td>\n    </tr>\n    <tr>\n      <th>ALnayef</th>\n      <td>4</td>\n      <td>1708.0</td>\n      <td>263.0</td>\n      <td>-2.21</td>\n      <td>-3.19</td>\n      <td>3.0</td>\n      <td>15.60</td>\n    </tr>\n    <tr>\n      <th>Abbroush</th>\n      <td>4</td>\n      <td>514.0</td>\n      <td>63.0</td>\n      <td>-1.32</td>\n      <td>-1.93</td>\n      <td>3.0</td>\n      <td>16.17</td>\n    </tr>\n    <tr>\n      <th>Aguero1010</th>\n      <td>4</td>\n      <td>1101.0</td>\n      <td>63.0</td>\n      <td>-4.26</td>\n      <td>-5.58</td>\n      <td>4.0</td>\n      <td>80.07</td>\n    </tr>\n    <tr>\n      <th>...</th>\n      <td>...</td>\n      <td>...</td>\n      <td>...</td>\n      <td>...</td>\n      <td>...</td>\n      <td>...</td>\n      <td>...</td>\n    </tr>\n    <tr>\n      <th>traderengeng</th>\n      <td>3</td>\n      <td>116.0</td>\n      <td>67.0</td>\n      <td>-3.63</td>\n      <td>-5.55</td>\n      <td>3.0</td>\n      <td>47.27</td>\n    </tr>\n    <tr>\n      <th>vidinho</th>\n      <td>0</td>\n      <td>133.0</td>\n      <td>627.0</td>\n      <td>-3.51</td>\n      <td>-4.45</td>\n      <td>4.0</td>\n      <td>27.47</td>\n    </tr>\n    <tr>\n      <th>viveredidividend</th>\n      <td>6</td>\n      <td>564.0</td>\n      <td>66.0</td>\n      <td>-3.39</td>\n      <td>-4.60</td>\n      <td>4.0</td>\n      <td>31.45</td>\n    </tr>\n    <tr>\n      <th>willpetch1989</th>\n      <td>3</td>\n      <td>397.0</td>\n      <td>146.0</td>\n      <td>-4.15</td>\n      <td>-9.49</td>\n      <td>4.0</td>\n      <td>23.85</td>\n    </tr>\n    <tr>\n      <th>zofesu</th>\n      <td>4</td>\n      <td>142.0</td>\n      <td>63.0</td>\n      <td>-4.69</td>\n      <td>-8.62</td>\n      <td>5.0</td>\n      <td>108.73</td>\n    </tr>\n  </tbody>\n</table>\n<p>150 rows × 7 columns</p>\n</div>"
     },
     "execution_count": 12,
     "metadata": {},
     "output_type": "execute_result"
    }
   ],
   "source": [
    "a_df = pd.DataFrame(data=a_portfols, columns=[\"investor\", \"percent\", \"ticker\"])\n",
    "a_df = a_df.pivot_table(index=\"investor\", columns=\"ticker\").fillna(0)\n",
    "a_df[\"cluster\"] = KMeans(n_clusters=N_CLUSTERS).fit_predict(a_df)\n",
    "fields = [\"Copiers\", \"WeeksSinceRegistration\", \"DailyDD\", \"WeeklyDD\", \"RiskScore\", \"Gain\"]\n",
    "\n",
    "for investor_name in a_df.index:\n",
    "    for field in fields:\n",
    "        a_df.loc[investor_name, field] = investors[investor_name][field]\n",
    "a_df_short = a_df.drop(\"percent\", axis=1)\n",
    "a_df_short"
   ],
   "metadata": {
    "collapsed": false,
    "pycharm": {
     "name": "#%%\n"
    }
   }
  },
  {
   "cell_type": "code",
   "execution_count": 13,
   "outputs": [
    {
     "data": {
      "text/plain": "              cluster  Copiers WeeksSinceRegistration DailyDD WeeklyDD  \\\nticker                                                                   \ninvestor                                                                 \nvidinho             0    133.0                  627.0   -3.51    -4.45   \nbalticseal          0   1341.0                   99.0   -2.40    -2.99   \nchiay0327           0    762.0                  236.0   -1.90    -2.52   \nmyhungetoro         1    388.0                   98.0   -2.09    -3.29   \nEliteVol            2    176.0                   97.0   -4.15   -10.59   \nCPHequities         3  19258.0                  223.0   -4.52   -11.12   \nFinancial_man       3    883.0                  201.0   -4.20    -9.10   \nMarianoPardo        3   9151.0                  403.0   -4.34    -8.02   \nIsbelle             4    643.0                  212.0   -3.72    -7.69   \nSamosaking          4    599.0                   60.0   -4.34    -6.13   \nsgstjc              4   1440.0                   85.0   -4.88    -8.51   \nsimonneau           5    414.0                  137.0   -2.48    -3.47   \nAlexIllouz          5   1526.0                   96.0   -2.29    -4.30   \nfastrading          6    326.0                  316.0   -4.09    -8.16   \nRobertMERC          6   4855.0                   69.0   -2.99    -4.27   \nReturnInvest        6   3694.0                  127.0   -3.69    -5.84   \n\n              RiskScore    Gain  \nticker                           \ninvestor                         \nvidinho             4.0   27.47  \nbalticseal          3.0   17.15  \nchiay0327           3.0   10.05  \nmyhungetoro         3.0    5.48  \nEliteVol            5.0   22.25  \nCPHequities         4.0   92.29  \nFinancial_man       4.0   84.20  \nMarianoPardo        5.0   73.12  \nIsbelle             4.0  177.72  \nSamosaking          3.0  157.15  \nsgstjc              4.0  146.61  \nsimonneau           3.0   42.70  \nAlexIllouz          3.0   15.37  \nfastrading          5.0  111.93  \nRobertMERC          5.0   60.99  \nReturnInvest        4.0   58.71  ",
      "text/html": "<div>\n<style scoped>\n    .dataframe tbody tr th:only-of-type {\n        vertical-align: middle;\n    }\n\n    .dataframe tbody tr th {\n        vertical-align: top;\n    }\n\n    .dataframe thead tr th {\n        text-align: left;\n    }\n\n    .dataframe thead tr:last-of-type th {\n        text-align: right;\n    }\n</style>\n<table border=\"1\" class=\"dataframe\">\n  <thead>\n    <tr>\n      <th></th>\n      <th>cluster</th>\n      <th>Copiers</th>\n      <th>WeeksSinceRegistration</th>\n      <th>DailyDD</th>\n      <th>WeeklyDD</th>\n      <th>RiskScore</th>\n      <th>Gain</th>\n    </tr>\n    <tr>\n      <th>ticker</th>\n      <th></th>\n      <th></th>\n      <th></th>\n      <th></th>\n      <th></th>\n      <th></th>\n      <th></th>\n    </tr>\n    <tr>\n      <th>investor</th>\n      <th></th>\n      <th></th>\n      <th></th>\n      <th></th>\n      <th></th>\n      <th></th>\n      <th></th>\n    </tr>\n  </thead>\n  <tbody>\n    <tr>\n      <th>vidinho</th>\n      <td>0</td>\n      <td>133.0</td>\n      <td>627.0</td>\n      <td>-3.51</td>\n      <td>-4.45</td>\n      <td>4.0</td>\n      <td>27.47</td>\n    </tr>\n    <tr>\n      <th>balticseal</th>\n      <td>0</td>\n      <td>1341.0</td>\n      <td>99.0</td>\n      <td>-2.40</td>\n      <td>-2.99</td>\n      <td>3.0</td>\n      <td>17.15</td>\n    </tr>\n    <tr>\n      <th>chiay0327</th>\n      <td>0</td>\n      <td>762.0</td>\n      <td>236.0</td>\n      <td>-1.90</td>\n      <td>-2.52</td>\n      <td>3.0</td>\n      <td>10.05</td>\n    </tr>\n    <tr>\n      <th>myhungetoro</th>\n      <td>1</td>\n      <td>388.0</td>\n      <td>98.0</td>\n      <td>-2.09</td>\n      <td>-3.29</td>\n      <td>3.0</td>\n      <td>5.48</td>\n    </tr>\n    <tr>\n      <th>EliteVol</th>\n      <td>2</td>\n      <td>176.0</td>\n      <td>97.0</td>\n      <td>-4.15</td>\n      <td>-10.59</td>\n      <td>5.0</td>\n      <td>22.25</td>\n    </tr>\n    <tr>\n      <th>CPHequities</th>\n      <td>3</td>\n      <td>19258.0</td>\n      <td>223.0</td>\n      <td>-4.52</td>\n      <td>-11.12</td>\n      <td>4.0</td>\n      <td>92.29</td>\n    </tr>\n    <tr>\n      <th>Financial_man</th>\n      <td>3</td>\n      <td>883.0</td>\n      <td>201.0</td>\n      <td>-4.20</td>\n      <td>-9.10</td>\n      <td>4.0</td>\n      <td>84.20</td>\n    </tr>\n    <tr>\n      <th>MarianoPardo</th>\n      <td>3</td>\n      <td>9151.0</td>\n      <td>403.0</td>\n      <td>-4.34</td>\n      <td>-8.02</td>\n      <td>5.0</td>\n      <td>73.12</td>\n    </tr>\n    <tr>\n      <th>Isbelle</th>\n      <td>4</td>\n      <td>643.0</td>\n      <td>212.0</td>\n      <td>-3.72</td>\n      <td>-7.69</td>\n      <td>4.0</td>\n      <td>177.72</td>\n    </tr>\n    <tr>\n      <th>Samosaking</th>\n      <td>4</td>\n      <td>599.0</td>\n      <td>60.0</td>\n      <td>-4.34</td>\n      <td>-6.13</td>\n      <td>3.0</td>\n      <td>157.15</td>\n    </tr>\n    <tr>\n      <th>sgstjc</th>\n      <td>4</td>\n      <td>1440.0</td>\n      <td>85.0</td>\n      <td>-4.88</td>\n      <td>-8.51</td>\n      <td>4.0</td>\n      <td>146.61</td>\n    </tr>\n    <tr>\n      <th>simonneau</th>\n      <td>5</td>\n      <td>414.0</td>\n      <td>137.0</td>\n      <td>-2.48</td>\n      <td>-3.47</td>\n      <td>3.0</td>\n      <td>42.70</td>\n    </tr>\n    <tr>\n      <th>AlexIllouz</th>\n      <td>5</td>\n      <td>1526.0</td>\n      <td>96.0</td>\n      <td>-2.29</td>\n      <td>-4.30</td>\n      <td>3.0</td>\n      <td>15.37</td>\n    </tr>\n    <tr>\n      <th>fastrading</th>\n      <td>6</td>\n      <td>326.0</td>\n      <td>316.0</td>\n      <td>-4.09</td>\n      <td>-8.16</td>\n      <td>5.0</td>\n      <td>111.93</td>\n    </tr>\n    <tr>\n      <th>RobertMERC</th>\n      <td>6</td>\n      <td>4855.0</td>\n      <td>69.0</td>\n      <td>-2.99</td>\n      <td>-4.27</td>\n      <td>5.0</td>\n      <td>60.99</td>\n    </tr>\n    <tr>\n      <th>ReturnInvest</th>\n      <td>6</td>\n      <td>3694.0</td>\n      <td>127.0</td>\n      <td>-3.69</td>\n      <td>-5.84</td>\n      <td>4.0</td>\n      <td>58.71</td>\n    </tr>\n  </tbody>\n</table>\n</div>"
     },
     "execution_count": 13,
     "metadata": {},
     "output_type": "execute_result"
    }
   ],
   "source": [
    "top_investors = a_df_short.groupby(\"cluster\")[\"Gain\"].nlargest(TOP_INVESTORS_WITHIN_CLUSTER).reset_index()[\"investor\"]\n",
    "a_df_short.loc[top_investors]"
   ],
   "metadata": {
    "collapsed": false,
    "pycharm": {
     "name": "#%%\n"
    }
   }
  },
  {
   "cell_type": "code",
   "execution_count": 14,
   "outputs": [
    {
     "data": {
      "text/plain": "ticker\nTLT     21.986127\nSVXY    10.484592\nVTI      8.483194\nSHV      7.904869\nIVV      5.922966\nMSFT     5.614309\nIAU      5.159446\nBABA     5.156197\nFB       5.120457\nAMZN     4.391052\nGLD      4.353688\nQQQ      4.262716\nIEF      4.075897\nAMD      3.642153\nV        3.442338\ndtype: float64"
     },
     "execution_count": 14,
     "metadata": {},
     "output_type": "execute_result"
    }
   ],
   "source": [
    "portfol_weight = a_df.loc[top_investors][\"percent\"].sum(axis=0)\n",
    "portfol_weight = portfol_weight[portfol_weight != 0]\n",
    "portfol_weight = portfol_weight * 100 / portfol_weight.sum()\n",
    "portfol_weight = portfol_weight.sort_values(ascending=False)[:TOP_N_BY_VALUE]\n",
    "portfol_weight = portfol_weight * 100 / portfol_weight.sum()\n",
    "portfol_weight"
   ],
   "metadata": {
    "collapsed": false,
    "pycharm": {
     "name": "#%%\n"
    }
   }
  },
  {
   "cell_type": "code",
   "execution_count": 15,
   "outputs": [
    {
     "data": {
      "text/plain": "   ticker  portfol_val                company_name\n0     TLT    21.986127                        None\n1    SVXY    10.484592                        None\n2     VTI     8.483194                        None\n3     SHV     7.904869                        None\n4     IVV     5.922966                        None\n5    MSFT     5.614309                   Microsoft\n6     IAU     5.159446                        None\n7    BABA     5.156197                     Alibaba\n8      FB     5.120457                    Facebook\n9    AMZN     4.391052                      Amazon\n10    GLD     4.353688                        None\n11    QQQ     4.262716                        None\n12    IEF     4.075897                        None\n13    AMD     3.642153  Advanced Micro Devices Inc\n14      V     3.442338                        Visa",
      "text/html": "<div>\n<style scoped>\n    .dataframe tbody tr th:only-of-type {\n        vertical-align: middle;\n    }\n\n    .dataframe tbody tr th {\n        vertical-align: top;\n    }\n\n    .dataframe thead th {\n        text-align: right;\n    }\n</style>\n<table border=\"1\" class=\"dataframe\">\n  <thead>\n    <tr style=\"text-align: right;\">\n      <th></th>\n      <th>ticker</th>\n      <th>portfol_val</th>\n      <th>company_name</th>\n    </tr>\n  </thead>\n  <tbody>\n    <tr>\n      <th>0</th>\n      <td>TLT</td>\n      <td>21.986127</td>\n      <td>None</td>\n    </tr>\n    <tr>\n      <th>1</th>\n      <td>SVXY</td>\n      <td>10.484592</td>\n      <td>None</td>\n    </tr>\n    <tr>\n      <th>2</th>\n      <td>VTI</td>\n      <td>8.483194</td>\n      <td>None</td>\n    </tr>\n    <tr>\n      <th>3</th>\n      <td>SHV</td>\n      <td>7.904869</td>\n      <td>None</td>\n    </tr>\n    <tr>\n      <th>4</th>\n      <td>IVV</td>\n      <td>5.922966</td>\n      <td>None</td>\n    </tr>\n    <tr>\n      <th>5</th>\n      <td>MSFT</td>\n      <td>5.614309</td>\n      <td>Microsoft</td>\n    </tr>\n    <tr>\n      <th>6</th>\n      <td>IAU</td>\n      <td>5.159446</td>\n      <td>None</td>\n    </tr>\n    <tr>\n      <th>7</th>\n      <td>BABA</td>\n      <td>5.156197</td>\n      <td>Alibaba</td>\n    </tr>\n    <tr>\n      <th>8</th>\n      <td>FB</td>\n      <td>5.120457</td>\n      <td>Facebook</td>\n    </tr>\n    <tr>\n      <th>9</th>\n      <td>AMZN</td>\n      <td>4.391052</td>\n      <td>Amazon</td>\n    </tr>\n    <tr>\n      <th>10</th>\n      <td>GLD</td>\n      <td>4.353688</td>\n      <td>None</td>\n    </tr>\n    <tr>\n      <th>11</th>\n      <td>QQQ</td>\n      <td>4.262716</td>\n      <td>None</td>\n    </tr>\n    <tr>\n      <th>12</th>\n      <td>IEF</td>\n      <td>4.075897</td>\n      <td>None</td>\n    </tr>\n    <tr>\n      <th>13</th>\n      <td>AMD</td>\n      <td>3.642153</td>\n      <td>Advanced Micro Devices Inc</td>\n    </tr>\n    <tr>\n      <th>14</th>\n      <td>V</td>\n      <td>3.442338</td>\n      <td>Visa</td>\n    </tr>\n  </tbody>\n</table>\n</div>"
     },
     "execution_count": 15,
     "metadata": {},
     "output_type": "execute_result"
    }
   ],
   "source": [
    "\n",
    "portfol_weight_new = portfol_weight.to_frame(\"portfol_val\")\n",
    "portfol_weight_new[\"company_name\"] = portfol_weight_new.index.map(ticker_to_name_mapping)\n",
    "portfol_weight_new = portfol_weight_new.reset_index()\n",
    "portfol_weight_new"
   ],
   "metadata": {
    "collapsed": false,
    "pycharm": {
     "name": "#%%\n"
    }
   }
  },
  {
   "cell_type": "code",
   "execution_count": 15,
   "outputs": [],
   "source": [],
   "metadata": {
    "collapsed": false,
    "pycharm": {
     "name": "#%%\n"
    }
   }
  }
 ],
 "metadata": {
  "kernelspec": {
   "display_name": "Python 3",
   "language": "python",
   "name": "python3"
  },
  "language_info": {
   "codemirror_mode": {
    "name": "ipython",
    "version": 2
   },
   "file_extension": ".py",
   "mimetype": "text/x-python",
   "name": "python",
   "nbconvert_exporter": "python",
   "pygments_lexer": "ipython2",
   "version": "2.7.6"
  }
 },
 "nbformat": 4,
 "nbformat_minor": 0
}