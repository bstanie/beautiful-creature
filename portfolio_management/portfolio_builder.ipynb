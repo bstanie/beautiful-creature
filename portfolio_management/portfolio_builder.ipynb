{
 "cells": [
  {
   "cell_type": "code",
   "execution_count": 1,
   "metadata": {},
   "outputs": [],
   "source": [
    "import os\n",
    "import pathlib\n",
    "import sys\n",
    "from collections import defaultdict, OrderedDict\n",
    "from datetime import datetime\n",
    "\n",
    "import numpy as np\n",
    "import pymongo\n",
    "import pandas as pd\n",
    "from sklearn.ensemble import IsolationForest\n",
    "from sklearn.cluster import DBSCAN, KMeans, AgglomerativeClustering"
   ]
  },
  {
   "cell_type": "code",
   "execution_count": 2,
   "metadata": {
    "collapsed": false,
    "jupyter": {
     "outputs_hidden": false
    },
    "pycharm": {
     "name": "#%%\n"
    },
    "scrolled": true,
    "tags": []
   },
   "outputs": [],
   "source": [
    "PROJECT_ROOT = pathlib.Path.cwd().parent\n",
    "if PROJECT_ROOT not in sys.path:\n",
    "    sys.path.append(PROJECT_ROOT)\n",
    "\n",
    "# scraper_path = str(PROJECT_ROOT / \"scrapy_projects\" / \"etoro\" / \"etoro\")\n",
    "# command = f\"cd {scraper_path} && scrapy crawl etoro_dashboard && scrapy crawl etoro_investor\"\n",
    "# print(command)\n",
    "# os.system(command)"
   ]
  },
  {
   "cell_type": "code",
   "execution_count": 3,
   "metadata": {
    "collapsed": false,
    "jupyter": {
     "outputs_hidden": false
    },
    "pycharm": {
     "name": "#%%\n"
    }
   },
   "outputs": [],
   "source": [
    "class Settings:\n",
    "    MONGODB_SERVER = \"localhost\"\n",
    "    MONGODB_PORT = 27017\n",
    "    MONGODB_DB = \"beautiful_creature\"\n",
    "    MONGODB_INVESTOR_COLLECTION = \"investors\"\n",
    "    MONGODB_PORTFOLIO_COLLECTION = \"portfolios\"\n",
    "    MONGODB_GOOGLE_TRENDS_COLLECTION = \"google_trends\"\n",
    "\n",
    "    def __getitem__(self, key):\n",
    "        return getattr(self, key)\n",
    "\n",
    "settings = Settings()\n",
    "connection = pymongo.MongoClient(\n",
    "    settings['MONGODB_SERVER'],\n",
    "    settings['MONGODB_PORT']\n",
    ")\n",
    "investor_collection_name = f\"{settings['MONGODB_INVESTOR_COLLECTION']}\"\n",
    "portfolio_collection_name = f\"{settings['MONGODB_PORTFOLIO_COLLECTION']}\"\n",
    "google_trends_collection = settings['MONGODB_GOOGLE_TRENDS_COLLECTION']\n",
    "db = connection[settings['MONGODB_DB']]\n",
    "investor_collection = db[investor_collection_name]\n",
    "portfolio_collection = db[portfolio_collection_name]\n",
    "investors = list(investor_collection.find({}))\n",
    "investors = {i[\"UserName\"]: i for i in investors}"
   ]
  },
  {
   "cell_type": "markdown",
   "metadata": {
    "pycharm": {
     "name": "#%% md\n"
    }
   },
   "source": [
    "# SIMPLE PORTOFOLIO"
   ]
  },
  {
   "cell_type": "code",
   "execution_count": 4,
   "metadata": {
    "collapsed": false,
    "jupyter": {
     "outputs_hidden": false
    },
    "pycharm": {
     "name": "#%%\n"
    }
   },
   "outputs": [],
   "source": [
    "latest_timestamp = list(portfolio_collection.find().sort(\"timestamp\", -1).limit(1))[0][\"timestamp\"]\n",
    "portfols = list(portfolio_collection.find({\"timestamp\": latest_timestamp}))"
   ]
  },
  {
   "cell_type": "code",
   "execution_count": 5,
   "metadata": {
    "collapsed": false,
    "jupyter": {
     "outputs_hidden": false
    },
    "pycharm": {
     "name": "#%%\n"
    }
   },
   "outputs": [],
   "source": [
    "items = defaultdict(list)"
   ]
  },
  {
   "cell_type": "code",
   "execution_count": 6,
   "metadata": {
    "collapsed": false,
    "jupyter": {
     "outputs_hidden": false
    },
    "pycharm": {
     "name": "#%%\n"
    }
   },
   "outputs": [],
   "source": [
    "for p in portfols:\n",
    "    for i in p[\"items\"]:\n",
    "        if i[\"type\"] == \"Buying\":\n",
    "            try:\n",
    "                items[i[\"company_ticker\"]].append(round(float(i[\"invested\"].replace(\"%\", \"\")), 3))\n",
    "            except ValueError as e:\n",
    "                if \"<0.01\" in str(e):\n",
    "                    pass\n",
    "                else:\n",
    "                    raise (e)"
   ]
  },
  {
   "cell_type": "code",
   "execution_count": 7,
   "metadata": {
    "collapsed": false,
    "jupyter": {
     "outputs_hidden": false
    },
    "pycharm": {
     "name": "#%%\n"
    }
   },
   "outputs": [],
   "source": [
    "ticker_to_name_mapping = defaultdict(str)\n",
    "for p in portfols:\n",
    "    for i in p[\"items\"]:\n",
    "        ticker_to_name_mapping[i[\"company_ticker\"]] = i.get(\"company_name\", None)"
   ]
  },
  {
   "cell_type": "code",
   "execution_count": 20,
   "metadata": {
    "collapsed": false,
    "jupyter": {
     "outputs_hidden": false
    },
    "pycharm": {
     "name": "#%%\n"
    }
   },
   "outputs": [],
   "source": [
    "# basic portfolio settings\n",
    "TOP_N_BY_COUNTS = 200\n",
    "N_PORTFOLIO_ITEMS = 20"
   ]
  },
  {
   "cell_type": "code",
   "execution_count": 21,
   "metadata": {
    "collapsed": false,
    "jupyter": {
     "outputs_hidden": false
    },
    "pycharm": {
     "name": "#%%\n"
    }
   },
   "outputs": [
    {
     "data": {
      "text/plain": "           count      mean       std  std/mean\nitem_name                                     \nAMZN           8  4.480000  2.848807  0.635894\nMSFT           7  3.138571  1.913101  0.609545\nFB             7  2.660000  1.879977  0.706758\nBABA           6  2.455000  1.058470  0.431149\nGOOG           6  2.881667  2.104752  0.730394",
      "text/html": "<div>\n<style scoped>\n    .dataframe tbody tr th:only-of-type {\n        vertical-align: middle;\n    }\n\n    .dataframe tbody tr th {\n        vertical-align: top;\n    }\n\n    .dataframe thead th {\n        text-align: right;\n    }\n</style>\n<table border=\"1\" class=\"dataframe\">\n  <thead>\n    <tr style=\"text-align: right;\">\n      <th></th>\n      <th>count</th>\n      <th>mean</th>\n      <th>std</th>\n      <th>std/mean</th>\n    </tr>\n    <tr>\n      <th>item_name</th>\n      <th></th>\n      <th></th>\n      <th></th>\n      <th></th>\n    </tr>\n  </thead>\n  <tbody>\n    <tr>\n      <th>AMZN</th>\n      <td>8</td>\n      <td>4.480000</td>\n      <td>2.848807</td>\n      <td>0.635894</td>\n    </tr>\n    <tr>\n      <th>MSFT</th>\n      <td>7</td>\n      <td>3.138571</td>\n      <td>1.913101</td>\n      <td>0.609545</td>\n    </tr>\n    <tr>\n      <th>FB</th>\n      <td>7</td>\n      <td>2.660000</td>\n      <td>1.879977</td>\n      <td>0.706758</td>\n    </tr>\n    <tr>\n      <th>BABA</th>\n      <td>6</td>\n      <td>2.455000</td>\n      <td>1.058470</td>\n      <td>0.431149</td>\n    </tr>\n    <tr>\n      <th>GOOG</th>\n      <td>6</td>\n      <td>2.881667</td>\n      <td>2.104752</td>\n      <td>0.730394</td>\n    </tr>\n  </tbody>\n</table>\n</div>"
     },
     "execution_count": 21,
     "metadata": {},
     "output_type": "execute_result"
    }
   ],
   "source": [
    "stats = []\n",
    "for item in items:\n",
    "    item_stat = {\"item_name\": item, \"count\": len(items[item]),\n",
    "                 \"mean\": np.mean(items[item]), \"std\": np.std(items[item])}\n",
    "    stats.append(item_stat)\n",
    "\n",
    "df = pd.DataFrame.from_records(stats)\n",
    "df[\"std/mean\"] = df[\"std\"] / df[\"mean\"]\n",
    "df = df.set_index(\"item_name\")\n",
    "df = df.sort_values(\"count\", ascending=False).head(TOP_N_BY_COUNTS)\n",
    "df.head()"
   ]
  },
  {
   "cell_type": "code",
   "execution_count": 22,
   "metadata": {
    "collapsed": false,
    "jupyter": {
     "outputs_hidden": false
    },
    "pycharm": {
     "name": "#%%\n"
    }
   },
   "outputs": [
    {
     "data": {
      "text/plain": "   item_name  portfol_val                                       company_name\n18   9618.HK    21.247563                                         JD.com Inc\n5      NTDOY    11.013645                                    Nintendo CO Ltd\n2     PETS.L     7.764782                             Pets at Home Group Plc\n19    AIR.PA     6.920078                                       AIRBUS GROUP\n13      OTLY     6.237817                                     Oatly Group AB\n0       CHKP     6.237817                  Check Point Software Technologies\n1        USB     5.035737                                         US Bancorp\n7       SUMO     4.970760                                    Sumo Logic Inc.\n8       SPOT     4.353476                                            Spotify\n9       CRBP     3.736192                     Corbus Pharmaceuticals Holding\n4      RDS.B     3.573749  Royal Dutch Shell Shs -B- Sponsored American D...\n12      FVRR     3.118908                               Fiverr International\n15      CARA     2.501624                                  Cara Therapeutics\n16      ZYNE     2.501624                        Zynerba Pharmaceuticals Inc\n17      HAIN     1.851852                                     Hain Celestial\n6      LI.PA     1.786875                                       Klepierre SA\n11       LEG     1.786875                                Leggett & Platt Inc\n14      TROW     1.786875                             T Rowe Price Group Inc\n3    ZURN.ZU     1.786875                         Zurich Insurance Group Ltd\n10       ETN     1.786875                                     Eaton Corp PLC",
      "text/html": "<div>\n<style scoped>\n    .dataframe tbody tr th:only-of-type {\n        vertical-align: middle;\n    }\n\n    .dataframe tbody tr th {\n        vertical-align: top;\n    }\n\n    .dataframe thead th {\n        text-align: right;\n    }\n</style>\n<table border=\"1\" class=\"dataframe\">\n  <thead>\n    <tr style=\"text-align: right;\">\n      <th></th>\n      <th>item_name</th>\n      <th>portfol_val</th>\n      <th>company_name</th>\n    </tr>\n  </thead>\n  <tbody>\n    <tr>\n      <th>18</th>\n      <td>9618.HK</td>\n      <td>21.247563</td>\n      <td>JD.com Inc</td>\n    </tr>\n    <tr>\n      <th>5</th>\n      <td>NTDOY</td>\n      <td>11.013645</td>\n      <td>Nintendo CO Ltd</td>\n    </tr>\n    <tr>\n      <th>2</th>\n      <td>PETS.L</td>\n      <td>7.764782</td>\n      <td>Pets at Home Group Plc</td>\n    </tr>\n    <tr>\n      <th>19</th>\n      <td>AIR.PA</td>\n      <td>6.920078</td>\n      <td>AIRBUS GROUP</td>\n    </tr>\n    <tr>\n      <th>13</th>\n      <td>OTLY</td>\n      <td>6.237817</td>\n      <td>Oatly Group AB</td>\n    </tr>\n    <tr>\n      <th>0</th>\n      <td>CHKP</td>\n      <td>6.237817</td>\n      <td>Check Point Software Technologies</td>\n    </tr>\n    <tr>\n      <th>1</th>\n      <td>USB</td>\n      <td>5.035737</td>\n      <td>US Bancorp</td>\n    </tr>\n    <tr>\n      <th>7</th>\n      <td>SUMO</td>\n      <td>4.970760</td>\n      <td>Sumo Logic Inc.</td>\n    </tr>\n    <tr>\n      <th>8</th>\n      <td>SPOT</td>\n      <td>4.353476</td>\n      <td>Spotify</td>\n    </tr>\n    <tr>\n      <th>9</th>\n      <td>CRBP</td>\n      <td>3.736192</td>\n      <td>Corbus Pharmaceuticals Holding</td>\n    </tr>\n    <tr>\n      <th>4</th>\n      <td>RDS.B</td>\n      <td>3.573749</td>\n      <td>Royal Dutch Shell Shs -B- Sponsored American D...</td>\n    </tr>\n    <tr>\n      <th>12</th>\n      <td>FVRR</td>\n      <td>3.118908</td>\n      <td>Fiverr International</td>\n    </tr>\n    <tr>\n      <th>15</th>\n      <td>CARA</td>\n      <td>2.501624</td>\n      <td>Cara Therapeutics</td>\n    </tr>\n    <tr>\n      <th>16</th>\n      <td>ZYNE</td>\n      <td>2.501624</td>\n      <td>Zynerba Pharmaceuticals Inc</td>\n    </tr>\n    <tr>\n      <th>17</th>\n      <td>HAIN</td>\n      <td>1.851852</td>\n      <td>Hain Celestial</td>\n    </tr>\n    <tr>\n      <th>6</th>\n      <td>LI.PA</td>\n      <td>1.786875</td>\n      <td>Klepierre SA</td>\n    </tr>\n    <tr>\n      <th>11</th>\n      <td>LEG</td>\n      <td>1.786875</td>\n      <td>Leggett &amp; Platt Inc</td>\n    </tr>\n    <tr>\n      <th>14</th>\n      <td>TROW</td>\n      <td>1.786875</td>\n      <td>T Rowe Price Group Inc</td>\n    </tr>\n    <tr>\n      <th>3</th>\n      <td>ZURN.ZU</td>\n      <td>1.786875</td>\n      <td>Zurich Insurance Group Ltd</td>\n    </tr>\n    <tr>\n      <th>10</th>\n      <td>ETN</td>\n      <td>1.786875</td>\n      <td>Eaton Corp PLC</td>\n    </tr>\n  </tbody>\n</table>\n</div>"
     },
     "execution_count": 22,
     "metadata": {},
     "output_type": "execute_result"
    }
   ],
   "source": [
    "portfol_basic = df.sort_values(\"count\", ascending=False).sort_values(\"std/mean\").head(N_PORTFOLIO_ITEMS)\n",
    "portfol_basic[\"portfol_val\"] = portfol_basic[\"mean\"] * 100 / portfol_basic[\"mean\"].sum()\n",
    "portfol_basic.sort_values(\"portfol_val\", ascending=False)\n",
    "portfol_basic[\"company_name\"] = portfol_basic.index.map(ticker_to_name_mapping)\n",
    "portfol_basic.reset_index().sort_values(\"portfol_val\", ascending=False).drop([\"count\", \"mean\", \"std\", \"std/mean\"],axis=1)"
   ]
  },
  {
   "cell_type": "markdown",
   "metadata": {
    "pycharm": {
     "name": "#%% md\n"
    }
   },
   "source": [
    "# WEIGHTED PORTFOLIO"
   ]
  },
  {
   "cell_type": "code",
   "execution_count": 29,
   "metadata": {
    "collapsed": false,
    "jupyter": {
     "outputs_hidden": false
    },
    "pycharm": {
     "name": "#%%\n"
    }
   },
   "outputs": [],
   "source": [
    "# weighted portfolio settings\n",
    "N_PORTFOLIO_ITEMS = 20\n",
    "N_CLUSTERS = 2\n",
    "TOP_INVESTORS_WITHIN_CLUSTER = 2"
   ]
  },
  {
   "cell_type": "code",
   "execution_count": 30,
   "metadata": {
    "collapsed": false,
    "jupyter": {
     "outputs_hidden": false
    },
    "pycharm": {
     "name": "#%%\n"
    }
   },
   "outputs": [],
   "source": [
    "a_portfols = []\n",
    "for p in portfols:\n",
    "    for i in p[\"items\"]:\n",
    "        if i[\"type\"] == \"Buying\":\n",
    "            try:\n",
    "                a_portfols.append((p[\"investor_name\"], float(i[\"value\"].replace(\"%\", \"\")), i[\"company_ticker\"]))\n",
    "            except ValueError as e:\n",
    "                if \"<0.01\" in str(e):\n",
    "                    pass\n",
    "                else:\n",
    "                    raise (e)"
   ]
  },
  {
   "cell_type": "code",
   "execution_count": 31,
   "metadata": {
    "collapsed": false,
    "jupyter": {
     "outputs_hidden": false
    },
    "pycharm": {
     "name": "#%%\n"
    }
   },
   "outputs": [
    {
     "data": {
      "text/plain": "                cluster  Copiers WeeksSinceRegistration DailyDD WeeklyDD  \\\nticker                                                                     \ninvestor                                                                   \nCPHequities           1  20051.0                  225.0   -4.52   -11.12   \nGreenbullInvest       0   8067.0                  111.0   -3.93    -6.85   \nMarianoPardo          0   9450.0                  405.0   -4.34    -8.02   \nMiyoshi               0   9940.0                  133.0   -2.73    -5.59   \nRichardstroud         0  17494.0                  223.0   -2.48    -4.39   \nWesl3y                0  20007.0                  330.0   -3.30    -6.01   \neddyb123              0  10723.0                  268.0   -3.47    -7.65   \nrubymza               0  20480.0                  267.0   -4.64    -6.12   \n\n                RiskScore   Gain  \nticker                            \ninvestor                          \nCPHequities           4.0  94.27  \nGreenbullInvest       3.0  63.02  \nMarianoPardo          5.0  71.73  \nMiyoshi               4.0  27.30  \nRichardstroud         3.0  31.41  \nWesl3y                5.0  44.94  \neddyb123              4.0  41.22  \nrubymza               5.0  47.90  ",
      "text/html": "<div>\n<style scoped>\n    .dataframe tbody tr th:only-of-type {\n        vertical-align: middle;\n    }\n\n    .dataframe tbody tr th {\n        vertical-align: top;\n    }\n\n    .dataframe thead tr th {\n        text-align: left;\n    }\n\n    .dataframe thead tr:last-of-type th {\n        text-align: right;\n    }\n</style>\n<table border=\"1\" class=\"dataframe\">\n  <thead>\n    <tr>\n      <th></th>\n      <th>cluster</th>\n      <th>Copiers</th>\n      <th>WeeksSinceRegistration</th>\n      <th>DailyDD</th>\n      <th>WeeklyDD</th>\n      <th>RiskScore</th>\n      <th>Gain</th>\n    </tr>\n    <tr>\n      <th>ticker</th>\n      <th></th>\n      <th></th>\n      <th></th>\n      <th></th>\n      <th></th>\n      <th></th>\n      <th></th>\n    </tr>\n    <tr>\n      <th>investor</th>\n      <th></th>\n      <th></th>\n      <th></th>\n      <th></th>\n      <th></th>\n      <th></th>\n      <th></th>\n    </tr>\n  </thead>\n  <tbody>\n    <tr>\n      <th>CPHequities</th>\n      <td>1</td>\n      <td>20051.0</td>\n      <td>225.0</td>\n      <td>-4.52</td>\n      <td>-11.12</td>\n      <td>4.0</td>\n      <td>94.27</td>\n    </tr>\n    <tr>\n      <th>GreenbullInvest</th>\n      <td>0</td>\n      <td>8067.0</td>\n      <td>111.0</td>\n      <td>-3.93</td>\n      <td>-6.85</td>\n      <td>3.0</td>\n      <td>63.02</td>\n    </tr>\n    <tr>\n      <th>MarianoPardo</th>\n      <td>0</td>\n      <td>9450.0</td>\n      <td>405.0</td>\n      <td>-4.34</td>\n      <td>-8.02</td>\n      <td>5.0</td>\n      <td>71.73</td>\n    </tr>\n    <tr>\n      <th>Miyoshi</th>\n      <td>0</td>\n      <td>9940.0</td>\n      <td>133.0</td>\n      <td>-2.73</td>\n      <td>-5.59</td>\n      <td>4.0</td>\n      <td>27.30</td>\n    </tr>\n    <tr>\n      <th>Richardstroud</th>\n      <td>0</td>\n      <td>17494.0</td>\n      <td>223.0</td>\n      <td>-2.48</td>\n      <td>-4.39</td>\n      <td>3.0</td>\n      <td>31.41</td>\n    </tr>\n    <tr>\n      <th>Wesl3y</th>\n      <td>0</td>\n      <td>20007.0</td>\n      <td>330.0</td>\n      <td>-3.30</td>\n      <td>-6.01</td>\n      <td>5.0</td>\n      <td>44.94</td>\n    </tr>\n    <tr>\n      <th>eddyb123</th>\n      <td>0</td>\n      <td>10723.0</td>\n      <td>268.0</td>\n      <td>-3.47</td>\n      <td>-7.65</td>\n      <td>4.0</td>\n      <td>41.22</td>\n    </tr>\n    <tr>\n      <th>rubymza</th>\n      <td>0</td>\n      <td>20480.0</td>\n      <td>267.0</td>\n      <td>-4.64</td>\n      <td>-6.12</td>\n      <td>5.0</td>\n      <td>47.90</td>\n    </tr>\n  </tbody>\n</table>\n</div>"
     },
     "execution_count": 31,
     "metadata": {},
     "output_type": "execute_result"
    }
   ],
   "source": [
    "a_df = pd.DataFrame(data=a_portfols, columns=[\"investor\", \"percent\", \"ticker\"])\n",
    "a_df = a_df.pivot_table(index=\"investor\", columns=\"ticker\").fillna(0)\n",
    "a_df[\"cluster\"] = KMeans(n_clusters=N_CLUSTERS).fit_predict(a_df)\n",
    "fields = [\"Copiers\", \"WeeksSinceRegistration\", \"DailyDD\", \"WeeklyDD\", \"RiskScore\", \"Gain\"]\n",
    "\n",
    "for investor_name in a_df.index:\n",
    "    for field in fields:\n",
    "        a_df.loc[investor_name, field] = investors[investor_name][field]\n",
    "a_df_short = a_df.drop(\"percent\", axis=1)\n",
    "a_df_short"
   ]
  },
  {
   "cell_type": "code",
   "execution_count": 32,
   "metadata": {
    "collapsed": false,
    "jupyter": {
     "outputs_hidden": false
    },
    "pycharm": {
     "name": "#%%\n"
    }
   },
   "outputs": [
    {
     "data": {
      "text/plain": "                cluster  Copiers WeeksSinceRegistration DailyDD WeeklyDD  \\\nticker                                                                     \ninvestor                                                                   \nMarianoPardo          0   9450.0                  405.0   -4.34    -8.02   \nGreenbullInvest       0   8067.0                  111.0   -3.93    -6.85   \nCPHequities           1  20051.0                  225.0   -4.52   -11.12   \n\n                RiskScore   Gain  \nticker                            \ninvestor                          \nMarianoPardo          5.0  71.73  \nGreenbullInvest       3.0  63.02  \nCPHequities           4.0  94.27  ",
      "text/html": "<div>\n<style scoped>\n    .dataframe tbody tr th:only-of-type {\n        vertical-align: middle;\n    }\n\n    .dataframe tbody tr th {\n        vertical-align: top;\n    }\n\n    .dataframe thead tr th {\n        text-align: left;\n    }\n\n    .dataframe thead tr:last-of-type th {\n        text-align: right;\n    }\n</style>\n<table border=\"1\" class=\"dataframe\">\n  <thead>\n    <tr>\n      <th></th>\n      <th>cluster</th>\n      <th>Copiers</th>\n      <th>WeeksSinceRegistration</th>\n      <th>DailyDD</th>\n      <th>WeeklyDD</th>\n      <th>RiskScore</th>\n      <th>Gain</th>\n    </tr>\n    <tr>\n      <th>ticker</th>\n      <th></th>\n      <th></th>\n      <th></th>\n      <th></th>\n      <th></th>\n      <th></th>\n      <th></th>\n    </tr>\n    <tr>\n      <th>investor</th>\n      <th></th>\n      <th></th>\n      <th></th>\n      <th></th>\n      <th></th>\n      <th></th>\n      <th></th>\n    </tr>\n  </thead>\n  <tbody>\n    <tr>\n      <th>MarianoPardo</th>\n      <td>0</td>\n      <td>9450.0</td>\n      <td>405.0</td>\n      <td>-4.34</td>\n      <td>-8.02</td>\n      <td>5.0</td>\n      <td>71.73</td>\n    </tr>\n    <tr>\n      <th>GreenbullInvest</th>\n      <td>0</td>\n      <td>8067.0</td>\n      <td>111.0</td>\n      <td>-3.93</td>\n      <td>-6.85</td>\n      <td>3.0</td>\n      <td>63.02</td>\n    </tr>\n    <tr>\n      <th>CPHequities</th>\n      <td>1</td>\n      <td>20051.0</td>\n      <td>225.0</td>\n      <td>-4.52</td>\n      <td>-11.12</td>\n      <td>4.0</td>\n      <td>94.27</td>\n    </tr>\n  </tbody>\n</table>\n</div>"
     },
     "execution_count": 32,
     "metadata": {},
     "output_type": "execute_result"
    }
   ],
   "source": [
    "top_investors = a_df_short.groupby(\"cluster\")[\"Gain\"].nlargest(TOP_INVESTORS_WITHIN_CLUSTER).reset_index()[\"investor\"]\n",
    "a_df_short.loc[top_investors]"
   ]
  },
  {
   "cell_type": "code",
   "execution_count": 33,
   "metadata": {
    "collapsed": false,
    "jupyter": {
     "outputs_hidden": false
    },
    "pycharm": {
     "name": "#%%\n"
    }
   },
   "outputs": [],
   "source": [
    "portfol_weight = a_df.loc[top_investors][\"percent\"].sum(axis=0)\n",
    "portfol_weight = portfol_weight[portfol_weight != 0]\n",
    "portfol_weight = portfol_weight * 100 / portfol_weight.sum()\n",
    "portfol_weight = portfol_weight.sort_values(ascending=False)[:N_PORTFOLIO_ITEMS]"
   ]
  },
  {
   "cell_type": "code",
   "execution_count": 34,
   "metadata": {
    "collapsed": false,
    "jupyter": {
     "outputs_hidden": false
    },
    "pycharm": {
     "name": "#%%\n"
    }
   },
   "outputs": [
    {
     "data": {
      "text/plain": "    ticker  portfol_val                         company_name\n0     MSFT     6.344861                            Microsoft\n1     AMZN     6.026813                               Amazon\n2     GOOG     5.157212                             Alphabet\n3       FB     4.170860                             Facebook\n4     MELI     3.144249                         MercadoLibre\n5       MA     2.781916                           Mastercard\n6    BRK.B     2.765812               Berkshire Hathaway Inc\n7     AAPL     2.757760                                Apple\n8      NET     2.560490                           Cloudflare\n9       SE     2.528282                              Sea Ltd\n10       V     2.479971                                 Visa\n11    PYPL     2.278675                      PayPal Holdings\n12    FTNT     2.198156                         Fortinet Inc\n13   MC.PA     2.061275  LVMH Moet Hennessy Louis Vuitton SA\n14      SQ     1.968678                         Square, Inc.\n15    ADBE     1.779460                    Adobe Systems Inc\n16  GLEN.L     1.614397                         Glencore Plc\n17     AMD     1.549982           Advanced Micro Devices Inc\n18    NVDA     1.501671                   NVIDIA Corporation\n19     DIS     1.421152                          Walt Disney",
      "text/html": "<div>\n<style scoped>\n    .dataframe tbody tr th:only-of-type {\n        vertical-align: middle;\n    }\n\n    .dataframe tbody tr th {\n        vertical-align: top;\n    }\n\n    .dataframe thead th {\n        text-align: right;\n    }\n</style>\n<table border=\"1\" class=\"dataframe\">\n  <thead>\n    <tr style=\"text-align: right;\">\n      <th></th>\n      <th>ticker</th>\n      <th>portfol_val</th>\n      <th>company_name</th>\n    </tr>\n  </thead>\n  <tbody>\n    <tr>\n      <th>0</th>\n      <td>MSFT</td>\n      <td>6.344861</td>\n      <td>Microsoft</td>\n    </tr>\n    <tr>\n      <th>1</th>\n      <td>AMZN</td>\n      <td>6.026813</td>\n      <td>Amazon</td>\n    </tr>\n    <tr>\n      <th>2</th>\n      <td>GOOG</td>\n      <td>5.157212</td>\n      <td>Alphabet</td>\n    </tr>\n    <tr>\n      <th>3</th>\n      <td>FB</td>\n      <td>4.170860</td>\n      <td>Facebook</td>\n    </tr>\n    <tr>\n      <th>4</th>\n      <td>MELI</td>\n      <td>3.144249</td>\n      <td>MercadoLibre</td>\n    </tr>\n    <tr>\n      <th>5</th>\n      <td>MA</td>\n      <td>2.781916</td>\n      <td>Mastercard</td>\n    </tr>\n    <tr>\n      <th>6</th>\n      <td>BRK.B</td>\n      <td>2.765812</td>\n      <td>Berkshire Hathaway Inc</td>\n    </tr>\n    <tr>\n      <th>7</th>\n      <td>AAPL</td>\n      <td>2.757760</td>\n      <td>Apple</td>\n    </tr>\n    <tr>\n      <th>8</th>\n      <td>NET</td>\n      <td>2.560490</td>\n      <td>Cloudflare</td>\n    </tr>\n    <tr>\n      <th>9</th>\n      <td>SE</td>\n      <td>2.528282</td>\n      <td>Sea Ltd</td>\n    </tr>\n    <tr>\n      <th>10</th>\n      <td>V</td>\n      <td>2.479971</td>\n      <td>Visa</td>\n    </tr>\n    <tr>\n      <th>11</th>\n      <td>PYPL</td>\n      <td>2.278675</td>\n      <td>PayPal Holdings</td>\n    </tr>\n    <tr>\n      <th>12</th>\n      <td>FTNT</td>\n      <td>2.198156</td>\n      <td>Fortinet Inc</td>\n    </tr>\n    <tr>\n      <th>13</th>\n      <td>MC.PA</td>\n      <td>2.061275</td>\n      <td>LVMH Moet Hennessy Louis Vuitton SA</td>\n    </tr>\n    <tr>\n      <th>14</th>\n      <td>SQ</td>\n      <td>1.968678</td>\n      <td>Square, Inc.</td>\n    </tr>\n    <tr>\n      <th>15</th>\n      <td>ADBE</td>\n      <td>1.779460</td>\n      <td>Adobe Systems Inc</td>\n    </tr>\n    <tr>\n      <th>16</th>\n      <td>GLEN.L</td>\n      <td>1.614397</td>\n      <td>Glencore Plc</td>\n    </tr>\n    <tr>\n      <th>17</th>\n      <td>AMD</td>\n      <td>1.549982</td>\n      <td>Advanced Micro Devices Inc</td>\n    </tr>\n    <tr>\n      <th>18</th>\n      <td>NVDA</td>\n      <td>1.501671</td>\n      <td>NVIDIA Corporation</td>\n    </tr>\n    <tr>\n      <th>19</th>\n      <td>DIS</td>\n      <td>1.421152</td>\n      <td>Walt Disney</td>\n    </tr>\n  </tbody>\n</table>\n</div>"
     },
     "execution_count": 34,
     "metadata": {},
     "output_type": "execute_result"
    }
   ],
   "source": [
    "\n",
    "portfol_weight_new = portfol_weight.to_frame(\"portfol_val\")\n",
    "portfol_weight_new[\"company_name\"] = portfol_weight_new.index.map(ticker_to_name_mapping)\n",
    "portfol_weight_new = portfol_weight_new.reset_index()\n",
    "portfol_weight_new"
   ]
  },
  {
   "cell_type": "code",
   "execution_count": 16,
   "metadata": {
    "collapsed": false,
    "jupyter": {
     "outputs_hidden": false
    },
    "pycharm": {
     "name": "#%%\n"
    }
   },
   "outputs": [],
   "source": []
  }
 ],
 "metadata": {
  "kernelspec": {
   "display_name": "Python 3 (ipykernel)",
   "language": "python",
   "name": "python3"
  },
  "language_info": {
   "codemirror_mode": {
    "name": "ipython",
    "version": 3
   },
   "file_extension": ".py",
   "mimetype": "text/x-python",
   "name": "python",
   "nbconvert_exporter": "python",
   "pygments_lexer": "ipython3",
   "version": "3.9.5"
  }
 },
 "nbformat": 4,
 "nbformat_minor": 4
}