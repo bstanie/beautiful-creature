{
 "cells": [
  {
   "cell_type": "code",
   "execution_count": 1,
   "metadata": {},
   "outputs": [],
   "source": [
    "import os\n",
    "import pathlib\n",
    "import sys\n",
    "from collections import defaultdict, OrderedDict\n",
    "from datetime import datetime\n",
    "\n",
    "import numpy as np\n",
    "import pymongo\n",
    "import pandas as pd\n",
    "from sklearn.ensemble import IsolationForest\n",
    "from sklearn.cluster import DBSCAN, KMeans, AgglomerativeClustering"
   ]
  },
  {
   "cell_type": "code",
   "execution_count": 2,
   "metadata": {
    "collapsed": false,
    "jupyter": {
     "outputs_hidden": false
    },
    "pycharm": {
     "name": "#%%\n"
    },
    "scrolled": true,
    "tags": []
   },
   "outputs": [],
   "source": [
    "PROJECT_ROOT = pathlib.Path.cwd().parent\n",
    "if PROJECT_ROOT not in sys.path:\n",
    "    sys.path.append(PROJECT_ROOT)\n",
    "\n",
    "# scraper_path = str(PROJECT_ROOT / \"scrapy_projects\" / \"etoro\" / \"etoro\")\n",
    "# command = f\"cd {scraper_path} && scrapy crawl etoro_dashboard && scrapy crawl etoro_investor\"\n",
    "# print(command)\n",
    "# os.system(command)"
   ]
  },
  {
   "cell_type": "code",
   "execution_count": 3,
   "metadata": {
    "collapsed": false,
    "jupyter": {
     "outputs_hidden": false
    },
    "pycharm": {
     "name": "#%%\n"
    }
   },
   "outputs": [],
   "source": [
    "class Settings:\n",
    "    MONGODB_SERVER = \"localhost\"\n",
    "    MONGODB_PORT = 27017\n",
    "    MONGODB_DB = \"beautiful_creature\"\n",
    "    MONGODB_INVESTOR_COLLECTION = \"investors\"\n",
    "    MONGODB_PORTFOLIO_COLLECTION = \"portfolios\"\n",
    "    MONGODB_GOOGLE_TRENDS_COLLECTION = \"google_trends\"\n",
    "\n",
    "    def __getitem__(self, key):\n",
    "        return getattr(self, key)\n",
    "\n",
    "settings = Settings()\n",
    "connection = pymongo.MongoClient(\n",
    "    settings['MONGODB_SERVER'],\n",
    "    settings['MONGODB_PORT']\n",
    ")\n",
    "investor_collection_name = f\"{settings['MONGODB_INVESTOR_COLLECTION']}\"\n",
    "portfolio_collection_name = f\"{settings['MONGODB_PORTFOLIO_COLLECTION']}\"\n",
    "google_trends_collection = settings['MONGODB_GOOGLE_TRENDS_COLLECTION']\n",
    "db = connection[settings['MONGODB_DB']]\n",
    "investor_collection = db[investor_collection_name]\n",
    "portfolio_collection = db[portfolio_collection_name]\n",
    "investors = list(investor_collection.find({}))\n",
    "investors = {i[\"UserName\"]: i for i in investors}"
   ]
  },
  {
   "cell_type": "markdown",
   "metadata": {
    "pycharm": {
     "name": "#%% md\n"
    }
   },
   "source": [
    "# SIMPLE PORTOFOLIO"
   ]
  },
  {
   "cell_type": "code",
   "execution_count": 4,
   "metadata": {
    "collapsed": false,
    "jupyter": {
     "outputs_hidden": false
    },
    "pycharm": {
     "name": "#%%\n"
    }
   },
   "outputs": [],
   "source": [
    "latest_timestamp = list(portfolio_collection.find().sort(\"timestamp\", -1).limit(1))[0][\"timestamp\"]\n",
    "portfols = list(portfolio_collection.find({\"timestamp\": latest_timestamp}))"
   ]
  },
  {
   "cell_type": "code",
   "execution_count": 5,
   "metadata": {
    "collapsed": false,
    "jupyter": {
     "outputs_hidden": false
    },
    "pycharm": {
     "name": "#%%\n"
    }
   },
   "outputs": [],
   "source": [
    "items = defaultdict(list)"
   ]
  },
  {
   "cell_type": "code",
   "execution_count": 6,
   "metadata": {
    "collapsed": false,
    "jupyter": {
     "outputs_hidden": false
    },
    "pycharm": {
     "name": "#%%\n"
    }
   },
   "outputs": [],
   "source": [
    "for p in portfols:\n",
    "    for i in p[\"items\"]:\n",
    "        if i[\"type\"] == \"Buying\":\n",
    "            try:\n",
    "                items[i[\"company_ticker\"]].append(round(float(i[\"invested\"].replace(\"%\", \"\")), 3))\n",
    "            except ValueError as e:\n",
    "                if \"<0.01\" in str(e):\n",
    "                    pass\n",
    "                else:\n",
    "                    raise (e)"
   ]
  },
  {
   "cell_type": "code",
   "execution_count": 7,
   "metadata": {
    "collapsed": false,
    "jupyter": {
     "outputs_hidden": false
    },
    "pycharm": {
     "name": "#%%\n"
    }
   },
   "outputs": [],
   "source": [
    "ticker_to_name_mapping = defaultdict(str)\n",
    "for p in portfols:\n",
    "    for i in p[\"items\"]:\n",
    "        ticker_to_name_mapping[i[\"company_ticker\"]] = i.get(\"company_name\", None)"
   ]
  },
  {
   "cell_type": "code",
   "execution_count": 8,
   "metadata": {
    "collapsed": false,
    "jupyter": {
     "outputs_hidden": false
    },
    "pycharm": {
     "name": "#%%\n"
    }
   },
   "outputs": [],
   "source": [
    "# basic portfolio settings\n",
    "TOP_N_BY_COUNTS = 50\n",
    "N_PORTFOLIO_ITEMS = 20"
   ]
  },
  {
   "cell_type": "code",
   "execution_count": 9,
   "metadata": {
    "collapsed": false,
    "jupyter": {
     "outputs_hidden": false
    },
    "pycharm": {
     "name": "#%%\n"
    }
   },
   "outputs": [
    {
     "data": {
      "text/plain": "           count      mean       std  std/mean\nitem_name                                     \nAMZN           9  4.404444  2.117657  0.480800\nMSFT           9  3.092222  1.882987  0.608943\nFB             9  3.278889  1.938272  0.591137\nGOOG           8  2.755000  1.918476  0.696362\nBABA           7  2.458571  1.338202  0.544300",
      "text/html": "<div>\n<style scoped>\n    .dataframe tbody tr th:only-of-type {\n        vertical-align: middle;\n    }\n\n    .dataframe tbody tr th {\n        vertical-align: top;\n    }\n\n    .dataframe thead th {\n        text-align: right;\n    }\n</style>\n<table border=\"1\" class=\"dataframe\">\n  <thead>\n    <tr style=\"text-align: right;\">\n      <th></th>\n      <th>count</th>\n      <th>mean</th>\n      <th>std</th>\n      <th>std/mean</th>\n    </tr>\n    <tr>\n      <th>item_name</th>\n      <th></th>\n      <th></th>\n      <th></th>\n      <th></th>\n    </tr>\n  </thead>\n  <tbody>\n    <tr>\n      <th>AMZN</th>\n      <td>9</td>\n      <td>4.404444</td>\n      <td>2.117657</td>\n      <td>0.480800</td>\n    </tr>\n    <tr>\n      <th>MSFT</th>\n      <td>9</td>\n      <td>3.092222</td>\n      <td>1.882987</td>\n      <td>0.608943</td>\n    </tr>\n    <tr>\n      <th>FB</th>\n      <td>9</td>\n      <td>3.278889</td>\n      <td>1.938272</td>\n      <td>0.591137</td>\n    </tr>\n    <tr>\n      <th>GOOG</th>\n      <td>8</td>\n      <td>2.755000</td>\n      <td>1.918476</td>\n      <td>0.696362</td>\n    </tr>\n    <tr>\n      <th>BABA</th>\n      <td>7</td>\n      <td>2.458571</td>\n      <td>1.338202</td>\n      <td>0.544300</td>\n    </tr>\n  </tbody>\n</table>\n</div>"
     },
     "execution_count": 9,
     "metadata": {},
     "output_type": "execute_result"
    }
   ],
   "source": [
    "stats = []\n",
    "for item in items:\n",
    "    item_stat = {\"item_name\": item, \"count\": len(items[item]),\n",
    "                 \"mean\": np.mean(items[item]), \"std\": np.std(items[item])}\n",
    "    stats.append(item_stat)\n",
    "\n",
    "df = pd.DataFrame.from_records(stats)\n",
    "df[\"std/mean\"] = df[\"std\"] / df[\"mean\"]\n",
    "df = df.set_index(\"item_name\")\n",
    "df = df.sort_values(\"count\", ascending=False).head(TOP_N_BY_COUNTS)\n",
    "df.head()"
   ]
  },
  {
   "cell_type": "code",
   "execution_count": 10,
   "metadata": {
    "collapsed": false,
    "jupyter": {
     "outputs_hidden": false
    },
    "pycharm": {
     "name": "#%%\n"
    }
   },
   "outputs": [
    {
     "data": {
      "text/plain": "   item_name  portfol_val                company_name\n1         MA     9.159392                  Mastercard\n15       AMD     8.784319  Advanced Micro Devices Inc\n19       GLD     8.765294                        None\n17       DIS     8.502562                 Walt Disney\n14      FSLR     5.952246           First Solar, Inc.\n18      TDOC     5.816350          Teladoc Health Inc\n4        NET     5.617036                  Cloudflare\n10    FXPO.L     5.327124                Ferrexpo PLC\n7       PYPL     4.982854             PayPal Holdings\n11      SEDG     4.511748      SolarEdge Technologies\n9       LRCX     3.791499           Lam Research Corp\n3     SAN.PA     3.709962                      Sanofi\n5     OCDO.L     3.682782             Ocado Group PLC\n13         U     3.587655         Unity Software Inc.\n2    0700.HK     3.315863                     Tencent\n12      ATVI     3.288684   Activision Blizzard, Inc.\n8   ETHEREUM     3.173172                        None\n16      QCOM     3.057661                Qualcomm Inc\n6       COIN     3.044071         Coinbase Global Inc\n0        XRP     1.929724                        None",
      "text/html": "<div>\n<style scoped>\n    .dataframe tbody tr th:only-of-type {\n        vertical-align: middle;\n    }\n\n    .dataframe tbody tr th {\n        vertical-align: top;\n    }\n\n    .dataframe thead th {\n        text-align: right;\n    }\n</style>\n<table border=\"1\" class=\"dataframe\">\n  <thead>\n    <tr style=\"text-align: right;\">\n      <th></th>\n      <th>item_name</th>\n      <th>portfol_val</th>\n      <th>company_name</th>\n    </tr>\n  </thead>\n  <tbody>\n    <tr>\n      <th>1</th>\n      <td>MA</td>\n      <td>9.159392</td>\n      <td>Mastercard</td>\n    </tr>\n    <tr>\n      <th>15</th>\n      <td>AMD</td>\n      <td>8.784319</td>\n      <td>Advanced Micro Devices Inc</td>\n    </tr>\n    <tr>\n      <th>19</th>\n      <td>GLD</td>\n      <td>8.765294</td>\n      <td>None</td>\n    </tr>\n    <tr>\n      <th>17</th>\n      <td>DIS</td>\n      <td>8.502562</td>\n      <td>Walt Disney</td>\n    </tr>\n    <tr>\n      <th>14</th>\n      <td>FSLR</td>\n      <td>5.952246</td>\n      <td>First Solar, Inc.</td>\n    </tr>\n    <tr>\n      <th>18</th>\n      <td>TDOC</td>\n      <td>5.816350</td>\n      <td>Teladoc Health Inc</td>\n    </tr>\n    <tr>\n      <th>4</th>\n      <td>NET</td>\n      <td>5.617036</td>\n      <td>Cloudflare</td>\n    </tr>\n    <tr>\n      <th>10</th>\n      <td>FXPO.L</td>\n      <td>5.327124</td>\n      <td>Ferrexpo PLC</td>\n    </tr>\n    <tr>\n      <th>7</th>\n      <td>PYPL</td>\n      <td>4.982854</td>\n      <td>PayPal Holdings</td>\n    </tr>\n    <tr>\n      <th>11</th>\n      <td>SEDG</td>\n      <td>4.511748</td>\n      <td>SolarEdge Technologies</td>\n    </tr>\n    <tr>\n      <th>9</th>\n      <td>LRCX</td>\n      <td>3.791499</td>\n      <td>Lam Research Corp</td>\n    </tr>\n    <tr>\n      <th>3</th>\n      <td>SAN.PA</td>\n      <td>3.709962</td>\n      <td>Sanofi</td>\n    </tr>\n    <tr>\n      <th>5</th>\n      <td>OCDO.L</td>\n      <td>3.682782</td>\n      <td>Ocado Group PLC</td>\n    </tr>\n    <tr>\n      <th>13</th>\n      <td>U</td>\n      <td>3.587655</td>\n      <td>Unity Software Inc.</td>\n    </tr>\n    <tr>\n      <th>2</th>\n      <td>0700.HK</td>\n      <td>3.315863</td>\n      <td>Tencent</td>\n    </tr>\n    <tr>\n      <th>12</th>\n      <td>ATVI</td>\n      <td>3.288684</td>\n      <td>Activision Blizzard, Inc.</td>\n    </tr>\n    <tr>\n      <th>8</th>\n      <td>ETHEREUM</td>\n      <td>3.173172</td>\n      <td>None</td>\n    </tr>\n    <tr>\n      <th>16</th>\n      <td>QCOM</td>\n      <td>3.057661</td>\n      <td>Qualcomm Inc</td>\n    </tr>\n    <tr>\n      <th>6</th>\n      <td>COIN</td>\n      <td>3.044071</td>\n      <td>Coinbase Global Inc</td>\n    </tr>\n    <tr>\n      <th>0</th>\n      <td>XRP</td>\n      <td>1.929724</td>\n      <td>None</td>\n    </tr>\n  </tbody>\n</table>\n</div>"
     },
     "execution_count": 10,
     "metadata": {},
     "output_type": "execute_result"
    }
   ],
   "source": [
    "portfol_basic = df.sort_values(\"count\", ascending=False).sort_values(\"std/mean\").head(N_PORTFOLIO_ITEMS)\n",
    "portfol_basic[\"portfol_val\"] = portfol_basic[\"mean\"] * 100 / portfol_basic[\"mean\"].sum()\n",
    "portfol_basic.sort_values(\"portfol_val\", ascending=False)\n",
    "portfol_basic[\"company_name\"] = portfol_basic.index.map(ticker_to_name_mapping)\n",
    "portfol_basic.reset_index().sort_values(\"portfol_val\", ascending=False).drop([\"count\", \"mean\", \"std\", \"std/mean\"],axis=1)"
   ]
  },
  {
   "cell_type": "markdown",
   "metadata": {
    "pycharm": {
     "name": "#%% md\n"
    }
   },
   "source": [
    "# WEIGHTED PORTFOLIO"
   ]
  },
  {
   "cell_type": "code",
   "execution_count": 11,
   "metadata": {
    "collapsed": false,
    "jupyter": {
     "outputs_hidden": false
    },
    "pycharm": {
     "name": "#%%\n"
    }
   },
   "outputs": [],
   "source": [
    "# weighted portfolio settings\n",
    "N_PORTFOLIO_ITEMS = 20\n",
    "N_CLUSTERS = 5\n",
    "TOP_INVESTORS_WITHIN_CLUSTER = 1"
   ]
  },
  {
   "cell_type": "code",
   "execution_count": 12,
   "metadata": {
    "collapsed": false,
    "jupyter": {
     "outputs_hidden": false
    },
    "pycharm": {
     "name": "#%%\n"
    }
   },
   "outputs": [],
   "source": [
    "a_portfols = []\n",
    "for p in portfols:\n",
    "    for i in p[\"items\"]:\n",
    "        if i[\"type\"] == \"Buying\":\n",
    "            try:\n",
    "                a_portfols.append((p[\"investor_name\"], float(i[\"value\"].replace(\"%\", \"\")), i[\"company_ticker\"]))\n",
    "            except ValueError as e:\n",
    "                if \"<0.01\" in str(e):\n",
    "                    pass\n",
    "                else:\n",
    "                    raise (e)"
   ]
  },
  {
   "cell_type": "code",
   "execution_count": 13,
   "metadata": {
    "collapsed": false,
    "jupyter": {
     "outputs_hidden": false
    },
    "pycharm": {
     "name": "#%%\n"
    }
   },
   "outputs": [
    {
     "data": {
      "text/plain": "                cluster  Copiers WeeksSinceRegistration DailyDD WeeklyDD  \\\nticker                                                                     \ninvestor                                                                   \nCPHequities           3  20016.0                  223.0   -4.52   -11.12   \nGreenbullInvest       0   8138.0                  109.0   -3.93    -6.85   \nJeppeKirkBonde        0  27681.0                  416.0   -2.85    -5.61   \nMarianoPardo          0   9281.0                  403.0   -4.34    -8.02   \nMiyoshi               2   8499.0                  131.0   -2.73    -5.59   \nRichardstroud         4  17220.0                  221.0   -2.48    -4.39   \nSparkLiang            1   6966.0                  174.0   -2.48    -4.15   \nWesl3y                0  20012.0                  328.0   -3.30    -6.01   \neddyb123              0  10793.0                  266.0   -3.47    -7.65   \nrubymza               0  20550.0                  265.0   -4.64    -6.12   \n\n                RiskScore   Gain  \nticker                            \ninvestor                          \nCPHequities           4.0  90.49  \nGreenbullInvest       3.0  62.76  \nJeppeKirkBonde        4.0  54.43  \nMarianoPardo          5.0  70.49  \nMiyoshi               4.0  25.68  \nRichardstroud         4.0  30.24  \nSparkLiang            4.0  27.01  \nWesl3y                5.0  47.41  \neddyb123              4.0  43.48  \nrubymza               5.0  47.41  ",
      "text/html": "<div>\n<style scoped>\n    .dataframe tbody tr th:only-of-type {\n        vertical-align: middle;\n    }\n\n    .dataframe tbody tr th {\n        vertical-align: top;\n    }\n\n    .dataframe thead tr th {\n        text-align: left;\n    }\n\n    .dataframe thead tr:last-of-type th {\n        text-align: right;\n    }\n</style>\n<table border=\"1\" class=\"dataframe\">\n  <thead>\n    <tr>\n      <th></th>\n      <th>cluster</th>\n      <th>Copiers</th>\n      <th>WeeksSinceRegistration</th>\n      <th>DailyDD</th>\n      <th>WeeklyDD</th>\n      <th>RiskScore</th>\n      <th>Gain</th>\n    </tr>\n    <tr>\n      <th>ticker</th>\n      <th></th>\n      <th></th>\n      <th></th>\n      <th></th>\n      <th></th>\n      <th></th>\n      <th></th>\n    </tr>\n    <tr>\n      <th>investor</th>\n      <th></th>\n      <th></th>\n      <th></th>\n      <th></th>\n      <th></th>\n      <th></th>\n      <th></th>\n    </tr>\n  </thead>\n  <tbody>\n    <tr>\n      <th>CPHequities</th>\n      <td>3</td>\n      <td>20016.0</td>\n      <td>223.0</td>\n      <td>-4.52</td>\n      <td>-11.12</td>\n      <td>4.0</td>\n      <td>90.49</td>\n    </tr>\n    <tr>\n      <th>GreenbullInvest</th>\n      <td>0</td>\n      <td>8138.0</td>\n      <td>109.0</td>\n      <td>-3.93</td>\n      <td>-6.85</td>\n      <td>3.0</td>\n      <td>62.76</td>\n    </tr>\n    <tr>\n      <th>JeppeKirkBonde</th>\n      <td>0</td>\n      <td>27681.0</td>\n      <td>416.0</td>\n      <td>-2.85</td>\n      <td>-5.61</td>\n      <td>4.0</td>\n      <td>54.43</td>\n    </tr>\n    <tr>\n      <th>MarianoPardo</th>\n      <td>0</td>\n      <td>9281.0</td>\n      <td>403.0</td>\n      <td>-4.34</td>\n      <td>-8.02</td>\n      <td>5.0</td>\n      <td>70.49</td>\n    </tr>\n    <tr>\n      <th>Miyoshi</th>\n      <td>2</td>\n      <td>8499.0</td>\n      <td>131.0</td>\n      <td>-2.73</td>\n      <td>-5.59</td>\n      <td>4.0</td>\n      <td>25.68</td>\n    </tr>\n    <tr>\n      <th>Richardstroud</th>\n      <td>4</td>\n      <td>17220.0</td>\n      <td>221.0</td>\n      <td>-2.48</td>\n      <td>-4.39</td>\n      <td>4.0</td>\n      <td>30.24</td>\n    </tr>\n    <tr>\n      <th>SparkLiang</th>\n      <td>1</td>\n      <td>6966.0</td>\n      <td>174.0</td>\n      <td>-2.48</td>\n      <td>-4.15</td>\n      <td>4.0</td>\n      <td>27.01</td>\n    </tr>\n    <tr>\n      <th>Wesl3y</th>\n      <td>0</td>\n      <td>20012.0</td>\n      <td>328.0</td>\n      <td>-3.30</td>\n      <td>-6.01</td>\n      <td>5.0</td>\n      <td>47.41</td>\n    </tr>\n    <tr>\n      <th>eddyb123</th>\n      <td>0</td>\n      <td>10793.0</td>\n      <td>266.0</td>\n      <td>-3.47</td>\n      <td>-7.65</td>\n      <td>4.0</td>\n      <td>43.48</td>\n    </tr>\n    <tr>\n      <th>rubymza</th>\n      <td>0</td>\n      <td>20550.0</td>\n      <td>265.0</td>\n      <td>-4.64</td>\n      <td>-6.12</td>\n      <td>5.0</td>\n      <td>47.41</td>\n    </tr>\n  </tbody>\n</table>\n</div>"
     },
     "execution_count": 13,
     "metadata": {},
     "output_type": "execute_result"
    }
   ],
   "source": [
    "a_df = pd.DataFrame(data=a_portfols, columns=[\"investor\", \"percent\", \"ticker\"])\n",
    "a_df = a_df.pivot_table(index=\"investor\", columns=\"ticker\").fillna(0)\n",
    "a_df[\"cluster\"] = KMeans(n_clusters=N_CLUSTERS).fit_predict(a_df)\n",
    "fields = [\"Copiers\", \"WeeksSinceRegistration\", \"DailyDD\", \"WeeklyDD\", \"RiskScore\", \"Gain\"]\n",
    "\n",
    "for investor_name in a_df.index:\n",
    "    for field in fields:\n",
    "        a_df.loc[investor_name, field] = investors[investor_name][field]\n",
    "a_df_short = a_df.drop(\"percent\", axis=1)\n",
    "a_df_short"
   ]
  },
  {
   "cell_type": "code",
   "execution_count": 20,
   "metadata": {
    "collapsed": false,
    "jupyter": {
     "outputs_hidden": false
    },
    "pycharm": {
     "name": "#%%\n"
    }
   },
   "outputs": [
    {
     "data": {
      "text/plain": "              cluster  Copiers WeeksSinceRegistration DailyDD WeeklyDD  \\\nticker                                                                   \ninvestor                                                                 \nMarianoPardo        0   9281.0                  403.0   -4.34    -8.02   \nSparkLiang          1   6966.0                  174.0   -2.48    -4.15   \nMiyoshi             2   8499.0                  131.0   -2.73    -5.59   \nCPHequities         3  20016.0                  223.0   -4.52   -11.12   \nRichardstroud       4  17220.0                  221.0   -2.48    -4.39   \n\n              RiskScore   Gain  \nticker                          \ninvestor                        \nMarianoPardo        5.0  70.49  \nSparkLiang          4.0  27.01  \nMiyoshi             4.0  25.68  \nCPHequities         4.0  90.49  \nRichardstroud       4.0  30.24  ",
      "text/html": "<div>\n<style scoped>\n    .dataframe tbody tr th:only-of-type {\n        vertical-align: middle;\n    }\n\n    .dataframe tbody tr th {\n        vertical-align: top;\n    }\n\n    .dataframe thead tr th {\n        text-align: left;\n    }\n\n    .dataframe thead tr:last-of-type th {\n        text-align: right;\n    }\n</style>\n<table border=\"1\" class=\"dataframe\">\n  <thead>\n    <tr>\n      <th></th>\n      <th>cluster</th>\n      <th>Copiers</th>\n      <th>WeeksSinceRegistration</th>\n      <th>DailyDD</th>\n      <th>WeeklyDD</th>\n      <th>RiskScore</th>\n      <th>Gain</th>\n    </tr>\n    <tr>\n      <th>ticker</th>\n      <th></th>\n      <th></th>\n      <th></th>\n      <th></th>\n      <th></th>\n      <th></th>\n      <th></th>\n    </tr>\n    <tr>\n      <th>investor</th>\n      <th></th>\n      <th></th>\n      <th></th>\n      <th></th>\n      <th></th>\n      <th></th>\n      <th></th>\n    </tr>\n  </thead>\n  <tbody>\n    <tr>\n      <th>MarianoPardo</th>\n      <td>0</td>\n      <td>9281.0</td>\n      <td>403.0</td>\n      <td>-4.34</td>\n      <td>-8.02</td>\n      <td>5.0</td>\n      <td>70.49</td>\n    </tr>\n    <tr>\n      <th>SparkLiang</th>\n      <td>1</td>\n      <td>6966.0</td>\n      <td>174.0</td>\n      <td>-2.48</td>\n      <td>-4.15</td>\n      <td>4.0</td>\n      <td>27.01</td>\n    </tr>\n    <tr>\n      <th>Miyoshi</th>\n      <td>2</td>\n      <td>8499.0</td>\n      <td>131.0</td>\n      <td>-2.73</td>\n      <td>-5.59</td>\n      <td>4.0</td>\n      <td>25.68</td>\n    </tr>\n    <tr>\n      <th>CPHequities</th>\n      <td>3</td>\n      <td>20016.0</td>\n      <td>223.0</td>\n      <td>-4.52</td>\n      <td>-11.12</td>\n      <td>4.0</td>\n      <td>90.49</td>\n    </tr>\n    <tr>\n      <th>Richardstroud</th>\n      <td>4</td>\n      <td>17220.0</td>\n      <td>221.0</td>\n      <td>-2.48</td>\n      <td>-4.39</td>\n      <td>4.0</td>\n      <td>30.24</td>\n    </tr>\n  </tbody>\n</table>\n</div>"
     },
     "execution_count": 20,
     "metadata": {},
     "output_type": "execute_result"
    }
   ],
   "source": [
    "top_investors = a_df_short.groupby(\"cluster\")[\"Gain\"].nlargest(TOP_INVESTORS_WITHIN_CLUSTER).reset_index()[\"investor\"]\n",
    "a_df_short.loc[top_investors]"
   ]
  },
  {
   "cell_type": "code",
   "execution_count": 21,
   "metadata": {
    "collapsed": false,
    "jupyter": {
     "outputs_hidden": false
    },
    "pycharm": {
     "name": "#%%\n"
    }
   },
   "outputs": [],
   "source": [
    "portfol_weight = a_df.loc[top_investors][\"percent\"].sum(axis=0)\n",
    "portfol_weight = portfol_weight[portfol_weight != 0]\n",
    "portfol_weight = portfol_weight * 100 / portfol_weight.sum()\n",
    "portfol_weight = portfol_weight.sort_values(ascending=False)[:N_PORTFOLIO_ITEMS]"
   ]
  },
  {
   "cell_type": "code",
   "execution_count": 22,
   "metadata": {
    "collapsed": false,
    "jupyter": {
     "outputs_hidden": false
    },
    "pycharm": {
     "name": "#%%\n"
    }
   },
   "outputs": [
    {
     "data": {
      "text/plain": "     ticker  portfol_val                           company_name\n0      AMZN     5.343700                                 Amazon\n1      SHOP     5.222355                           Shopify Inc.\n2      MSFT     4.222377                              Microsoft\n3        FB     4.087549                               Facebook\n4      AAPL     3.510033                                  Apple\n5       DIS     3.337004                            Walt Disney\n6   9988.HK     2.853868  Alibaba Group Holding Ltd (Hong Kong)\n7        SQ     2.748253                           Square, Inc.\n8      GOOG     2.615672                               Alphabet\n9      PYPL     2.404440                        PayPal Holdings\n10        V     2.402193                                   Visa\n11       MA     2.260623                             Mastercard\n12   SPY5.L     2.150513                                   None\n13     CRSR     1.732545                     Corsair Gaming Inc\n14      AMD     1.728051             Advanced Micro Devices Inc\n15     MELI     1.728051                           MercadoLibre\n16    JD.US     1.635918                                 JD.com\n17  9618.HK     1.631424                             JD.com Inc\n18       SE     1.606705                                Sea Ltd\n19     BABA     1.559516                                Alibaba",
      "text/html": "<div>\n<style scoped>\n    .dataframe tbody tr th:only-of-type {\n        vertical-align: middle;\n    }\n\n    .dataframe tbody tr th {\n        vertical-align: top;\n    }\n\n    .dataframe thead th {\n        text-align: right;\n    }\n</style>\n<table border=\"1\" class=\"dataframe\">\n  <thead>\n    <tr style=\"text-align: right;\">\n      <th></th>\n      <th>ticker</th>\n      <th>portfol_val</th>\n      <th>company_name</th>\n    </tr>\n  </thead>\n  <tbody>\n    <tr>\n      <th>0</th>\n      <td>AMZN</td>\n      <td>5.343700</td>\n      <td>Amazon</td>\n    </tr>\n    <tr>\n      <th>1</th>\n      <td>SHOP</td>\n      <td>5.222355</td>\n      <td>Shopify Inc.</td>\n    </tr>\n    <tr>\n      <th>2</th>\n      <td>MSFT</td>\n      <td>4.222377</td>\n      <td>Microsoft</td>\n    </tr>\n    <tr>\n      <th>3</th>\n      <td>FB</td>\n      <td>4.087549</td>\n      <td>Facebook</td>\n    </tr>\n    <tr>\n      <th>4</th>\n      <td>AAPL</td>\n      <td>3.510033</td>\n      <td>Apple</td>\n    </tr>\n    <tr>\n      <th>5</th>\n      <td>DIS</td>\n      <td>3.337004</td>\n      <td>Walt Disney</td>\n    </tr>\n    <tr>\n      <th>6</th>\n      <td>9988.HK</td>\n      <td>2.853868</td>\n      <td>Alibaba Group Holding Ltd (Hong Kong)</td>\n    </tr>\n    <tr>\n      <th>7</th>\n      <td>SQ</td>\n      <td>2.748253</td>\n      <td>Square, Inc.</td>\n    </tr>\n    <tr>\n      <th>8</th>\n      <td>GOOG</td>\n      <td>2.615672</td>\n      <td>Alphabet</td>\n    </tr>\n    <tr>\n      <th>9</th>\n      <td>PYPL</td>\n      <td>2.404440</td>\n      <td>PayPal Holdings</td>\n    </tr>\n    <tr>\n      <th>10</th>\n      <td>V</td>\n      <td>2.402193</td>\n      <td>Visa</td>\n    </tr>\n    <tr>\n      <th>11</th>\n      <td>MA</td>\n      <td>2.260623</td>\n      <td>Mastercard</td>\n    </tr>\n    <tr>\n      <th>12</th>\n      <td>SPY5.L</td>\n      <td>2.150513</td>\n      <td>None</td>\n    </tr>\n    <tr>\n      <th>13</th>\n      <td>CRSR</td>\n      <td>1.732545</td>\n      <td>Corsair Gaming Inc</td>\n    </tr>\n    <tr>\n      <th>14</th>\n      <td>AMD</td>\n      <td>1.728051</td>\n      <td>Advanced Micro Devices Inc</td>\n    </tr>\n    <tr>\n      <th>15</th>\n      <td>MELI</td>\n      <td>1.728051</td>\n      <td>MercadoLibre</td>\n    </tr>\n    <tr>\n      <th>16</th>\n      <td>JD.US</td>\n      <td>1.635918</td>\n      <td>JD.com</td>\n    </tr>\n    <tr>\n      <th>17</th>\n      <td>9618.HK</td>\n      <td>1.631424</td>\n      <td>JD.com Inc</td>\n    </tr>\n    <tr>\n      <th>18</th>\n      <td>SE</td>\n      <td>1.606705</td>\n      <td>Sea Ltd</td>\n    </tr>\n    <tr>\n      <th>19</th>\n      <td>BABA</td>\n      <td>1.559516</td>\n      <td>Alibaba</td>\n    </tr>\n  </tbody>\n</table>\n</div>"
     },
     "execution_count": 22,
     "metadata": {},
     "output_type": "execute_result"
    }
   ],
   "source": [
    "\n",
    "portfol_weight_new = portfol_weight.to_frame(\"portfol_val\")\n",
    "portfol_weight_new[\"company_name\"] = portfol_weight_new.index.map(ticker_to_name_mapping)\n",
    "portfol_weight_new = portfol_weight_new.reset_index()\n",
    "portfol_weight_new"
   ]
  },
  {
   "cell_type": "code",
   "execution_count": 16,
   "metadata": {
    "collapsed": false,
    "jupyter": {
     "outputs_hidden": false
    },
    "pycharm": {
     "name": "#%%\n"
    }
   },
   "outputs": [],
   "source": []
  }
 ],
 "metadata": {
  "kernelspec": {
   "display_name": "Python 3 (ipykernel)",
   "language": "python",
   "name": "python3"
  },
  "language_info": {
   "codemirror_mode": {
    "name": "ipython",
    "version": 3
   },
   "file_extension": ".py",
   "mimetype": "text/x-python",
   "name": "python",
   "nbconvert_exporter": "python",
   "pygments_lexer": "ipython3",
   "version": "3.9.5"
  }
 },
 "nbformat": 4,
 "nbformat_minor": 4
}